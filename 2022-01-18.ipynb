{
 "cells": [
  {
   "cell_type": "code",
   "execution_count": 2,
   "id": "974117ce",
   "metadata": {
    "scrolled": true
   },
   "outputs": [
    {
     "name": "stdout",
     "output_type": "stream",
     "text": [
      "HELLO WORLD\n",
      "안녕 세상아\n"
     ]
    }
   ],
   "source": [
    "#cell(셀)\n",
    "#현재 cell안의 코드를 실행시키려면 ctrl + enter\n",
    "print('HELLO WORLD')\n",
    "print(\"안녕 세상아\")\n",
    "#만약 새로운 cell을 만들려면, above,below\n",
    "# b를 누르면 below, a를 누르면 above\n",
    "#dd를 누르면 cell 삭제"
   ]
  },
  {
   "cell_type": "code",
   "execution_count": null,
   "id": "fd2f6f87",
   "metadata": {},
   "outputs": [],
   "source": []
  }
 ],
 "metadata": {
  "kernelspec": {
   "display_name": "Python [conda env:data_env] *",
   "language": "python",
   "name": "conda-env-data_env-py"
  },
  "language_info": {
   "codemirror_mode": {
    "name": "ipython",
    "version": 3
   },
   "file_extension": ".py",
   "mimetype": "text/x-python",
   "name": "python",
   "nbconvert_exporter": "python",
   "pygments_lexer": "ipython3",
   "version": "3.8.12"
  }
 },
 "nbformat": 4,
 "nbformat_minor": 5
}
