{
 "cells": [
  {
   "cell_type": "code",
   "execution_count": 10,
   "id": "a6afc80e",
   "metadata": {},
   "outputs": [
    {
     "name": "stdout",
     "output_type": "stream",
     "text": [
      "123\n",
      "10\n"
     ]
    }
   ],
   "source": [
    "# 자동차 class 만들기\n",
    "# property = 변수\n",
    "\n",
    "class Car(object):\n",
    "    \n",
    "#     모든 class안에는 특별한 형태의 함수 사용가능\n",
    "#     __이름__()  -->  magic function\n",
    "#     def __init__(self):\n",
    "#         # pass  #수행할 코드가 없으면 pass를 써야 코드오류가 안남\n",
    "# car1 = Car()        \n",
    "\n",
    "    def __init__(self, car_number, car_price, car_speed):  # stack에 생겼다가 없어지는 매개변수\n",
    "            self.car_number = car_number #self.car_number는 객체 안에 존재하는 property \n",
    "            self.car_price = car_price\n",
    "            self.car_speed = car_speed\n",
    "\n",
    "    # method\n",
    "    # 일반적으로 method는 property와 연계되요! (항상 그런건 아님)\n",
    "    def go_front(self):\n",
    "        self.car_speed += 10\n",
    "        \n",
    "    \n",
    "car1 = Car('123', 1000, 0)\n",
    "car2 = Car('456', 2000, 20)\n",
    "\n",
    "# 이렇게 만들어지는 객체를 다른말로\n",
    "# instance(class를 기반으로 생성된 메모리 공간)라고 함\n",
    "# __init__()  -->  instance를 초기화 해주는 역할을 수행하기 때문에 initializer라고 하기도 함\n",
    "#                  자동으로 호출 (명시적 호출을 하지 않음)\n",
    "# property는 instance내에 생성되는 변수를 지칭\n",
    "\n",
    "\n",
    "# . (dot operator)를 이용해서 instance를 사용할 수 있음\n",
    "# (instance를 지칭하는 reference).(instance가 가지고 있는 property)\n",
    "# 너무 기니까 -> (instance(객체)).(property)\n",
    "#                (instance).(method)\n",
    "# instance가 있다는 얘기는 class가 존재한다는 의미\n",
    "\n",
    "print(car1.car_number)\n",
    "car1.go_front() # car1의 속도가 증가\n",
    "print(car1.car_speed)"
   ]
  },
  {
   "cell_type": "code",
   "execution_count": 11,
   "id": "0ac819a1",
   "metadata": {},
   "outputs": [],
   "source": [
    "# class를 조금 다른 각도에서 생각해보자!\n",
    "\n",
    "# 1. class는 객체 모델링의 수단\n",
    "# 2. 여러 데이터 타입을 묶어서 하나의 새로운 데이터 타입으로 볼 수 있음\n",
    "#     ADT(Abstract Data Type)\n",
    "# 3. instance를 만들어내는 도구"
   ]
  },
  {
   "cell_type": "code",
   "execution_count": 12,
   "id": "df70af9c",
   "metadata": {},
   "outputs": [
    {
     "name": "stdout",
     "output_type": "stream",
     "text": [
      "123\n"
     ]
    }
   ],
   "source": [
    "# magic function  ->  __init__, __str__\n",
    "class Car(object):\n",
    "    \n",
    "    def __init__(self, car_number, car_price, car_speed):  # stack에 생겼다가 없어지는 매개변수\n",
    "            self.car_number = car_number #self.car_number는 객체 안에 존재하는 property \n",
    "            self.car_price = car_price\n",
    "            self.car_speed = car_speed\n",
    "    \n",
    "    def __str__(self):\n",
    "        return self.car_number\n",
    "    \n",
    "car1 = Car('123', 1000, 0)\n",
    "\n",
    "# print()인자로 들어온 parameter를 문자열로 변경해서 출력하는 함수\n",
    "# 만약 인자로 객체가 들어오고 해당 객체에 __str__이 존재하면 이 함수를\n",
    "# 호출해서 그 결과를 출력\n",
    "\n",
    "print(car1)"
   ]
  },
  {
   "cell_type": "code",
   "execution_count": 16,
   "id": "3cdeab8f",
   "metadata": {},
   "outputs": [
    {
     "name": "stdout",
     "output_type": "stream",
     "text": [
      "120\n",
      "120\n",
      "정상속도여~\n",
      "100\n",
      "100\n"
     ]
    }
   ],
   "source": [
    "# class 안에서\n",
    "#instance variable과 class variable\n",
    "# property는 instance variable과 class variable로 구분되요!\n",
    "# instance variable은 instance마다 각자 따로 가지고 있는 property들 지칭\n",
    "\n",
    "class Car(object):\n",
    "    is_speeding = 120   # class variable(과속 기준)\n",
    "    \n",
    "    # initializer\n",
    "    def __init__(self, car_number, car_price, car_speed):  \n",
    "            self.car_number = car_number             \n",
    "            self.car_price = car_price   #instance variable (instance마다 공간이 따로 생김)\n",
    "            self.car_speed = car_speed   # instance vairable\n",
    "    \n",
    "    def __str__(self):\n",
    "        return self.car_number\n",
    "\n",
    "    def find_speeding(self):\n",
    "        if self.car_speed > Car.is_speeding:\n",
    "            # if self.car_speed > self.is_speeding 이렇게 써도 됨\n",
    "            return '과속했수다!'\n",
    "        else:\n",
    "            return '정상속도여~'\n",
    "            \n",
    "car1 = Car('123', 1000, 0)\n",
    "car2 = Car('456', 2000, 20)\n",
    "\n",
    "# class variable은 class이름으로 사용할 수 있네요!\n",
    "# (instance or class).(property)\n",
    "print(Car.is_speeding)\n",
    "print(car1.is_speeding)   # instance namespace에서 못찾으면 class namespace에 가서 찾아서 오류가 아님\n",
    "\n",
    "print(car1.find_speeding())\n",
    "\n",
    "# Car.is_speeding =100 class를 이용해서 class variable값을 수정\n",
    "Car.is_speeding=100\n",
    "print(Car.is_speeding)\n",
    "print(car1.is_speeding)\n",
    "\n",
    "car1.is_speeding = 100 \n",
    "# instance 를 이용해서 class variable의 값을 수정  --> instance variable이 없으면 생성해버림"
   ]
  },
  {
   "cell_type": "code",
   "execution_count": 17,
   "id": "f0819878",
   "metadata": {},
   "outputs": [
    {
     "name": "stdout",
     "output_type": "stream",
     "text": [
      "생명력 : 100\n",
      "공격력 : 200\n"
     ]
    }
   ],
   "source": [
    "class Unit(object):\n",
    "    def __init__(self,life):\n",
    "        self.life = life\n",
    "        \n",
    "    def show_status(self):\n",
    "        print('생명력 : {}'.format(self.life))\n",
    "\n",
    "class Marine(Unit):\n",
    "    def __init__(self, life, damage):\n",
    "        # 상위 class의 __init__을 호출\n",
    "        super(Marine, self).__init__(life)\n",
    "        self.damage = damage\n",
    "    \n",
    "    def show_status(self):\n",
    "        super(Marine,self).show_status()\n",
    "        print('공격력 : {}'.format(self.damage))\n",
    "\n",
    "unit2 = Marine(100,200)\n",
    "unit2.show_status()"
   ]
  },
  {
   "cell_type": "code",
   "execution_count": null,
   "id": "f4b56cfe",
   "metadata": {},
   "outputs": [],
   "source": [
    "class Unit(object):\n",
    "    \n",
    "    def __init__(self,life):\n",
    "        self.life = life\n",
    "        \n",
    "    def show_status(self):\n",
    "        print('생명력 : {}'.format(self.life))\n",
    "    \n",
    "unit1 = Unit(100)\n",
    "unit1.show_status()   # 생명력 : 100\n",
    "\n",
    "class Marine(object):\n",
    "\n",
    "    def __init__(self,life, damage):\n",
    "        self.life = life\n",
    "        self.damage = damage\n",
    "        \n",
    "    def show_status(self):\n",
    "        print('생명력 : {}'.format(self.life))\n",
    "        print('공격력 : {}'.format(self.damage))\n",
    "        \n",
    "# 이렇게 따로 만들어서 사용하는 것 보다는\n",
    "# 상속관계를 이용해서 구현하는게 좋아요!\n",
    "        "
   ]
  },
  {
   "cell_type": "code",
   "execution_count": 15,
   "id": "0aa5b6d1",
   "metadata": {},
   "outputs": [
    {
     "name": "stdout",
     "output_type": "stream",
     "text": [
      "생명력 : 100\n",
      "생명력 : 200\n"
     ]
    }
   ],
   "source": [
    "# 사용자가 만드는 모든 class는 object라는 이름의 class를 상속하고 있어요!\n",
    "# unit class는 스타크래프트 모든 unit의 상위클래스\n",
    "\n",
    "class Unit(object):\n",
    "    def __init__(self,life):\n",
    "        self.life = life\n",
    "        \n",
    "    def show_status(self):\n",
    "        print('생명력 : {}'.format(self.life))\n",
    "\n",
    "unit1 = Unit(100)\n",
    "unit1.show_status()\n",
    "\n",
    "class Marine(Unit):\n",
    "    pass\n",
    "\n",
    "unit2 = Marine(200)\n",
    "unit2.show_status()"
   ]
  },
  {
   "cell_type": "code",
   "execution_count": 1,
   "id": "9823676e",
   "metadata": {},
   "outputs": [],
   "source": [
    "# module은 내가 만들수도 있고 다른사람이 만든 모듈을 사용할 수도 있음\n",
    "\n",
    "# moduele : 함수나 변수, class를 모아놓은 파일을 지칭!(확장자가 .py로 끝나는)\n",
    "# 그럼 왜 이렇게 module을 만드나요? -> 다른 파일에서 사용하기 위해\n",
    "\n",
    "# module을 이용하기 위해서는 몇가지 방법이 존재\n",
    "# 가장 쉬운방법\n",
    "# 특정 폴더를 module 폴더로 지정. 그리고 그 안에 python module(파일)을 생성\n",
    "# 그리고 그 안에 python module(파일)을 생성 -> my_module.py"
   ]
  },
  {
   "cell_type": "code",
   "execution_count": 3,
   "id": "548c48a0",
   "metadata": {},
   "outputs": [
    {
     "name": "stdout",
     "output_type": "stream",
     "text": [
      "3.141592\n",
      "30\n"
     ]
    }
   ],
   "source": [
    "# module을 불러들여 보아요!\n",
    "# module을 불러들이기 위해 import라는 keyword 사용\n",
    "# 모듈의 이름만 적기! (확장장 .py는 제외하기)\n",
    "import my_module\n",
    "\n",
    "# module은 객체\n",
    "print(my_module.my_var)\n",
    "print(my_module.my_func(10,20))"
   ]
  },
  {
   "cell_type": "code",
   "execution_count": 5,
   "id": "48926866",
   "metadata": {},
   "outputs": [
    {
     "name": "stdout",
     "output_type": "stream",
     "text": [
      "3.141592\n",
      "30\n"
     ]
    }
   ],
   "source": [
    "# as : alias(별칭)\n",
    "import my_module as m\n",
    "\n",
    "print(m.my_var)\n",
    "print(m.my_func(10,20))"
   ]
  },
  {
   "cell_type": "code",
   "execution_count": 6,
   "id": "0bb0dda0",
   "metadata": {},
   "outputs": [
    {
     "name": "stdout",
     "output_type": "stream",
     "text": [
      "3.141592\n"
     ]
    }
   ],
   "source": [
    "from my_module import my_var\n",
    "print(my_var)"
   ]
  },
  {
   "cell_type": "code",
   "execution_count": 7,
   "id": "ac46a4ea",
   "metadata": {},
   "outputs": [
    {
     "name": "stdout",
     "output_type": "stream",
     "text": [
      "3.141592\n",
      "30\n"
     ]
    }
   ],
   "source": [
    "from my_module import *\n",
    "print(my_var)\n",
    "print(my_func(10,20))"
   ]
  },
  {
   "cell_type": "code",
   "execution_count": 8,
   "id": "51c66e70",
   "metadata": {},
   "outputs": [
    {
     "name": "stdout",
     "output_type": "stream",
     "text": [
      "1000\n"
     ]
    }
   ],
   "source": [
    "import folderA.folderB.module2\n",
    "print(folderA.folderB.module2.my_var)"
   ]
  },
  {
   "cell_type": "code",
   "execution_count": null,
   "id": "06c2b53f",
   "metadata": {},
   "outputs": [],
   "source": [
    "import folderA.folderB.module2 as m2\n",
    "print(m2.my_var)\n",
    "\n",
    "from folderA.folderB import module2\n",
    "print(module2.my_var)"
   ]
  }
 ],
 "metadata": {
  "kernelspec": {
   "display_name": "Python [conda env:data_env] *",
   "language": "python",
   "name": "conda-env-data_env-py"
  },
  "language_info": {
   "codemirror_mode": {
    "name": "ipython",
    "version": 3
   },
   "file_extension": ".py",
   "mimetype": "text/x-python",
   "name": "python",
   "nbconvert_exporter": "python",
   "pygments_lexer": "ipython3",
   "version": "3.8.12"
  }
 },
 "nbformat": 4,
 "nbformat_minor": 5
}
