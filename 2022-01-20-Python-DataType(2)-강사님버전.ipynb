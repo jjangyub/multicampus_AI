{
 "cells": [
  {
   "cell_type": "code",
   "execution_count": null,
   "id": "9b1eb830",
   "metadata": {},
   "outputs": [],
   "source": [
    "# Sequence\n",
    "# - <class list>\n",
    "# - <class tuple>\n",
    "# 여러개의 데이터를 방을 이용해서 저장하는 자료구조.\n",
    "# 실제 데이터를 가지고 있어요!"
   ]
  },
  {
   "cell_type": "code",
   "execution_count": 8,
   "id": "414cc5f1",
   "metadata": {},
   "outputs": [
    {
     "name": "stdout",
     "output_type": "stream",
     "text": [
      "11\n",
      "range(15, 20)\n"
     ]
    }
   ],
   "source": [
    "# - <class range>\n",
    "# 숫자만 해당. 실제 데이터를 가지고 있지 않아요!\n",
    "\n",
    "# a = range(초기값, 마지막값, 증가값)\n",
    "# a = range(0, 10, 1)  # 0,1,2,3,4,...9\n",
    "# print(a)\n",
    "\n",
    "# list, tuple같은 경우 1000000개의 데이터를 가지고 있으면 실제 메모리양도\n",
    "# 데이터 개수만큼 많이 필요!\n",
    "# 하지만 range은 실제데이터가 아닌 데이터의 영역(range)에 대한 의미만\n",
    "# 저장하기 때문에 작은 메모리 공간으로 많은 데이터를 표현할 수 있어요!\n",
    "\n",
    "# 일반적으로 아래와 같이 사용\n",
    "# a = range(10)  #  range(0, 10, 1)\n",
    "# print(a)       #  range(0, 10)\n",
    "# a = range(4, 100, 2)\n",
    "# print(a)\n",
    "\n",
    "# 많이 사용하는 새로운 연산자 하나만 살펴보아요!\n",
    "# 어제 했던 여러가지 연산자 => +, -, * , /, %, //, ==, is\n",
    "# in   안에 들어있나요??? (논리연산자)\n",
    "\n",
    "# print(6 in range(10))   # True\n",
    "\n",
    "# indexing, slicing\n",
    "a = range(10,50,1)\n",
    "print(a[1])   # 11  indexing이 가능해요!\n",
    "print(a[5:10]) # range(15, 20)  slicing은 원본의 type을 유지"
   ]
  },
  {
   "cell_type": "code",
   "execution_count": null,
   "id": "399f7f97",
   "metadata": {},
   "outputs": [],
   "source": [
    "# Python built-in Data Type\n",
    "# 1. Numeric Type\n",
    "#    <class int>\n",
    "#    <class float>\n",
    "# 2. Sequence Type\n",
    "#    <class list>\n",
    "#    <class tuple>\n",
    "#    <class range>\n",
    "# 3. Text Sequence Type\n",
    "#    <class str>\n"
   ]
  },
  {
   "cell_type": "code",
   "execution_count": 27,
   "id": "05fc2fb3",
   "metadata": {},
   "outputs": [
    {
     "name": "stdout",
     "output_type": "stream",
     "text": [
      "바바나 개수 : 10\n"
     ]
    }
   ],
   "source": [
    "# 문자열\n",
    "\n",
    "# 다른언어(C, Java)에서\n",
    "# 문자 => 1글자 => 'a'  (Character) \n",
    "# 문자열 => 1글자를 포함한 여러글자 => \"aaa\"   \"a\" (String)\n",
    "\n",
    "# Python은 문자와 문자열을 구분하지 않아요!\n",
    "# Python은 문자개념이 없어요.. 그냥 몽땅다 문자열\n",
    "# '' , \"\" 두 표현이 같은 표현이예요. 맘에 드시는거 쓰면 됩니다.\n",
    "# 일반적으로 문자열을 표현할때는 '' 을 관용적으로 이용.\n",
    "# a = '소리없는 아우성!!'\n",
    "# b = 'hello world'\n",
    "\n",
    "# print(type(a))   # <class 'str'>\n",
    "\n",
    "a = 'Hello'\n",
    "b = 'World'\n",
    "\n",
    "# + => 숫자에 대해서는 더하기 연산\n",
    "#   => list에 대해서는 concatenation\n",
    "# result = a + b\n",
    "# print(result)\n",
    "\n",
    "# indexing, slicing이 가능\n",
    "a = 'this is a sample text'\n",
    "\n",
    "# print(a[0]) # t\n",
    "# print(a[-1]) # t (마지막 t)\n",
    "# print(a[2:6])  # is i\n",
    "\n",
    "# print('sam' in a)   # True\n",
    "# print('haha' not in a) # True\n",
    "\n",
    "a = 'this is a sample text'\n",
    "# result = a.upper()\n",
    "# print(result)\n",
    "\n",
    "# 위의 예 처럼 상당히 많은 기능(메소드)을 가지고 있어요!\n",
    "# 이런 기능들이 나올때마다 하나씩 알아볼꺼예요!\n",
    "# 필수적인 기능 몇가지만 알아보아요!\n",
    "\n",
    "# a = '   이것은 소리없는 아우성   '\n",
    "# a = 'show me the money'\n",
    "# 1. 이 문자열의 전체 길이는 얼마인가요? 18개의 글자\n",
    "# print(len(a))   # 18\n",
    "# 2. 문자열의 앞 뒤 공백을 제거하려면 어떻게 해야 하나요?\n",
    "# print(a.strip())\n",
    "# 3. 문자열 중 일부분을 다른 문자열로 변경하려면 어떻게 해야 하나요?\n",
    "#    money => code\n",
    "# result = a.replace('money', 'code')\n",
    "# print(result)\n",
    "# 아하..그러면 이런 기능(함수, 메소드)을 많이 알면 알수록 프로그램을\n",
    "# 쉽게 만들 수 있겠네요?? => 네 맞아요!\n",
    "# 그러면 이거 다 외워야 하나요? => 검색(구글링), API reference\n",
    "# 4. 문자열의 일부분을 치환하는 방법\n",
    "\n",
    "num_banana = 10\n",
    "num_apple = 2\n",
    "\n",
    "# a = '나는 바나나를 {}개 가지고 있고 사과를 {}개 가지고 있어요!'\n",
    "# result = a.format(num_banana,num_apple)\n",
    "# print(result)\n",
    "# print('바바나 개수 : {}'.format(num_banana))"
   ]
  },
  {
   "cell_type": "code",
   "execution_count": null,
   "id": "f9b86d6a",
   "metadata": {},
   "outputs": [],
   "source": [
    "# Python built-in Data Type\n",
    "# 1. Numeric Type\n",
    "#    <class int>\n",
    "#    <class float>\n",
    "# 2. Sequence Type\n",
    "#    <class list>\n",
    "#    <class tuple>\n",
    "#    <class range>\n",
    "# 3. Text Sequence Type\n",
    "#    <class str>\n",
    "# 4. Mapping Type\n",
    "#    <class dict>"
   ]
  },
  {
   "cell_type": "code",
   "execution_count": 44,
   "id": "fbc021f6",
   "metadata": {},
   "outputs": [
    {
     "name": "stdout",
     "output_type": "stream",
     "text": [
      "dict_keys(['name', 'age'])\n",
      "dict_values(['아이유', 20])\n",
      "dict_items([('name', '아이유'), ('age', 20)])\n",
      "{'name': '아이유', 'age': 20}\n",
      "{}\n"
     ]
    }
   ],
   "source": [
    "# dictionary (딕셔너리) \n",
    "# dictionary를 만들기 위해서 사용하는 class => <class dict>\n",
    "# literal로 dictionary는 어떻게 표현하나요?\n",
    "# list => []\n",
    "# tuple => ()\n",
    "# dict => {}\n",
    "# {}를 이용하고 키와 value의 쌍을 저장하는 집합자료구조. \n",
    "# 순서가 존재하지 않아요!\n",
    "# 그러면 어떻게 여러개의 데이터를 저장하나요?\n",
    "# a = {\n",
    "#     'name': '홍길동', \n",
    "#     'age': 20, \n",
    "#     'addr': '서울'\n",
    "# }\n",
    "# print(a)       # {'name': '홍길동', 'age': 20, 'addr': '서울'}\n",
    "# print(type(a)) # <class 'dict'>\n",
    "\n",
    "# # 추가적으로 데이터를 저장하려면 어떻게 하나요?\n",
    "# a['mobile'] = '01033334444'\n",
    "# print(a) # {'name': '홍길동', 'age': 20, 'addr': '서울', 'mobile': '01033334444'}\n",
    "# # dictionary안의 값을 조회하려면\n",
    "# print(a['name'])   # 홍길동\n",
    "# # 값을 수정하려면\n",
    "# a['age'] = 30\n",
    "# print(a)  # {'name': '홍길동', 'age': 30, 'addr': '서울', 'mobile': '01033334444'}\n",
    "\n",
    "# a = {\n",
    "#     'name': '아이유',\n",
    "#     'age': 20,\n",
    "#     'age': 30\n",
    "# }\n",
    "# 의미론적으로는 맞지 않아요! 코드에러는 안나요!\n",
    "# print(a)\n",
    "\n",
    "# a = {\n",
    "#     'name': '홍길동',\n",
    "#     'age': 20\n",
    "# }\n",
    "\n",
    "# a[10] = '서울'   # 이거 되나요? key값을 정수로 사용.\n",
    "# print(a)         # {'name': '홍길동', 'age': 20, 10: '서울'}\n",
    "\n",
    "# a = {\n",
    "#     'name': '홍길동',\n",
    "#     ['address']: '서울'\n",
    "# }\n",
    "# 키값으로 list를 사용할 수 없어요!\n",
    "\n",
    "# a = {\n",
    "#     'name': '홍길동',\n",
    "#     ('address',): '서울'\n",
    "# }\n",
    "# 키값으로 tuple은 사용할 수 있네요!\n",
    "\n",
    "a = {\n",
    "    'name': '아이유',\n",
    "    'age': 20\n",
    "}\n",
    "# 모든 key값을 얻어내는 기능(메소드)\n",
    "print(a.keys())   # dict_keys(['name', 'age'])\n",
    "                  # 만약 진짜 list라면 => ['name', 'age'] 출력되어야 해요!\n",
    "# 모든 value값을 얻어내는 기능(메소드)\n",
    "print(a.values()) # dict_values(['아이유', 20]) \n",
    "# 모든 key와 value의 쌍을 얻어내는 기능(메소드)\n",
    "print(a.items())  # dict_items([('name', '아이유'), ('age', 20)])\n",
    "#                   key와 value를 tuple로 만들어서 리스트처럼 생성\n",
    "print(a)\n",
    "a.clear()         # 몽땅 삭제\n",
    "print(a)          # {}"
   ]
  },
  {
   "cell_type": "code",
   "execution_count": null,
   "id": "83f1314d",
   "metadata": {},
   "outputs": [],
   "source": [
    "# Python built-in Data Type\n",
    "# 1. Numeric Type\n",
    "#    <class int>\n",
    "#    <class float>\n",
    "# 2. Sequence Type\n",
    "#    <class list>\n",
    "#    <class tuple>\n",
    "#    <class range>\n",
    "# 3. Text Sequence Type\n",
    "#    <class str>\n",
    "# 4. Mapping Type\n",
    "#    <class dict>\n",
    "# 5. Set Type\n",
    "#    <class set>"
   ]
  },
  {
   "cell_type": "code",
   "execution_count": 60,
   "id": "0ce657f0",
   "metadata": {},
   "outputs": [
    {
     "name": "stdout",
     "output_type": "stream",
     "text": [
      "{1, 2, 3, 6, 7, 8}\n",
      "{1, 3, 6, 7, 8}\n"
     ]
    }
   ],
   "source": [
    "# set은 주머니 개념.\n",
    "# 여러개의 데이터를 저장할 수 있는 집합 자료구조\n",
    "# 순서가 없어요.\n",
    "# 키의 개념이 없어요! (값만 저장해요!)\n",
    "# set안에서는 중복을 허용하지 않아요!\n",
    "# literal => {} (dictionary와 set은 둘 다 {}를 사용)\n",
    "# a = { '홍길동', '아이유', 20, '서울'}\n",
    "# print(a)\n",
    "# print(type(a))   # <class 'set'>\n",
    "\n",
    "# a = { '홍길동', '아이유', 20, '서울', '서울', '아이유', '홍길동'}\n",
    "# print(a)\n",
    "\n",
    "# a = set([1, 2, 3, 4, 4, 4, 4])   # list(tuple)을 이용해서 set을 만들 수 있어요!\n",
    "# print(a)\n",
    "\n",
    "# set의 연산 => 합집합(Union), 교집합(intersection), 차집합(difference)\n",
    "\n",
    "a = set([1, 2, 3, 4, 5])\n",
    "b = set([3, 4, 5, 6, 7])\n",
    "\n",
    "# 합집합(Union)\n",
    "# result = a | b\n",
    "# print(result)   # {1, 2, 3, 4, 5, 6, 7}\n",
    "# # 교집합(intersection)\n",
    "# result = a & b\n",
    "# print(result)   # {3, 4, 5}\n",
    "# # 차집합(difference)\n",
    "# result = a - b\n",
    "# print(result)   # {1, 2}\n",
    "\n",
    "# set에 데이터를 추가하려면 어떻게 해야 하나요?\n",
    "# a = {1, 2, 3}\n",
    "# a.add(6)   # {1, 2, 3, 6}\n",
    "# print(a)\n",
    "# a.add('안녕')\n",
    "# print(a)   # {1, 2, 3, 6, '안녕'}\n",
    "# a.add((45,))\n",
    "# print(a)   # {1, 2, 3, 6, '안녕', (45,)}\n",
    "# a.add([1,2,3,4])       # Error!\n",
    "# a.add({'name':'홍길동'}) # Error!\n",
    "# a.add({6,7,8}) # Error!\n",
    "\n",
    "# a = {1, 2, 3}   # add는 1개만 추가, update는 여러개 추가\n",
    "# a.update([6,7,8])\n",
    "# print(a)\n",
    "# # 특정 요소를 삭제하려면\n",
    "# a.remove(2)\n",
    "# print(a)"
   ]
  },
  {
   "cell_type": "code",
   "execution_count": null,
   "id": "affb9f3f",
   "metadata": {},
   "outputs": [],
   "source": [
    "# Python built-in Data Type\n",
    "# 1. Numeric Type\n",
    "#    <class int>\n",
    "#    <class float>\n",
    "# 2. Sequence Type\n",
    "#    <class list>\n",
    "#    <class tuple>\n",
    "#    <class range>\n",
    "# 3. Text Sequence Type\n",
    "#    <class str>\n",
    "# 4. Mapping Type\n",
    "#    <class dict>\n",
    "# 5. Set Type\n",
    "#    <class set>\n",
    "# 6. Bool Type\n",
    "#    <class bool>  "
   ]
  },
  {
   "cell_type": "code",
   "execution_count": 68,
   "id": "2f94755c",
   "metadata": {},
   "outputs": [
    {
     "name": "stdout",
     "output_type": "stream",
     "text": [
      "False\n",
      "True\n",
      "True\n",
      "False\n",
      "<class 'bool'>\n",
      "False\n"
     ]
    }
   ],
   "source": [
    "# True, False\n",
    "# 연산자는 and, or, not 연산\n",
    "print(True and False)  # False\n",
    "print(True and True)  # True\n",
    "print(True or False)  # True\n",
    "print(not True)  # False\n",
    "\n",
    "print(type(True))   # <class 'bool'>\n",
    "\n",
    "# 기억해야 될 사항\n",
    "# 다음의 값들은 모두 False로 간주되요!\n",
    "# 빈 문자열 ('')  empty string => False\n",
    "# print(bool('' and True))  # False\n",
    "# [], (), {}, 숫자 0, None"
   ]
  },
  {
   "cell_type": "code",
   "execution_count": null,
   "id": "6951da9b",
   "metadata": {},
   "outputs": [],
   "source": [
    "# 여기까지 Python이 제공하는 기본 데이터 타입(자료구조포함)에 대해서\n",
    "# 알아보았아요!\n",
    "\n",
    "# 그 다음에 배울 내용은 당연히 control statement(제어문)\n",
    "# if, for, while"
   ]
  },
  {
   "cell_type": "code",
   "execution_count": 74,
   "id": "4bc73638",
   "metadata": {},
   "outputs": [
    {
     "name": "stdout",
     "output_type": "stream",
     "text": [
      "haha\n"
     ]
    }
   ],
   "source": [
    "# 제어문 - if\n",
    "# 논리값을 기반으로 실행코드의 분기를 시키는 제어문\n",
    "# python은 코드블럭을 표현하기 위해 {}를 사용하지 않아요!\n",
    "# python은 코드블럭을 표현하기 indentation(들여쓰기)-4칸 들여쓰기\n",
    "\n",
    "if 20 > 30:\n",
    "    print('Hello')    \n",
    "else:\n",
    "    print('haha')     "
   ]
  },
  {
   "cell_type": "code",
   "execution_count": 78,
   "id": "cffb88ff",
   "metadata": {},
   "outputs": [],
   "source": [
    "# for statement(반복문)\n",
    "# 반복할 횟수를 일반적으로 알고 있을 때(10번반복!)\n",
    "# 내가 가지고 있는 자료구조의 데이터 수만큼 반복할 때\n",
    "\n",
    "# a = [1, 2, 3, 4, 5]\n",
    "\n",
    "# for kk in a:\n",
    "#     print(kk)\n",
    "\n",
    "# for kk in range(500000):\n",
    "#     print('안녕')"
   ]
  },
  {
   "cell_type": "code",
   "execution_count": 79,
   "id": "e4c88e89",
   "metadata": {},
   "outputs": [
    {
     "name": "stdout",
     "output_type": "stream",
     "text": [
      "하하\n",
      "하하\n",
      "하하\n",
      "하하\n",
      "하하\n",
      "하하\n",
      "하하\n",
      "하하\n",
      "하하\n",
      "하하\n",
      "끝났어요!\n"
     ]
    }
   ],
   "source": [
    "# while statement(반복문)\n",
    "# 조건에 따라서 반복을 지속하고 싶을때 \n",
    "\n",
    "a = 0\n",
    "\n",
    "while a < 10:\n",
    "    print('하하')\n",
    "    a = a + 1\n",
    "    \n",
    "print('끝났어요!')    "
   ]
  },
  {
   "cell_type": "code",
   "execution_count": 80,
   "id": "06dab28e",
   "metadata": {},
   "outputs": [
    {
     "name": "stdout",
     "output_type": "stream",
     "text": [
      "aa\n",
      "aa\n",
      "aa\n",
      "aa\n",
      "aa\n",
      "호호호\n"
     ]
    }
   ],
   "source": [
    "# break 구문\n",
    "# 반복문에서 사용되고 break를 만나면 가장 가까운 반복문을 탈출.\n",
    "\n",
    "a = 0\n",
    "\n",
    "while True:\n",
    "    print('aa')\n",
    "    a = a + 1\n",
    "    if a == 5:\n",
    "        break\n",
    "    \n",
    "print('호호호')    "
   ]
  },
  {
   "cell_type": "code",
   "execution_count": 82,
   "id": "2bee3080",
   "metadata": {},
   "outputs": [],
   "source": [
    "# 간단한 프로그래밍 연습을 해야 해요!\n",
    "# 문제 1.\n",
    "## 10보다 작은 자연수 중에서 3 또는 5의 배수는\n",
    "## 3,5,6,9가 존재해요! 이것들의 합은 23입니다.\n",
    "\n",
    "## 1000보다 작은 자연수 중에서 3 또는 5의 배수들을\n",
    "## 구해서 모두 합하면 얼마인가요?\n",
    "## 답 : 233168"
   ]
  },
  {
   "cell_type": "code",
   "execution_count": null,
   "id": "b247c8e7",
   "metadata": {},
   "outputs": [],
   "source": [
    "# 기본, 기반이 되는 능력은 문제해결능력!\n",
    "# 문제해결을 위해 머리속에서 생각되는 내용을\n",
    "# 코드로 표현할 줄 알아야 해요! => 코딩\n",
    "# 코딩교육! => 논리적인 사고.\n",
    "# 많이 해 봐야 해요!\n",
    "# 6개월. 하루에 적어도 3문제정도\n",
    "\n",
    "# 코딩을 위한 여러 site\n",
    "# 프로그래머스, 백준, 삼성SW Expert 아카데미, ...\n"
   ]
  },
  {
   "cell_type": "code",
   "execution_count": null,
   "id": "4ef75352",
   "metadata": {},
   "outputs": [],
   "source": [
    "## 문제 2.\n",
    "## 피보나치 수열의 각 항은 바로 앞의 항 두 개를 더한 것이 됩니다. \n",
    "## 1과 2로 시작하는 경우 이 수열은 아래와 같습니다.\n",
    "\n",
    "## 1, 2, 3, 5, 8, 13, 21, 34, 55, 89, ...\n",
    "\n",
    "## 이 수열에서 짝수이면서 4백만 이하인 모든 항을 더하면 얼마가 됩니까?\n",
    "## ?"
   ]
  }
 ],
 "metadata": {
  "kernelspec": {
   "display_name": "Python [conda env:data_env] *",
   "language": "python",
   "name": "conda-env-data_env-py"
  },
  "language_info": {
   "codemirror_mode": {
    "name": "ipython",
    "version": 3
   },
   "file_extension": ".py",
   "mimetype": "text/x-python",
   "name": "python",
   "nbconvert_exporter": "python",
   "pygments_lexer": "ipython3",
   "version": "3.8.12"
  }
 },
 "nbformat": 4,
 "nbformat_minor": 5
}
