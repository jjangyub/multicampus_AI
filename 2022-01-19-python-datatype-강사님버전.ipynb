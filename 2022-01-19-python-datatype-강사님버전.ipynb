{
 "cells": [
  {
   "cell_type": "code",
   "execution_count": null,
   "id": "3f841249",
   "metadata": {},
   "outputs": [],
   "source": [
    "# 이 뒤쪽의 모든 내용은 주석처리되요!\n",
    "# Python의 주석은 # 으로 표현합니다. (1줄짜리 주석)\n",
    "# jupyter notebook에서 주석처리하기 원하는 코드를 block으로 설정한 후\n",
    "# ctrl + / 키를 이용하면 해당 코드 block을 주석처리해요!\n",
    "\n",
    "# 여러줄 주석은 ''' ''' 이용해요!\n",
    "'''\n",
    "이것은\n",
    "소리없는\n",
    "아우성\n",
    "'''"
   ]
  },
  {
   "cell_type": "code",
   "execution_count": 10,
   "id": "9cbade9b",
   "metadata": {},
   "outputs": [
    {
     "name": "stdout",
     "output_type": "stream",
     "text": [
      "200\n"
     ]
    }
   ],
   "source": [
    "# 변수\n",
    "# 변수는 특정값을 저장할 수 있는 메모리 저장 공간을 지칭\n",
    "# 변수를 어떻게 만드나요?\n",
    "\n",
    "a = 100\n",
    "# a라는 이름의 변수를 생성하고 그 안에 100이라는 값을 저장.\n",
    "# 그럼 변수이름은 어떻게 지어야 하나요?\n",
    "\n",
    "# 키워드는 변수로 사용할 수 없어요!\n",
    "# 의미없는 이름의 변수는 사용을 지양(변수이름을 의미있게 설정)\n",
    "# 변수는 숫자로 시작할 수 없어요. 무조건 문자로 시작(특수문자로 시작X)\n",
    "# 한글이름의 변수는 사용할 수 있나요? 사용할 수 있지만 세상 어느누구도\n",
    "# 한글이름의 변수는 사용하지 않아요! \n",
    "# 당연히 영문자 대문자와 소문자는 다른 문자예요!\n",
    "# 변수가 두 개 이상의 단어로 구성된 경우는 어떻게 하나요?\n",
    "# 프로그래밍 언어마다 몇가지 규칙이 있어요!\n",
    "# python은 '_' 기호를 이용해요!   student_number = '20101123'\n",
    "# 이런 변수명같은 것들을 식별자(identifier)\n",
    "# 회사업무나 프로젝트 같은 것을 수행하게 되면\n",
    "# Naming Rule을 정해서 프로그램을 작성하게 되요!\n",
    "\n",
    "a = 200   # OK!\n",
    "\n",
    "# a = 300  # Error! \n",
    "\n",
    "print(a)  # print() 함수는 괄호안에 내용을 문자열로 출력!"
   ]
  },
  {
   "cell_type": "code",
   "execution_count": null,
   "id": "b8d6fda6",
   "metadata": {},
   "outputs": [],
   "source": [
    "# Python에서 사용할 수 있는 데이터 타입\n",
    "# Python에서 정해져 있는 데이터 타입 => built-in data type\n",
    "# Python의 built-in data type은 일반 data type + 자료구조 (data structure)\n",
    "# python의 built-in data type 범주\n",
    "# 1. Numeric\n",
    "# 2. Seqeunce\n",
    "# 3. Text Sequence\n",
    "# 4. Mapping\n",
    "# 5. Set\n",
    "# 6. Bool"
   ]
  },
  {
   "cell_type": "code",
   "execution_count": 14,
   "id": "3660f4fc",
   "metadata": {},
   "outputs": [
    {
     "name": "stdout",
     "output_type": "stream",
     "text": [
      "100\n",
      "3.14\n",
      "<class 'int'>\n",
      "<class 'float'>\n"
     ]
    }
   ],
   "source": [
    "# 1. Numeric\n",
    "# 숫자형 데이터 타입\n",
    "# 프로그램에서 일반적으로 사용하는 숫자는 정수, 실수, 복소수\n",
    "# 결국 Numeric Data type은 <class int>와 <class float>를 이용. \n",
    "# 이 두개의 class만 존재하는건 아니고 더 많은 class가 있어요!\n",
    "a = 100       # 정수\n",
    "b = 3.14      # 실수\n",
    "c = 3.14E-10   # 실수(지수표현)\n",
    "d = 0o7       # 8진수    (많이 사용되지는 않아요)\n",
    "e = 0xAB      # 16진수   (많이 사용되지는 않아요)\n",
    "\n",
    "print(a)   # 100\n",
    "print(b)   # 3.14\n",
    "\n",
    "print(type(a))  # type() 해당 객체가 어느 class로 부터 파생된것인지를 알려줘요!\n",
    "print(type(b))"
   ]
  },
  {
   "cell_type": "code",
   "execution_count": 18,
   "id": "2c7a9a47",
   "metadata": {},
   "outputs": [
    {
     "name": "stdout",
     "output_type": "stream",
     "text": [
      "0.75\n",
      "1\n",
      "3\n"
     ]
    }
   ],
   "source": [
    "# Operator (연산자)\n",
    "# + 연산자\n",
    "# + 연산은 이항연산자\n",
    "# 프로그램에서 이항연산자의 특징은.. 같은 데이터 타입에 대해서 연산을 수행\n",
    "# 10 + 3.14\n",
    "# 위의 연산은 내부적으로 타입을 바꾸어서 실행해요!\n",
    "# 10 => 10.0 (O) , 3.14 => 3(X)\n",
    "# 10.0 + 3.14 = 결과는 어떻게 되나요? 연산의 데이터 타입을 따라가요!\n",
    "\n",
    "a = 3 / 4\n",
    "print(a)   # 0이 나오는게 맞아요!(Java나 C같은 다른 프로그래밍 언어는 0이 출력)\n",
    "           # 0.75로 출력\n",
    "           # 그 이유는 모든 숫자 연산은 내부적으로 실수처리\n",
    "\n",
    "a = 10 % 3  # % 연산자(나머지를 구하는 연산자)        \n",
    "print(a)    # 1\n",
    "\n",
    "a = 10 // 3 # // 연산자 (몫을 구하는 연산자)\n",
    "print(a)"
   ]
  },
  {
   "cell_type": "code",
   "execution_count": 29,
   "id": "d34a6d6c",
   "metadata": {},
   "outputs": [
    {
     "name": "stdout",
     "output_type": "stream",
     "text": [
      "[2, 3]\n",
      "[2]\n",
      "[2, 3, [4, 5], 6]\n",
      "[1, 2, 3]\n",
      "[1, 2, 3, [4, 5], 6]\n"
     ]
    }
   ],
   "source": [
    "# 2. Sequence\n",
    "#    순서가 있는 자료형(자료구조).\n",
    "#    - <class list>\n",
    "#    - <class tuple>\n",
    "#    - <class range>\n",
    "\n",
    "# <class list>\n",
    "# literal : 코드에서 어떻게 표현하나요?\n",
    "a = []   # list (empty list => 가지고 있는 데이터가 없어요! )\n",
    "a = [1, 2, 3]  # 그림으로 표현해 보아요!\n",
    "# list안에는 같은 데이터 타입만 들어오지 않아요!\n",
    "a = [1, 2, 3.14]\n",
    "# list안에는 다른 list가 들어올 수 있어요! (중첩리스트)\n",
    "a = [1, 2, [3, 4], 5]\n",
    "a = []\n",
    "a = list()   # <class list>  empty list 생성할 때 사용\n",
    "\n",
    "# a = [1,2,3,[4,5],6]   숨막혀요.. , 다음에 한칸을 띄어서 표현하는게 관용적\n",
    "a = [1, 2, 3, [4, 5], 6]\n",
    "\n",
    "# indexing\n",
    "# print(a[0])  # 1\n",
    "# a[0] = 100   # [100, 2, 3, [4, 5], 6]\n",
    "# print(a)\n",
    "# print(a[3][0])  # 4\n",
    "# print(a[5])    # Error!\n",
    "# a = [1, 2, 3, [4, 5], 6]\n",
    "# print(a[-2])     # 다른 프로그래밍 언어에서는 마이너스 인덱스를 사용할 수 없어요!\n",
    "#                  # 하지만 파이썬은 사용할 수 있어요!\n",
    "\n",
    "# slicing : 연속적인 부분집합을 만들어내는게 슬라이싱.\n",
    "a = [1, 2, 3, [4, 5], 6]\n",
    "print(a[1:3])   # slicing. 시작인덱스는 inclusive(포함), 끝인덱스는 exclusive(불포함)\n",
    "                # [2, 3]\n",
    "                # slicing은 원본의 부분집합을 구하는 것이기 때문에 당연히\n",
    "                # 원본과 동일한 데이터 타입이 나와요\n",
    "print(a[1:2])   # 2 (X), [2] (O)    \n",
    "print(a[1:])    # 1부터 끝까지   [2, 3, [4, 5], 6]\n",
    "print(a[:3])    # 처음부터 index 2까지. [1, 2, 3]\n",
    "print(a[:])     # 처음부터 끝까지 [1, 2, 3, [4, 5], 6]"
   ]
  },
  {
   "cell_type": "code",
   "execution_count": 35,
   "id": "e0876519",
   "metadata": {},
   "outputs": [
    {
     "name": "stdout",
     "output_type": "stream",
     "text": [
      "[1, 2, 3, 4, 5, 6]\n",
      "[1, 2, 3, 1, 2, 3, 1, 2, 3]\n"
     ]
    }
   ],
   "source": [
    "# 리스트의 연산\n",
    "# + 연산\n",
    "a = [1, 2, 3]\n",
    "b = [4, 5, 6]\n",
    "\n",
    "result = a + b\n",
    "print(result)  # [1, 2, 3, 4, 5, 6]  \n",
    "\n",
    "# 원래 + 기호는 숫자를 더하는 기호.\n",
    "# 이 숫자를 더하는 기호인 + 에 피 연산자를 list를 사용\n",
    "# 이 + operator(연산자)의 의미가 변해요. => \n",
    "# 연산자 오버로딩(operator overloading)\n",
    "# 이 연산자 오버로딩이 발생해서 + 의 의미가 연결(concatenation)\n",
    "\n",
    "a = [1, 2, 3]\n",
    "result = a * 3 #    a + a + a => a * 3\n",
    "print(result)  #    [1, 2, 3, 1, 2, 3, 1, 2, 3]"
   ]
  },
  {
   "cell_type": "code",
   "execution_count": 42,
   "id": "6f7a8a8b",
   "metadata": {},
   "outputs": [
    {
     "name": "stdout",
     "output_type": "stream",
     "text": [
      "[]\n",
      "[10]\n",
      "[10, 20]\n",
      "[4, 7, 10, 2, 8, 1, 9]\n",
      "[1, 2, 4, 7, 8, 9, 10]\n"
     ]
    }
   ],
   "source": [
    "a = list()\n",
    "print(a)\n",
    "# list안에 새로운 요소를 추가하려면 어떻게 해야 하나요?\n",
    "# a[0] = 100\n",
    "a.append(10)  # append()는 리스트의 맨 마지막 방을 추가하고 원소를 저장하는 기능\n",
    "print(a)\n",
    "a.append(20)\n",
    "print(a)\n",
    "a = [4, 7, 10, 2, 8, 1, 9]\n",
    "# 리스트 안의 각각의 요소(원소)들을 정렬하려면 어떻게 해야 하나요?\n",
    "# 정렬은 기본은 오름차순 정렬(작은값이 맨위 혹은 맨앞쪽에 위치)\n",
    "# result = a.sort()\n",
    "# print(result)   # None (값이 없어요!)\n",
    "# list의 sort() 기능은 원본을 정렬하고 정렬된 결과를 새롭게 복사본으로 만들지 \n",
    "# 않아요!\n",
    "# a.sort()\n",
    "# print(a)   # [1, 2, 4, 7, 8, 9, 10]\n",
    "result = sorted(a)  # sorted()는 원본은 그냥 두고 정렬된 복사본을 만들어요!\n",
    "print(a)     # [4, 7, 10, 2, 8, 1, 9]\n",
    "print(result) # [1, 2, 4, 7, 8, 9, 10]\n"
   ]
  },
  {
   "cell_type": "code",
   "execution_count": null,
   "id": "3b097b1d",
   "metadata": {},
   "outputs": [],
   "source": [
    "# 위에서 살펴본 여러 기능외에...상당히 많은 기능이 존재\n",
    "# 코드에서 나올때마다 리스트 기능은 추가적으로 학습."
   ]
  },
  {
   "cell_type": "code",
   "execution_count": 47,
   "id": "010db098",
   "metadata": {},
   "outputs": [
    {
     "name": "stdout",
     "output_type": "stream",
     "text": [
      "2494857754688\n",
      "2494857787072\n"
     ]
    }
   ],
   "source": [
    "# 특수한 함수에 대해서 하나 알아보고 넘어갈께요.!!\n",
    "# print()\n",
    "# type()\n",
    "# id() : 메모리 주소값에 대한 hash값을 알려줘요!\n",
    "# a = 100\n",
    "# print(id(a))    # 140728396295008\n",
    "# C 언어를 제외한 다른 프로그래밍 언어는 메모리 주소를 직접적으로\n",
    "# 조작할 수 없도록 프로그래밍 언어가 디자인되어 있어요!\n",
    "# 메모리 주소를 직접 조작하면 cracking작업을 수행할 수 있어요!\n",
    "\n",
    "# a = 100\n",
    "# b = 100\n",
    "# print(id(a))\n",
    "# print(id(b))\n",
    "\n",
    "# a = 257\n",
    "# b = 257\n",
    "# print(id(a))\n",
    "# print(id(b))\n",
    "\n",
    "a = list() # []\n",
    "b = list() # []\n",
    "\n",
    "print(id(a))\n",
    "print(id(b))"
   ]
  },
  {
   "cell_type": "code",
   "execution_count": 53,
   "id": "2060b330",
   "metadata": {},
   "outputs": [
    {
     "name": "stdout",
     "output_type": "stream",
     "text": [
      "True\n",
      "False\n"
     ]
    }
   ],
   "source": [
    "# a = 300\n",
    "# b = 300\n",
    "\n",
    "# print(a == b)   # 같아(True)... 틀려(False)  결과값은 논리값.\n",
    "# == 기호(연산자)는 값이 같은지를 비교하는 비교 연산자.\n",
    "\n",
    "# is 연산자는 값을 비교하지 않고 메모리 주소값을 비교(같은 객체인지를 확인)\n",
    "# print(a is b)   # a=100, b==100인 경우 True\n",
    "#                 # a=300, b==300인 경우 False\n",
    "\n",
    "a = [1, 2, 3]\n",
    "b = [1, 2, 3]\n",
    "\n",
    "print(a == b)  # True\n",
    "print(a is b)  # False"
   ]
  },
  {
   "cell_type": "code",
   "execution_count": null,
   "id": "6a53412e",
   "metadata": {},
   "outputs": [],
   "source": [
    "# python의 built-in Data Type\n",
    "# 1. Numeric\n",
    "#    - <class int>   : 정수\n",
    "#    - <class float> : 실수\n",
    "# 2. Sequence\n",
    "#    - <class list> : []\n",
    "#    - <class tuple> : ()\n",
    "# 3. Text Sequence\n",
    "# 4. Mapping\n",
    "# 5. Set\n",
    "# 6. Bool\n"
   ]
  },
  {
   "cell_type": "code",
   "execution_count": 66,
   "id": "26460ce9",
   "metadata": {},
   "outputs": [
    {
     "name": "stdout",
     "output_type": "stream",
     "text": [
      "[1, 2, 3]\n"
     ]
    }
   ],
   "source": [
    "# Tuple(튜플)\n",
    "# literal => ()\n",
    "a = (1, 2, 3)  # [1, 2, 3]\n",
    "a = ()         # empty tuple     cf) []\n",
    "a = tuple()    # empty tuple     cf) list()\n",
    "# print(type(a)) # <class 'tuple'>\n",
    "# a = (1, 2, 3, (4, 5), 6)  # 중첩 tuple\n",
    "# a = [1, 2, (3, 4), 5]   # 가능\n",
    "# a = (1, 2, [3, 4], 5)     # 가능\n",
    "a = (1, 2, 3)\n",
    "\n",
    "# indexing\n",
    "# print(a[1])  # 2\n",
    "# a[0] = 100     # tuple은 read only. 즉 값을 변경할 수 없어요!\n",
    "\n",
    "# a = (1, 2, 3)  # 누가봐도 tuple\n",
    "# 우리는 ( )를 언제 사용하냐하면.. (3 + 4) * 5\n",
    "# a = (1)   # ()의 의미가 혼동되요.. 연산자 우선순위의 ()인가? 아니면\n",
    "          #                        tuple의 ()인가?\n",
    "# 그래서 요소(원소)가 1개인 경우 이런경우에는 다음과 같이 tuple을 표현\n",
    "# a = (3,)  # 요소가 1개인 tuple\n",
    "# a = (3)   # 정수(class int)\n",
    "# a = 1, 2, 3  # tuple은 소괄호를 생략할 수 있어요!\n",
    "#              # a = (1, 2, 3)\n",
    "\n",
    "# a = (1, 2, [3, 4], 5)\n",
    "\n",
    "# a[2][0] = 100   # 가능? 불가능?  => 가능해요!!\n",
    "# print(a)\n",
    "\n",
    "# a = (1, 2, 3)\n",
    "# b = (4, 5, 6)\n",
    "\n",
    "# result = a + b\n",
    "# print(result)   # (1, 2, 3, 4, 5, 6)\n",
    "\n",
    "# a = [1, 2, 3]\n",
    "# b = tuple(a)\n",
    "# print(b)\n",
    "\n",
    "a = (1, 2, 3)\n",
    "b = list(a) \n",
    "print(b)"
   ]
  }
 ],
 "metadata": {
  "kernelspec": {
   "display_name": "Python [conda env:data_env] *",
   "language": "python",
   "name": "conda-env-data_env-py"
  },
  "language_info": {
   "codemirror_mode": {
    "name": "ipython",
    "version": 3
   },
   "file_extension": ".py",
   "mimetype": "text/x-python",
   "name": "python",
   "nbconvert_exporter": "python",
   "pygments_lexer": "ipython3",
   "version": "3.8.12"
  }
 },
 "nbformat": 4,
 "nbformat_minor": 5
}
