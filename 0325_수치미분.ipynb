{
 "cells": [
  {
   "cell_type": "code",
   "execution_count": 1,
   "id": "fd658206",
   "metadata": {},
   "outputs": [
    {
     "name": "stdout",
     "output_type": "stream",
     "text": [
      "<function my_func at 0x000002533A4DA5E0>\n",
      "30\n",
      "50\n"
     ]
    }
   ],
   "source": [
    "# python은 함수도 변수에 저장되는 개념\n",
    "\n",
    "def my_func():\n",
    "    print('Hello')\n",
    "    \n",
    "print(my_func) # python의 함수는 변수에 저장되는 개념\n",
    "               # 함수이름이 변수명임\n",
    "\n",
    "# 일급함수 (fist-classes function)를 지원하는 프로그래밍 언어들이 있음\n",
    "# 자바스크립트, 파이썬들은 일급함수를 지원하는 프로그래밍 언어임\n",
    "# c언어는 지원X\n",
    "\n",
    "# 일급함수는 함수가 변수에 저장될 수 있음\n",
    "# 함수이름이 변수이름이기 때문에 함수이름을 변수처럼 사용O\n",
    "\n",
    "def my_func2(x):\n",
    "    print(x+10)\n",
    "\n",
    "tmp = 20\n",
    "my_func2(tmp)  # 30\n",
    "\n",
    "def my_func3(x):\n",
    "    x(20)      # 인자로 들어온 x를 이용해 함수호출을 하고 있음\n",
    "    \n",
    "def my_func4(x):\n",
    "    print(x+30)\n",
    "    \n",
    "my_func3(my_func4)   # 50\n"
   ]
  },
  {
   "cell_type": "code",
   "execution_count": 3,
   "id": "17b58730",
   "metadata": {},
   "outputs": [
    {
     "name": "stdout",
     "output_type": "stream",
     "text": [
      "9.999999999976694\n"
     ]
    }
   ],
   "source": [
    "# 미분값을 구하는 함수를 하나 만들어봐요!\n",
    "# f(x) = x^2\n",
    "# f'(x) = 2x\n",
    "# f'(5) = 10\n",
    "\n",
    "# 우리가 가지고 있는 함수 f(x)\n",
    "def my_func(x):\n",
    "    return x**2\n",
    "\n",
    "# 미분을 수행하는 함수 f(x)\n",
    "def numerical_derivative(f,x):\n",
    "    \n",
    "    delta_x = 1e-4  # 극한에 해당하는 값. 너무 작은 값을 사용하면 실수계산 오류가 발생\n",
    "                    #  1e-4 정도의 값을 이용하면 적당한 수치미분 값을 구할 수 있음\n",
    "    return (f(x + delta_x)- f(x - delta_x)) / (2 * delta_x)\n",
    "\n",
    "# f'(5)\n",
    "result = numerical_derivative(my_func,5)\n",
    "print(result)  # 9.999999999976694  # 값이 거의 유사. 근삿값만 얻을 수 있음"
   ]
  },
  {
   "cell_type": "code",
   "execution_count": 11,
   "id": "def71e3a",
   "metadata": {},
   "outputs": [
    {
     "name": "stdout",
     "output_type": "stream",
     "text": [
      "[ 8.         15.00000001  0.          0.        ]\n"
     ]
    }
   ],
   "source": [
    "# 다변수 함수의 수치미분하는 코드를 만들어 보아요!~\n",
    "# f(x,y) = 2x + 3xy + y^3\n",
    "# f(a,b,c) = 3a + 3bc + b^2 + c^3\n",
    "\n",
    "# f'(1.0, 2.0) = ??\n",
    "import numpy as np\n",
    "\n",
    "# 아래처럼 구현하면 다변수함수의 수치미분하는 코드를 2변수, 3변수, 4변수,..\n",
    "# 에 대해서 각각 구현해야 해요!\n",
    "# def my_func(x,y):\n",
    "#     return 2 * x + 3 * x * y + y ** 3\n",
    "# print(my_func(1.0, 2.0))\n",
    "\n",
    "def my_func(input_value):   # input_value = [x y]\n",
    "    x = input_value[0]\n",
    "    y = input_value[1]\n",
    "    return 2 * x + 3 * x * y + y ** 3\n",
    "\n",
    "# 다변수 함수에 대한 수치미분을 수행하는 함수\n",
    "def numerical_derivative(f,x):    # x : ndarray [1.0  2.0]\n",
    "    \n",
    "    delta_x = 1e-4\n",
    "    derivative_x = np.zeros_like(x)   # derivative_x : [0.0  0.0]\n",
    "    \n",
    "    # iterator를 이용해서 입력변수 x에 대한 편미분을 수행!\n",
    "    it = np.nditer(x, flags=['multi_index'])\n",
    "    \n",
    "    while not it.finished:\n",
    "        \n",
    "        idx = it.multi_index \n",
    "        tmp = x[idx]              # tmp : 1.0\n",
    "        \n",
    "        x[idx] = tmp + delta_x    # x : ndarray [1.0001  2.0]\n",
    "        fx_plus_delta = f(x)\n",
    "        \n",
    "        x[idx] = tmp - delta_x    # x : ndarray [0.9999  2.0]  \n",
    "        fx_minus_delta = f(x)\n",
    "        \n",
    "        derivative_x[idx] = (fx_plus_delta - fx_minus_delta) / (2 * delta_x)\n",
    "        \n",
    "        x[idx] = tmp              #  x : ndarray [1.0  2.0]  \n",
    "        it.iternext()\n",
    "        \n",
    "    return derivative_x\n",
    "\n",
    "result = numerical_derivative(my_func, np.array([1.0, 2.0]))\n",
    "print(result)   # [ 8.         15.00000001]"
   ]
  },
  {
   "cell_type": "code",
   "execution_count": 15,
   "id": "a678c992",
   "metadata": {},
   "outputs": [
    {
     "ename": "SyntaxError",
     "evalue": "invalid syntax (3371964052.py, line 44)",
     "output_type": "error",
     "traceback": [
      "\u001b[1;36m  Input \u001b[1;32mIn [15]\u001b[1;36m\u001b[0m\n\u001b[1;33m    3.0, 4.0]]))\u001b[0m\n\u001b[1;37m    ^\u001b[0m\n\u001b[1;31mSyntaxError\u001b[0m\u001b[1;31m:\u001b[0m invalid syntax\n"
     ]
    }
   ],
   "source": [
    "# 정상적으로 동작하는지 확인하기 위해 4변수 함수를 이용해서 \n",
    "# 수치미분을 해보자\n",
    "\n",
    "# f(w,x,y,z) = wx + xyz + 3w +xy^2\n",
    "# 수치미분\n",
    "# f'(1.0, 2.0, 3.0, 4.0) = ?\n",
    "\n",
    "def my_func(input_value):  # [[1.0 2.0\n",
    "                           # 3.0 4.0]]\n",
    "    \n",
    "    w = input_value[0,0]\n",
    "    x = input_value[0,1]\n",
    "    y = input_value[1,0]\n",
    "    z = input_value[1,1]\n",
    "    \n",
    "    return  (w*x) + (x*y*z) + (3*w) + (x*(y**2))\n",
    "def numerical_derivative(f,x):    \n",
    "    \n",
    "    delta_x = 1e-4\n",
    "    derivative_x = np.zeros_like(x)  \n",
    "    \n",
    "    # iterator를 이용해서 입력변수 x에 대한 편미분을 수행!\n",
    "    it = np.nditer(x, flags=['multi_index'])\n",
    "    \n",
    "    while not it.finished:\n",
    "        \n",
    "        idx = it.multi_index \n",
    "        tmp = x[idx]             \n",
    "        \n",
    "        x[idx] = tmp + delta_x   \n",
    "        fx_plus_delta = f(x)\n",
    "        \n",
    "        x[idx] = tmp - delta_x    \n",
    "        fx_minus_delta = f(x)\n",
    "        \n",
    "        derivative_x[idx] = (fx_plus_delta - fx_minus_delta) / (2 * delta_x)\n",
    "        \n",
    "        x[idx] = tmp              \n",
    "        it.iternext()\n",
    "        \n",
    "    return derivative_x\n",
    "\n",
    "result = numerical_derivative(my_func, np.array([[1.0, 2.0\n",
    "                                                 3.0, 4.0]]))\n",
    "print(result) "
   ]
  },
  {
   "cell_type": "code",
   "execution_count": null,
   "id": "123e0625",
   "metadata": {},
   "outputs": [],
   "source": []
  }
 ],
 "metadata": {
  "kernelspec": {
   "display_name": "Python [conda env:machine] *",
   "language": "python",
   "name": "conda-env-machine-py"
  },
  "language_info": {
   "codemirror_mode": {
    "name": "ipython",
    "version": 3
   },
   "file_extension": ".py",
   "mimetype": "text/x-python",
   "name": "python",
   "nbconvert_exporter": "python",
   "pygments_lexer": "ipython3",
   "version": "3.8.12"
  }
 },
 "nbformat": 4,
 "nbformat_minor": 5
}
