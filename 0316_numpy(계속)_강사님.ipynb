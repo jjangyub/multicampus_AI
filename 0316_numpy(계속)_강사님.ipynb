{
 "cells": [
  {
   "cell_type": "code",
   "execution_count": null,
   "id": "ea330cab",
   "metadata": {},
   "outputs": [],
   "source": [
    "# Numpy module \n",
    "# 다차원배열 그리고 2차원 matrix 연산을 쉽고 빠르게 하기 위해서 사용\n",
    "# ndarray\n",
    "# ndarray의 특징, 속성\n",
    "# ndarray의 생성방법\n",
    "# random관련된 생성방법과 특수한 기능들(메소드들)\n",
    "# indexing, slicing\n",
    "# boolean indexing, fancy indexing"
   ]
  },
  {
   "cell_type": "code",
   "execution_count": 7,
   "id": "06734234",
   "metadata": {},
   "outputs": [
    {
     "name": "stdout",
     "output_type": "stream",
     "text": [
      "[[ 40  46]\n",
      " [ 94 109]]\n"
     ]
    }
   ],
   "source": [
    "# ndarray의 사칙연산(일반적인 연산)\n",
    "# ndarray의 shape이 같아야 해요!\n",
    "\n",
    "import numpy as np\n",
    "\n",
    "# arr1 = np.array([1,2,3])  # (3,)\n",
    "# arr2 = np.array([4,5,6])  # (3,)\n",
    "# print(arr1 + arr2)   # [5 7 9]\n",
    "\n",
    "# 만약 shape이 다르다면..\n",
    "# arr1 = np.array([1,2,3,4])  # (4,)\n",
    "# arr2 = np.array([4,5,6])    # (3,)\n",
    "# print(arr1 + arr2)          # 오류\n",
    "\n",
    "# 하지만 shape이 다를때도 만약 shape을 맞출 수 있으면 연산이 가능\n",
    "# broadcasting이 발생해서 두 개의 ndarray의 shape을 똑같이 맞춰요!\n",
    "# arr1 = np.array([1,2,3,4])  # (4,)\n",
    "# print(arr1 + 1)           # broadcasting\n",
    "\n",
    "# 다양한 경우\n",
    "# arr1 = np.array([1,2,3,4,5,6])  # (6,)\n",
    "# arr2 = np.array([4,5,6])        # (3,)\n",
    "# arr1 + arr2                 # 오류\n",
    "\n",
    "# arr1 = np.array([[1,2,3], [4,5,6]])  # (2,3)\n",
    "# arr2 = np.array([4,5,6])             # (3,)\n",
    "# arr1 + arr2                 # 가능\n",
    "\n",
    "# 행렬곱연산(matrix 곱연산)\n",
    "arr1 = np.array([[1,2,3], [4,5,6]])    # (2,3)\n",
    "arr2 = np.array([[4,5], [6,7], [8,9]]) # (3,2)\n",
    "# 행렬곱연산의 결과는 당연히 (2,2)\n",
    "print(np.matmul(arr1,arr2))"
   ]
  },
  {
   "cell_type": "code",
   "execution_count": 9,
   "id": "be09536c",
   "metadata": {},
   "outputs": [
    {
     "name": "stdout",
     "output_type": "stream",
     "text": [
      "[[1 2 3]\n",
      " [4 5 6]]\n",
      "[[1 4]\n",
      " [2 5]\n",
      " [3 6]]\n"
     ]
    }
   ],
   "source": [
    "# 전치행렬(transpose)\n",
    "\n",
    "import numpy as np\n",
    "\n",
    "arr = np.array([[1,2,3], [4,5,6]])  # (2,3)\n",
    "print(arr)\n",
    "\n",
    "print(arr.T)  # (3,2)"
   ]
  },
  {
   "cell_type": "code",
   "execution_count": 4,
   "id": "aebb4cf1",
   "metadata": {},
   "outputs": [
    {
     "name": "stdout",
     "output_type": "stream",
     "text": [
      "1\n",
      "2\n",
      "3\n",
      "4\n",
      "5\n"
     ]
    }
   ],
   "source": [
    "# iterator(반복자)를 이용한 반복문 처리\n",
    "# for문을 이용해서 반복처리를 하는데 \n",
    "# ndarray는 while문과 iterator를 이용해서 반복처리는 방식을 선호.\n",
    "\n",
    "import numpy as np\n",
    "\n",
    "# arr = np.array([1, 2, 3, 4, 5]) # (5,)\n",
    "\n",
    "# for문을 이용한 반복처리\n",
    "# for tmp in arr:\n",
    "#     print(tmp)\n",
    "    \n",
    "# 1차원 ndarray에 대해서 iterator를 이용해 반복처리\n",
    "arr = np.array([1, 2, 3, 4, 5]) # (5,)\n",
    "\n",
    "# iterator 객체를 하나 얻어와요!\n",
    "# iterator 객체로부터 index를 추출할수 있어요!\n",
    "my_iter = np.nditer(arr, flags=['c_index'])\n",
    "\n",
    "while not my_iter.finished:\n",
    "    \n",
    "    idx = my_iter.index\n",
    "    print(arr[idx])   # 출력\n",
    "    my_iter.iternext()"
   ]
  },
  {
   "cell_type": "code",
   "execution_count": 8,
   "id": "228fffe9",
   "metadata": {},
   "outputs": [
    {
     "name": "stdout",
     "output_type": "stream",
     "text": [
      "(0, 0)\n",
      "1\n",
      "(0, 1)\n",
      "2\n",
      "(0, 2)\n",
      "3\n",
      "(1, 0)\n",
      "4\n",
      "(1, 1)\n",
      "5\n",
      "(1, 2)\n",
      "6\n"
     ]
    }
   ],
   "source": [
    "# 2차원 ndarray에 반복처리\n",
    "\n",
    "import numpy as np\n",
    "\n",
    "# arr = np.array([[1,2,3], [4,5,6]])  # (2,3)\n",
    "\n",
    "# for tmp1 in range(arr.shape[0]):\n",
    "#     for tmp2 in range(arr.shape[1]):\n",
    "#         print(arr[tmp1, tmp2])\n",
    "\n",
    "arr = np.array([[1,2,3], [4,5,6]])  # (2,3)\n",
    "\n",
    "my_iter = np.nditer(arr, flags=['multi_index'])\n",
    "\n",
    "while not my_iter.finished:\n",
    "    \n",
    "    idx = my_iter.multi_index\n",
    "    print(idx)\n",
    "    print(arr[idx])\n",
    "    my_iter.iternext()"
   ]
  },
  {
   "cell_type": "code",
   "execution_count": 20,
   "id": "ae2d8d12",
   "metadata": {},
   "outputs": [
    {
     "name": "stdout",
     "output_type": "stream",
     "text": [
      "[[1 2 3]\n",
      " [4 5 6]]\n",
      "[5 7 9]\n",
      "[ 6 15]\n"
     ]
    }
   ],
   "source": [
    "# 다양한 집계함수와 axis개념이 나와요!\n",
    "\n",
    "import numpy as np\n",
    "\n",
    "# arr = np.arange(1,7,1).reshape(2,3)\n",
    "# print(arr)      # [[1 2 3]\n",
    "#                 #  [4 5 6]]\n",
    "    \n",
    "# ndarray 데이터에 대한 합을 구할 수 있어요!    \n",
    "# print(np.sum(arr))  # 21   => Numpy가 제공하는 함수를 이용\n",
    "# print(arr.sum())    # 21   => ndarray가 가지고 있는 메소드를 이용\n",
    "# print(arr.mean())   # 3.5\n",
    "# print(arr.max())   # 6\n",
    "# print(arr.min())   # 1\n",
    "# print(arr.argmax())   # 5\n",
    "# print(arr.std())   # 표준편차 => 1.707825127659933\n",
    "\n",
    "# axis 개념에 대해서 알아보아요!!!\n",
    "# numpy는 집계함수를 이용할 때 axis를 명시하지 않으면 전체를 대상으로 연산 수행\n",
    "\n",
    "arr = np.arange(1,7,1).reshape(2,3)\n",
    "print(arr)      # [[1 2 3]\n",
    "                #  [4 5 6]]\n",
    "print(arr.sum(axis=0))   # [5 7 9]\n",
    "print(arr.sum(axis=1))   # [ 6 15]\n"
   ]
  },
  {
   "cell_type": "code",
   "execution_count": 23,
   "id": "eab07f9b",
   "metadata": {},
   "outputs": [
    {
     "name": "stdout",
     "output_type": "stream",
     "text": [
      "[[ 1  2  3  4]\n",
      " [ 5  6  7  8]\n",
      " [ 9 10 11 12]\n",
      " [13 14 15 16]]\n",
      "6\n"
     ]
    }
   ],
   "source": [
    "# 간단한 연습문제\n",
    "\n",
    "import numpy as np\n",
    "\n",
    "arr = np.arange(1,17,1).reshape(4,4)\n",
    "print(arr)\n",
    "\n",
    "# 이 안에 10보다 큰 수는 몇개 있나요?  6개!!\n",
    "# ?? => Boolena Indexing을 이용\n",
    "\n",
    "print((arr > 10).sum())"
   ]
  },
  {
   "cell_type": "code",
   "execution_count": null,
   "id": "39c1ba61",
   "metadata": {},
   "outputs": [],
   "source": [
    "# ndarray의 정렬, 연결, 삭제, CSV파일 로딩\n",
    "# 일반적으로 ndarray로 이작업을 하지 않아요!\n",
    "# pandas로 처리해요!\n",
    "# 우리 pandas에 대해서 알아보아요!"
   ]
  }
 ],
 "metadata": {
  "kernelspec": {
   "display_name": "Python [conda env:machine] *",
   "language": "python",
   "name": "conda-env-machine-py"
  },
  "language_info": {
   "codemirror_mode": {
    "name": "ipython",
    "version": 3
   },
   "file_extension": ".py",
   "mimetype": "text/x-python",
   "name": "python",
   "nbconvert_exporter": "python",
   "pygments_lexer": "ipython3",
   "version": "3.8.12"
  }
 },
 "nbformat": 4,
 "nbformat_minor": 5
}
