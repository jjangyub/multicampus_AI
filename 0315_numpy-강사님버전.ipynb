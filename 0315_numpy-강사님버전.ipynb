{
 "cells": [
  {
   "cell_type": "code",
   "execution_count": null,
   "id": "8deb6c80",
   "metadata": {},
   "outputs": [],
   "source": [
    "# Data\n",
    "\n",
    "# 예전부터 Data에 대한 연구는 꾸준히 되어왔어요!\n",
    "# Data 분석이 어려운 이유 \n",
    "# 1. 데이터가 많이 필요!\n",
    "# 2. Computing Resource가 많이 필요\n",
    "\n",
    "# 시대가 변하면서..\n",
    "# 데이터가 무지막지하게 생산되기 시작했어요!\n",
    "# 클라우드(AWS)\n",
    "# 일반인들도 데이터분석, 머신러닝 작업이 가능!\n",
    "\n",
    "# 데이터를 수집하고 가공하는 작업이 선행.\n",
    "# 우리가 얻는 데이터는 대부분 raw data\n",
    "# 분석에 사용하기 위해, 머신러닝의 학습에 사용하기 위해 가공해야 해요!!\n",
    "# 이런 데이터 가공이 생각보다 어려워요!\n",
    "# pandas module\n",
    "# pandas의 데이터타입을 구성하고 있는 numpy module\n",
    "\n",
    "# numpy는 하나의 자료구조(list, dict)를 제공 => ndarray라는 자료구조를 제공.\n"
   ]
  },
  {
   "cell_type": "code",
   "execution_count": 5,
   "id": "2b24340d",
   "metadata": {},
   "outputs": [],
   "source": [
    "# Numpy \n",
    "# 수치계산을 용이하기 하기 위한 python module\n",
    "# 대용량의 다차원 배열과 matrix(행렬)연산을 쉽게 하기 위한 python module\n",
    "# Numerical Python => Numpy\n",
    "# Numpy는 단 하나의 자료구조를 제공 => ndarray(n-dimensional array)\n",
    "# ndarray는 python의 list와 상당히 유사.\n",
    "# ndarray는 차원의 개념이 있어요. \n",
    "# list는 여러 다른 타입의 데이터가 저장될 수 있어요. 하지만 ndarray는\n",
    "# 무조건 같은 데이터 타입만 저장되요!\n",
    "\n",
    "# Numpy는 외장 module이기 때문에 당연히 설치해서 사용해야 해요!\n",
    "# conda install numpy\n"
   ]
  },
  {
   "cell_type": "code",
   "execution_count": 11,
   "id": "ce9e71dd",
   "metadata": {},
   "outputs": [
    {
     "name": "stdout",
     "output_type": "stream",
     "text": [
      "[1, 2.3, 3, 4, True, 'Hello']\n",
      "<class 'list'>\n",
      "[1 2 3 4]\n",
      "<class 'numpy.ndarray'>\n",
      "int32\n"
     ]
    }
   ],
   "source": [
    "import numpy as np\n",
    "\n",
    "# python list\n",
    "a = [1, 2.3, 3, 4, True, 'Hello']\n",
    "print(a)        # [1, 2, 3, 4]\n",
    "print(type(a))  # <class 'list'>\n",
    "\n",
    "# Numpy의 ndarray\n",
    "arr = np.array([1, 2, 3, 4])\n",
    "print(arr)        # [1 2 3 4]   => 1차원\n",
    "print(type(arr))  # <class 'numpy.ndarray'> \n",
    "print(arr.dtype)  # int32"
   ]
  },
  {
   "cell_type": "code",
   "execution_count": 20,
   "id": "5d4da063",
   "metadata": {},
   "outputs": [
    {
     "name": "stdout",
     "output_type": "stream",
     "text": [
      "[[1, 2, 3], [4, 5, 6]]\n",
      "5\n",
      "[[1 2 3]\n",
      " [4 5 6]]\n",
      "5\n",
      "[4 5 6]\n",
      "5\n",
      "int32\n",
      "[[1. 2. 3.]\n",
      " [4. 5. 6.]]\n",
      "float64\n"
     ]
    }
   ],
   "source": [
    "# 다차원 배열\n",
    "import numpy as np\n",
    "\n",
    "# 중첩리스트\n",
    "my_list = [[1, 2, 3],[4, 5, 6]]\n",
    "print(my_list)   # [[1, 2, 3], [4, 5, 6]]\n",
    "print(my_list[1][1])   # 5\n",
    "\n",
    "# ndarray\n",
    "arr = np.array([[1, 2, 3],[4, 5, 6]])\n",
    "print(arr)       # [[1 2 3]\n",
    "                 #  [4 5 6]]\n",
    "print(arr[1,1])  # 5   \n",
    "print(arr[1])    # [4 5 6]\n",
    "print(arr[1][1]) # 5\n",
    "print(arr.dtype) # int32 (Numpy가 알아서 설정!)\n",
    "\n",
    "# 기본적으로 ndarray는 요소의 데이터타입을 이용해서\n",
    "# dtype을 설정.\n",
    "# 데이터 타입을 지정해서 ndarray를 생성할 수 있어요!\n",
    "arr = np.array([[1, 2, 3],[4, 5, 6]],\n",
    "               dtype=np.float64)\n",
    "print(arr)\n",
    "print(arr.dtype)  # float64"
   ]
  },
  {
   "cell_type": "code",
   "execution_count": 27,
   "id": "d70ebd2b",
   "metadata": {},
   "outputs": [
    {
     "name": "stdout",
     "output_type": "stream",
     "text": [
      "[1 2 3 4]\n",
      "int32\n",
      "1\n",
      "(4,)\n",
      "2\n",
      "(2, 3)\n",
      "(2, 2, 3)\n"
     ]
    }
   ],
   "source": [
    "# ndarray의 차원 관련 속성\n",
    "\n",
    "my_list = [1, 2, 3, 4]\n",
    "arr = np.array(my_list)\n",
    "print(arr)         # [1 2 3 4]\n",
    "print(arr.dtype)   # ndarray의 data type => int32\n",
    "print(arr.ndim)    # ndim은 차원수를 숫자로 알려줘요! => 1\n",
    "print(arr.shape)   # shape은 차원과 요소수를 tuple로 알려줘요!  => (4,)\n",
    "                   # 1차원이니까 tuple안에 요소가 1개. 그리고 그 값이 요소의 개수\n",
    "                   # (4,)\n",
    "\n",
    "my_list = [[1, 2, 3], [4, 5, 6]]\n",
    "arr = np.array(my_list)\n",
    "print(arr.ndim)    # 2\n",
    "print(arr.shape)   # (2, 3)\n",
    "\n",
    "# (2,2,3) 형태의 ndarray를 만들어보세요!\n",
    "my_list = [[[1,2,3], \n",
    "            [1,2,3]], \n",
    "           [[1,2,3], \n",
    "            [1,2,3]]]\n",
    "arr = np.array(my_list)\n",
    "print(arr.shape)  # (2, 2, 3)"
   ]
  },
  {
   "cell_type": "code",
   "execution_count": 32,
   "id": "da785f2a",
   "metadata": {},
   "outputs": [
    {
     "name": "stdout",
     "output_type": "stream",
     "text": [
      "float64\n",
      "[1 2 3 4 5]\n",
      "['1.2' '2.3' '3.0' '4.0' '5.7']\n"
     ]
    }
   ],
   "source": [
    "# ndarray의 type을 변환시켜보아요!  => astype()\n",
    "import numpy as np\n",
    "\n",
    "arr = np.array([1.2, 2.3, 3, 4, 5.7])\n",
    "print(arr.dtype)  # float64\n",
    "\n",
    "new_arr = arr.astype(np.int32)\n",
    "print(new_arr)   # [1 2 3 4 5]\n",
    "\n",
    "new_arr = arr.astype(np.str_)\n",
    "print(new_arr)   # ['1.2' '2.3' '3.0' '4.0' '5.7']\n"
   ]
  },
  {
   "cell_type": "code",
   "execution_count": 39,
   "id": "4effc21e",
   "metadata": {},
   "outputs": [
    {
     "name": "stdout",
     "output_type": "stream",
     "text": [
      "[[0. 0. 0. 0.]\n",
      " [0. 0. 0. 0.]\n",
      " [0. 0. 0. 0.]]\n",
      "[[1. 1. 1.]\n",
      " [1. 1. 1.]]\n",
      "[[[4.67296746e-307 1.69121096e-306 1.29060871e-306]\n",
      "  [1.69121231e-306 1.33511290e-306 8.34441742e-308]\n",
      "  [1.78022342e-306 6.23058028e-307 9.79107872e-307]]\n",
      "\n",
      " [[6.89807188e-307 7.56594375e-307 6.23060065e-307]\n",
      "  [1.78021527e-306 8.34454050e-308 1.11261027e-306]\n",
      "  [1.15706896e-306 1.33512173e-306 1.33504432e-306]]]\n",
      "[[7. 7. 7.]\n",
      " [7. 7. 7.]]\n",
      "[[1 2 3]\n",
      " [4 5 6]]\n",
      "[[0 0 0]\n",
      " [0 0 0]]\n",
      "[[1 1 1]\n",
      " [1 1 1]]\n"
     ]
    }
   ],
   "source": [
    "# ndarray를 만드는 다양한 함수들.\n",
    "import numpy as np\n",
    "\n",
    "my_list = [1, 2, 3]\n",
    "arr = np.array(my_list)   # list를 이용해서 ndarray를 생성!\n",
    "\n",
    "arr = np.zeros((3,4))   # shape은 tuple로 표현해요!\n",
    "print(arr)              # 주어진 shape에 대한 ndarray를 생성하고 0으로 채워요!\n",
    "\n",
    "arr = np.ones((2,3))    # shape은 tuple로 표현해요!\n",
    "print(arr)              # 주어진 shape에 대한 ndarray를 생성하고 1으로 채워요!\n",
    "\n",
    "arr = np.empty((2,3,3))  # shape은 tuple로 표현해요!\n",
    "print(arr)               # 주어진 shape에 대한 ndarray를 생성하고 값을 채우지 않아요!\n",
    "                         # 안에 쓰레기값이 들어갈 수 있어요!\n",
    "                         # 상대적으로 ndarray를 빠르게 생성할 수 있어요!\n",
    "arr = np.full((2,3), \n",
    "              7, \n",
    "              dtype=np.float64)        \n",
    "print(arr)\n",
    "\n",
    "######################\n",
    "# shape을 직접 지정하지 않고 다른 ndarray의 shape을 이용해서 ndarray를\n",
    "# 생성할 수 있어요!\n",
    "\n",
    "arr = np.array([[1,2,3], [4,5,6]], \n",
    "               dtype=np.int32)\n",
    "print(arr)   # [[1 2 3]\n",
    "             #  [4 5 6]]\n",
    "\n",
    "new_arr = np.zeros_like(arr)\n",
    "print(new_arr) # [[0 0 0]\n",
    "               #  [0 0 0]]\n",
    "    \n",
    "new_arr = np.ones_like(arr)\n",
    "print(new_arr) # [[1 1 1]\n",
    "               #  [1 1 1]]\n",
    "    "
   ]
  },
  {
   "cell_type": "code",
   "execution_count": 43,
   "id": "68adb04b",
   "metadata": {},
   "outputs": [
    {
     "name": "stdout",
     "output_type": "stream",
     "text": [
      "range(1, 10)\n",
      "[1 2 3 4 5 6 7 8 9]\n",
      "[1.3 3.3 5.3 7.3 9.3]\n"
     ]
    }
   ],
   "source": [
    "# ndarray를 만드는 방법!\n",
    "# np.array(), np.ones(), np.zeros(), np.full(). np.empty()\n",
    "# np.ones_like(), np.zeros_like(), np.full_like(), np.empty_like()\n",
    "# np.arange()\n",
    "\n",
    "import numpy as np\n",
    "\n",
    "# python의 range\n",
    "a = range(1,10)\n",
    "print(a)    # range(1, 10)  => 의미이고 실제 값을 하나씩 가지고 있지는 않아요!\n",
    "\n",
    "# numpy의 arange\n",
    "arr = np.arange(1,10)   # 1부터 10까지(10은 포함안해요!) 1씩 증가하는 값으로 구성된\n",
    "                        # ndarray( 실제로 값을 가지고 있어요! )\n",
    "print(arr)  # [1 2 3 4 5 6 7 8 9]\n",
    "\n",
    "arr = np.arange(1.3,10.1, 2)\n",
    "print(arr)   # [1.3 3.3 5.3 7.3 9.3]"
   ]
  },
  {
   "cell_type": "code",
   "execution_count": 4,
   "id": "f899abef",
   "metadata": {},
   "outputs": [
    {
     "name": "stdout",
     "output_type": "stream",
     "text": [
      "[ 0.  2.  4.  6.  8. 10.]\n",
      "[  0.   4.   8.  12.  16.  20.  24.  28.  32.  36.  40.  44.  48.  52.\n",
      "  56.  60.  64.  68.  72.  76.  80.  84.  88.  92.  96. 100. 104. 108.\n",
      " 112. 116. 120.]\n"
     ]
    }
   ],
   "source": [
    "###### ndarray를 만드는 방법!\n",
    "# np.array(), np.ones(), np.zeros(), np.full(). np.empty()\n",
    "# np.ones_like(), np.zeros_like(), np.full_like(), np.empty_like()\n",
    "# np.arange(), np.linspace()\n",
    "import numpy as np\n",
    "\n",
    "# np.linspace(start, stop, num)\n",
    "# start : 시작숫자와 , stop : 끝 숫자 ==> 둘 다 포함\n",
    "# num : 그 안에 균일한 간격으로 몇개의 숫자가 들어갈지를 나타내는 숫자.\n",
    "# 균일한 간격의 데이터를 생성해서  ndarray를 만들어 내는 함수\n",
    "# 원소간의 간격은 어떻게 생각하면 되나요? => (stop-start) / (num-1)\n",
    "\n",
    "arr = np.linspace(0,10,6)\n",
    "print(arr)\n",
    "\n",
    "arr = np.linspace(0,120,31)\n",
    "print(arr)\n"
   ]
  },
  {
   "cell_type": "code",
   "execution_count": 20,
   "id": "2768ef34",
   "metadata": {},
   "outputs": [
    {
     "name": "stdout",
     "output_type": "stream",
     "text": [
      "[0.64725252 0.5438793  0.94641411 ... 0.85741577 0.65918473 0.68128019]\n"
     ]
    },
    {
     "data": {
      "image/png": "[encoded data removed]",
      "text/plain": [
       "<Figure size 432x288 with 1 Axes>"
      ]
     },
     "metadata": {
      "needs_background": "light"
     },
     "output_type": "display_data"
    }
   ],
   "source": [
    "###### ndarray를 만드는 방법!\n",
    "# np.array(), np.ones(), np.zeros(), np.full(). np.empty()\n",
    "# np.ones_like(), np.zeros_like(), np.full_like(), np.empty_like()\n",
    "# np.arange(), np.linspace()\n",
    "# 랜덤값을 이용해서 ndarray를 만들어 내는 방법 - 5개의 함수가 있어요!\n",
    "# np.random.normal(), np.random.rand(), np.random.randn()\n",
    "# np.random.randint(), np.random.random()\n",
    "\n",
    "# np.random.normal() : ndarray를 만들어요. 그런데 그 안에 데이터는 난수로 채워요!\n",
    "#                      정규분포 실수 표본을 추출\n",
    "#                      평균, 표준편차값이 필요!\n",
    "#                      일단 난수를 추출하고 그 난수가 정규분포를 따르는지 확인!\n",
    "import numpy as np\n",
    "import matplotlib.pyplot as plt\n",
    "\n",
    "# mean = 50\n",
    "# std = 2\n",
    "# arr = np.random.normal(mean,\n",
    "#                        std,\n",
    "#                        (100000,))\n",
    "# print(arr)\n",
    "# plt.hist(arr,bins=100)\n",
    "# plt.show()\n",
    "\n",
    "# np.random.rand() : ndarray를 만들어요. 그런데 그 안에 데이터는 난수로 채워요!\n",
    "#                    [0,1) 0부터 1사이(0은 포함, 1은 불포함)의 실수형 난수를\n",
    "#                    균등분포에서 추출한 후 ndarray를 생성\n",
    "# np.random.rand(d1, d2, d3)\n",
    "# arr = np.random.rand(100000)\n",
    "# print(arr)\n",
    "# plt.hist(arr,bins=100)\n",
    "# plt.show()\n",
    "\n",
    "# np.random.randn() : ndarray를 만들어요. 그런데 그 안에 데이터는 난수로 채워요!\n",
    "#                     표준정규분포에서 난수를 추출(정규분포에서 평균이 0이고\n",
    "#                     표준편차가 1인 정규분포를 표준정규분포)\n",
    "# arr = np.random.randn(100000)\n",
    "# print(arr)\n",
    "# plt.hist(arr,bins=100)\n",
    "# plt.show()\n",
    "\n",
    "# np.random.randint() : ndarray를 만들어요. 그런데 그 안에 데이터는 난수로 채워요!\n",
    "#                       균등분포에서 정수형 난수를 추출. low와 high값을 줘야 해요!\n",
    "# arr = np.random.randint(1, 100, (100000,))\n",
    "# print(arr)\n",
    "# plt.hist(arr,bins=100)\n",
    "# plt.show()\n",
    "\n",
    "# np.random.random() : ndarray를 만들어요. 그런데 그 안에 데이터는 난수로 채워요!\n",
    "#                      균등분포에서 실수형 난수를 추출. \n",
    "#                      범위는 [0,1) 사이에서 난수를 추출\n",
    "# np.random.random(shape)\n",
    "arr = np.random.random((100000,))\n",
    "print(arr)\n",
    "plt.hist(arr,bins=100)\n",
    "plt.show()\n",
    "\n"
   ]
  },
  {
   "cell_type": "code",
   "execution_count": 119,
   "id": "e805c40e",
   "metadata": {},
   "outputs": [
    {
     "name": "stdout",
     "output_type": "stream",
     "text": [
      "[4 4 1]\n"
     ]
    }
   ],
   "source": [
    "# 기억해야 하는 random관련 함수들\n",
    "# 1. seed()\n",
    "#   랜덤값도 사실은 프로그램 알고리즘에 의해서 추출되는 값.\n",
    "#   랜덤값을 도출하는 초기값을 고정하면 항상 같은 랜덤값을 얻을 수 있어요!\n",
    "#   난수(랜덤값)의 재현성을 확보할 수 있어요!\n",
    "\n",
    "# np.random.seed(1)\n",
    "# np.random.seed(None)\n",
    "# arr = np.random.randint(1,10, (5,))\n",
    "# print(arr)\n",
    "\n",
    "# 2. 데이터의 순서를 바꿀때 shuffle()\n",
    "# arr = np.arange(1,10)\n",
    "# print(arr)\n",
    "# np.random.shuffle(arr)   # 원본이 변경되요. 복사본을 만들지 않아요!\n",
    "# print(arr)\n",
    "\n",
    "# 3. sampling에서 사용할 수 있는 choice()\n",
    "# np.random.choice(a, size, replace, p)\n",
    "# a : 배열(ndarray)\n",
    "# size : 숫자 (몇개를 뽑을건지.)\n",
    "# replace : True이면 한번뽑을것을 다시 뽑을 수 있어요!\n",
    "# p : 확률(각 데이터가 선택될 수 있는 확률)\n",
    "\n",
    "# arr = np.random.choice(np.array([1,2,3,4,5]), 3)\n",
    "# arr = np.random.choice(np.array([1,2,3,4,5]), 3, replace=True)\n",
    "# arr = np.random.choice(np.array([1,2,3,4,5]), 3, replace=False)\n",
    "arr = np.random.choice(np.array([1,2,3,4,5]), 3, p=[0.1, 0.2, 0.2, 0.5, 0])\n",
    "print(arr)"
   ]
  },
  {
   "cell_type": "code",
   "execution_count": 129,
   "id": "8800bfec",
   "metadata": {},
   "outputs": [
    {
     "name": "stdout",
     "output_type": "stream",
     "text": [
      "[[ 1  2  3  4  5  6]\n",
      " [ 7  8  9 10 11 12]]\n",
      "(2, 6)\n",
      "[[100   2   3   4]\n",
      " [  5   6   7   8]\n",
      " [  9  10  11  12]]\n",
      "[[ 1  2  3  4  5  6]\n",
      " [ 7  8  9 10 11 12]]\n"
     ]
    }
   ],
   "source": [
    "# ndarray의 특징, 속성(shape)\n",
    "# ndarray 생성\n",
    "# - np.array([1,2,3])  # list를 이용한 ndarray 생성\n",
    "# - np.ones(), np.zeros(), ...   # 다양한 생성 함수\n",
    "# - np.arange(), np.linspace()   # 다양한 생성 함수\n",
    "# - np.random.normal(), 총5가지  # random값을 이용한 ndarray 생성 함수\n",
    "# 기억해야 할 random 관련 함수\n",
    "# - np.random.seed(), np.random.shuffle(), np.random.choice()\n",
    "# ndarray의 shape과 관련된 중요한 함수들(reshape(), ravel(), resize())\n",
    "\n",
    "arr = np.array([[1,2,3,4,5,6], [7,8,9,10,11,12]])\n",
    "print(arr)        # 2차원의 ndarray\n",
    "print(arr.shape)  # (2, 6)\n",
    "\n",
    "# new_arr = arr.reshape(3,4)\n",
    "# # [[ 1  2  3  4  5  6]\n",
    "# #  [ 7  8  9 10 11 12]]\n",
    "# print(new_arr)\n",
    "# # 1  2   3  4 \n",
    "# # 5  6   7  8\n",
    "# # 9 10  11 12\n",
    "# new_arr[0,0] = 100\n",
    "# print(new_arr)\n",
    "# print(arr)\n",
    "\n",
    "# reshape() : shape을 바꿔서 새로운 ndarray를 만들어 내는게 아니예요!\n",
    "#             shape을 바꿔서 원래 ndarray에 데이터를 다르게 보여주는 view를 생성\n",
    "# 만약 모양을 바꿔어서 새로운 ndarray를 생성하고 싶으면 copy()를 이용\n",
    "new_arr = arr.reshape(3,4).copy()\n",
    "new_arr[0,0] = 100\n",
    "print(new_arr)\n",
    "print(arr)"
   ]
  },
  {
   "cell_type": "code",
   "execution_count": 131,
   "id": "dd511120",
   "metadata": {},
   "outputs": [
    {
     "name": "stdout",
     "output_type": "stream",
     "text": [
      "[[ 1  2  3  4  5  6]\n",
      " [ 7  8  9 10 11 12]]\n",
      "(2, 6)\n",
      "[ 1  2  3  4  5  6  7  8  9 10 11 12]\n"
     ]
    }
   ],
   "source": [
    "# reshape()은 내가 원하는 shape의 view를 만들 수 있어요!\n",
    "# ravel()은 무조건 1차원의 view를 만들어요!\n",
    "arr = np.array([[1,2,3,4,5,6], [7,8,9,10,11,12]])\n",
    "print(arr)        # 2차원의 ndarray\n",
    "print(arr.shape)  # (2, 6)\n",
    "\n",
    "new_arr = arr.ravel()  # 1차원으로 view를 생성\n",
    "# new_arr = arr.reshape(12)\n",
    "print(new_arr)  # [ 1  2  3  4  5  6  7  8  9 10 11 12]\n"
   ]
  },
  {
   "cell_type": "code",
   "execution_count": 136,
   "id": "eefb426b",
   "metadata": {},
   "outputs": [
    {
     "name": "stdout",
     "output_type": "stream",
     "text": [
      "[[ 1  2  3  4  5  6]\n",
      " [ 7  8  9 10 11 12]]\n",
      "(2, 6)\n",
      "None\n",
      "[[1 2]\n",
      " [3 4]\n",
      " [5 6]]\n"
     ]
    }
   ],
   "source": [
    "# resize()는 약간 달라요!\n",
    "arr = np.array([[1,2,3,4,5,6], [7,8,9,10,11,12]])\n",
    "print(arr)        # 2차원의 ndarray\n",
    "print(arr.shape)  # (2, 6)\n",
    "\n",
    "# new_arr = arr.reshape(3,5)  # reshape은 요소수가 맞지 않으면 view가 생성되지 않아요!\n",
    "new_arr = arr.resize(3,2)\n",
    "print(new_arr)  # None => resize는 복사본을 만들지 않아요. 원본을 변경\n",
    "print(arr)      # resize()는 요소의 개수가 같지 않아도 수행이 가능.          "
   ]
  },
  {
   "cell_type": "code",
   "execution_count": 146,
   "id": "364e56d9",
   "metadata": {},
   "outputs": [
    {
     "name": "stdout",
     "output_type": "stream",
     "text": [
      "[[ 0  1  2  3]\n",
      " [ 4  5  6  7]\n",
      " [ 8  9 10 11]]\n",
      "[[ 6  7]\n",
      " [10 11]]\n"
     ]
    }
   ],
   "source": [
    "####### 기본적인 사항들 #######\n",
    "# ndarray의 특징, 속성(shape)\n",
    "# ndarray 생성\n",
    "# - np.array([1,2,3])  # list를 이용한 ndarray 생성\n",
    "# - np.ones(), np.zeros(), ...   # 다양한 생성 함수\n",
    "# - np.arange(), np.linspace()   # 다양한 생성 함수\n",
    "# - np.random.normal(), 총5가지  # random값을 이용한 ndarray 생성 함수\n",
    "# 기억해야 할 random 관련 함수\n",
    "# - np.random.seed(), np.random.shuffle(), np.random.choice()\n",
    "# ndarray의 shape과 관련된 중요한 함수들(reshape(), ravel(), resize())\n",
    "\n",
    "\n",
    "####### indexing, slicing ####### (ndarray 사용방법)\n",
    "# arr = np.arange(10,15,1)  # [10 11 12 13 14]\n",
    "\n",
    "# print(arr[0])  # 10        # 기본적인 index\n",
    "# print(arr[1:3]) # [11 12]  # 기본적인 slicing은 python의 list와 동일.\n",
    "# print(arr[1:-1]) # [11 12 13]\n",
    "\n",
    "arr = np.arange(0,12).reshape(3,4)\n",
    "print(arr)\n",
    "\n",
    "# print(arr[1,2])  # 6\n",
    "# print(arr[1])    # [ 4  5  6  7]\n",
    "# print(arr[1,:])  # [4 5 6 7]\n",
    "print(arr[1:,2:])  # [[ 6  7]\n",
    "                   #  [10 11]]\n",
    "# 1차원에 대한 indexing과 slicing이 다차원으로 확장"
   ]
  },
  {
   "cell_type": "code",
   "execution_count": 162,
   "id": "f8b55f29",
   "metadata": {},
   "outputs": [
    {
     "name": "stdout",
     "output_type": "stream",
     "text": [
      "[5 8 9 5 0 0 1 7 6 9]\n",
      "[8 0 0 6]\n"
     ]
    }
   ],
   "source": [
    "# Boolean Indexing & Fancy Indexing\n",
    "# 우리 이거 좀 잘 해 보아요! 제발!!!\n",
    "\n",
    "# Boolean Indexing\n",
    "# indexing 방법 중 하나로..boolean mask를 이용해서 indexing하는 방법\n",
    "\n",
    "import numpy as np\n",
    "\n",
    "np.random.seed(1)\n",
    "\n",
    "arr = np.random.randint(0, 10, (10,))\n",
    "print(arr)   # [5 8 9 5 0 0 1 7 6 9]\n",
    "\n",
    "# ndarray의 사칙연산 => + , - , * , /\n",
    "# print(arr + 10)  # [15 18 19 15 10 10 11 17 16 19]\n",
    "# print(arr % 2)          # [1 0 1 1 0 0 1 1 0 1]\n",
    "# print(arr % 2 == 0)     # [False  True False False  True  True False False  True False]\n",
    "# True, False로만 구성된 ndarray를 boolean mask라고 표현해요!\n",
    "my_mask = (arr % 2 == 0)\n",
    "# boolean indexing은 boolean mask를 가지고 indexing하는 것을 의미\n",
    "print(arr[my_mask])   # [8 0 0 6]\n",
    "\n",
    "# python list 연산\n",
    "# list1 = [1,2,3]\n",
    "# list2 = [4,5,6]\n",
    "# print(list1 + list2)  # list 연결 [1, 2, 3, 4, 5, 6]\n",
    "\n",
    "# ndarray는 같은 shape에 대해서만 연산이 가능!\n",
    "# arr1 = np.array([1,2,3])  # (4,)\n",
    "# arr2 = np.array([4,5,6])  # (3,)\n",
    "# print(arr1 + arr2)   # [5 7 9]\n",
    "\n",
    "# ndarray는 만약 shape을 맞출 수 있으면 broadcasting이 진행!(차원을 맞춰줘요!)\n",
    "# arr1 = np.array([1,2,3])\n",
    "# print(arr1 + 4)   # [5 6 7]"
   ]
  },
  {
   "cell_type": "code",
   "execution_count": 171,
   "id": "65eb4029",
   "metadata": {},
   "outputs": [
    {
     "name": "stdout",
     "output_type": "stream",
     "text": [
      "[[ 0  1  2  3]\n",
      " [ 4  5  6  7]\n",
      " [ 8  9 10 11]]\n",
      "[ 1 11]\n",
      "[[ 1  3]\n",
      " [ 9 11]]\n"
     ]
    }
   ],
   "source": [
    "# Fancy Indexing\n",
    "# ndarray에 index list을 전달해서 indexing하는 방법(??)\n",
    "\n",
    "# arr = np.array([1,2,3,4,5,6])\n",
    "# print(arr)\n",
    "\n",
    "# print(arr[3])  # 4  => indexing\n",
    "# print(arr[3:]) # [4 5 6]  => slicing\n",
    "# print(arr[[3, 5]]) # [4 6] => fancy indexing\n",
    "\n",
    "arr = np.arange(0,12,1).reshape(3,4)\n",
    "print(arr)\n",
    "\n",
    "# print(arr[0:2, 1:])   # [[1 2 3]\n",
    "                      #  [5 6 7]]\n",
    "                      \n",
    "# print(arr[0:2, [1,3]]) # [[1 3]\n",
    "                       #  [5 7]]  \n",
    "    \n",
    "                       # [[1 3]\n",
    "                       #  [9 11]] \n",
    "print(arr[[0,2], [1,3]])    # [ 1 11]    ???? 왜 안되지???(numpy 내부구조)  \n",
    "# 이런 경우를 위해 함수를 하나 제공!\n",
    "\n",
    "# np.ix_() 함수를 이용\n",
    "print(arr[np.ix_([0,2], [1,3])])  # [[ 1  3]\n",
    "                                  #  [ 9 11]]"
   ]
  }
 ],
 "metadata": {
  "kernelspec": {
   "display_name": "Python [conda env:machine] *",
   "language": "python",
   "name": "conda-env-machine-py"
  },
  "language_info": {
   "codemirror_mode": {
    "name": "ipython",
    "version": 3
   },
   "file_extension": ".py",
   "mimetype": "text/x-python",
   "name": "python",
   "nbconvert_exporter": "python",
   "pygments_lexer": "ipython3",
   "version": "3.8.12"
  }
 },
 "nbformat": 4,
 "nbformat_minor": 5
}
