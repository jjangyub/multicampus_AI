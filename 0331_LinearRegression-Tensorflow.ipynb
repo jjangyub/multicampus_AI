{
 "cells": [
  {
   "cell_type": "code",
   "execution_count": 1,
   "id": "c3d7abcc",
   "metadata": {
    "scrolled": false
   },
   "outputs": [
    {
     "name": "stdout",
     "output_type": "stream",
     "text": [
      "WARNING:tensorflow:From C:\\Users\\yeop\\AppData\\Local\\Temp\\ipykernel_10464\\3632441685.py:12: The name tf.Session is deprecated. Please use tf.compat.v1.Session instead.\n",
      "\n",
      "10.0\n",
      "40.0\n",
      "[10.0, 40.0]\n"
     ]
    }
   ],
   "source": [
    "# tensorflow에 대해서 알아보아요!\n",
    "\n",
    "import tensorflow as tf\n",
    "\n",
    "# 상수 node를 만들어요!\n",
    "node1 = tf.constant(10, dtype=tf.float32)\n",
    "node2 = tf.constant(30, dtype=tf.float32)\n",
    "\n",
    "node3 = node1 + node2\n",
    "\n",
    "# Session이라는게 필요해요! => 그래프를 실행시키기 위해서\n",
    "sess = tf.Session()\n",
    "\n",
    "print(sess.run(node1))  # graph를 실행시켜요! -> node1을 실행\n",
    "print(sess.run(node3))  # graph를 실행시켜요! -> node3을 실행\n",
    "print(sess.run([node1, node3]))"
   ]
  },
  {
   "cell_type": "code",
   "execution_count": 2,
   "id": "3dea8242",
   "metadata": {},
   "outputs": [
    {
     "name": "stdout",
     "output_type": "stream",
     "text": [
      "1.15.0\n"
     ]
    }
   ],
   "source": [
    "import tensorflow as tf\n",
    "\n",
    "print(tf.__version__)"
   ]
  },
  {
   "cell_type": "code",
   "execution_count": 3,
   "id": "fd327a40",
   "metadata": {},
   "outputs": [
    {
     "name": "stdout",
     "output_type": "stream",
     "text": [
      "WARNING:tensorflow:From C:\\Users\\yeop\\AppData\\Local\\Temp\\ipykernel_10464\\682332486.py:5: The name tf.placeholder is deprecated. Please use tf.compat.v1.placeholder instead.\n",
      "\n",
      "40.0\n"
     ]
    }
   ],
   "source": [
    "# 현재 tensorflow 버전은 1.15버전이예요!\n",
    "\n",
    "import tensorflow as tf\n",
    "\n",
    "node1 = tf.placeholder(dtype=tf.float32)  # scalar\n",
    "                                          # 만약 다차원데이터가 입력될려면.. \n",
    "node2 = tf.placeholder(dtype=tf.float32)\n",
    "\n",
    "node3 = node1 + node2\n",
    "\n",
    "sess = tf.Session()\n",
    "\n",
    "result = sess.run(node3, feed_dict={node1: 10,\n",
    "                                    node2: 30})\n",
    "print(result)"
   ]
  },
  {
   "cell_type": "code",
   "execution_count": 4,
   "id": "9ab5908b",
   "metadata": {
    "scrolled": false
   },
   "outputs": [
    {
     "name": "stdout",
     "output_type": "stream",
     "text": [
      "WARNING:tensorflow:From C:\\Users\\yeop\\AppData\\Local\\Temp\\ipykernel_10464\\3603667385.py:38: The name tf.train.GradientDescentOptimizer is deprecated. Please use tf.compat.v1.train.GradientDescentOptimizer instead.\n",
      "\n",
      "WARNING:tensorflow:From C:\\Users\\yeop\\AppData\\Local\\Temp\\ipykernel_10464\\3603667385.py:42: The name tf.global_variables_initializer is deprecated. Please use tf.compat.v1.global_variables_initializer instead.\n",
      "\n",
      "W : [[ 0.11480503]\n",
      " [ 0.92670673]\n",
      " [-0.40606803]], b : [1.2062198], loss : 12753.08203125\n",
      "W : [[0.55394995]\n",
      " [1.2752045 ]\n",
      " [0.19222881]], b : [1.2118986], loss : 38.28728485107422\n",
      "W : [[0.5370583 ]\n",
      " [1.1776776 ]\n",
      " [0.30393788]], b : [1.2118986], loss : 30.84787368774414\n",
      "W : [[0.5216701 ]\n",
      " [1.0927331 ]\n",
      " [0.40191165]], b : [1.2118986], loss : 25.148332595825195\n",
      "W : [[0.5076825 ]\n",
      " [1.0186127 ]\n",
      " [0.48793218]], b : [1.2118986], loss : 20.775224685668945\n",
      "W : [[0.49501637]\n",
      " [0.9539256 ]\n",
      " [0.5634437 ]], b : [1.2118986], loss : 17.419883728027344\n",
      "W : [[0.48343298]\n",
      " [0.8976291 ]\n",
      " [0.62972   ]], b : [1.2118986], loss : 14.8478422164917\n",
      "W : [[0.4729279 ]\n",
      " [0.84852016]\n",
      " [0.6879154 ]], b : [1.2118986], loss : 12.873812675476074\n",
      "W : [[0.4632492]\n",
      " [0.805845 ]\n",
      " [0.739032 ]], b : [1.2118986], loss : 11.360040664672852\n",
      "W : [[0.45457703]\n",
      " [0.7685252 ]\n",
      " [0.7839238 ]], b : [1.2118986], loss : 10.196789741516113\n"
     ]
    }
   ],
   "source": [
    "# Q1, Q2, Q3, Exam 예제를 이용해서\n",
    "# Tensorflow를 사용해서 Multiple Linear Regression을 구현해 보아요!~\n",
    "import tensorflow as tf\n",
    "import pandas as pd\n",
    "import numpy as np\n",
    "\n",
    "\n",
    "# Raw Data Loading\n",
    "df = pd.read_csv('./data/student_exam_score.csv')\n",
    "# display(df.head())\n",
    "\n",
    "# 결측치 없고, 이상치 없구요. 정규화도 필요없어요!\n",
    "# 데이터전처리 안할꺼예요!\n",
    "\n",
    "# Training Data Set\n",
    "x_data = df.drop('exam', axis=1, inplace=False)   # (25,3)\n",
    "t_data = df['exam'].values.reshape(-1,1)   # (25,1)\n",
    "\n",
    "# Prediction\n",
    "predict_data = np.array([[90, 100, 95]])   # (1, 3)\n",
    "\n",
    "# Placeholder\n",
    "X = tf.placeholder(shape=[None,3], dtype=tf.float32)\n",
    "T = tf.placeholder(shape=[None,1], dtype=tf.float32)\n",
    "\n",
    "# Weight, bias\n",
    "# W는 어떤형태여야 하나요? => (3,1) 형태여야 하고 랜덤하게 생성\n",
    "W = tf.Variable(tf.random.normal([3,1]))\n",
    "b = tf.Variable(tf.random.normal([1]))\n",
    "\n",
    "# model(hypothesis, 가설, predict model)   # y = Wx + b  => XW + b\n",
    "H = tf.matmul(X,W) + b   \n",
    "\n",
    "# loss function\n",
    "loss = tf.reduce_mean(tf.square(H-T))\n",
    "\n",
    "# train node를 생성해야 해요!\n",
    "train = tf.train.GradientDescentOptimizer(learning_rate=1e-7).minimize(loss)\n",
    "\n",
    "# Session을 생성하고 초기화를 진행\n",
    "sess = tf.Session()\n",
    "sess.run(tf.global_variables_initializer())  # 초기화 구문.\n",
    "# (그래프를 실행하기 전에 먼저 실행되어야 해요!)\n",
    "\n",
    "# 반복 학습\n",
    "for step in range(300000):\n",
    "    \n",
    "    _, W_val, b_val, loss_val = sess.run([train, W, b, loss], \n",
    "                                         feed_dict={X: x_data,\n",
    "                                                    T: t_data})\n",
    "    if step % 30000 == 0:\n",
    "        print('W : {}, b : {}, loss : {}'.format(W_val, b_val, loss_val))\n",
    "        "
   ]
  },
  {
   "cell_type": "code",
   "execution_count": 5,
   "id": "e2801f62",
   "metadata": {},
   "outputs": [
    {
     "name": "stdout",
     "output_type": "stream",
     "text": [
      "[[192.78993]]\n"
     ]
    }
   ],
   "source": [
    "# Prediction\n",
    "\n",
    "result = sess.run(H, \n",
    "                  feed_dict={X: np.array([[89, 100, 95]])})\n",
    "print(result)   # [[190.55646]]"
   ]
  },
  {
   "cell_type": "code",
   "execution_count": null,
   "id": "43a24147",
   "metadata": {},
   "outputs": [],
   "source": []
  }
 ],
 "metadata": {
  "kernelspec": {
   "display_name": "Python [conda env:.conda-machine_TF15] *",
   "language": "python",
   "name": "conda-env-.conda-machine_TF15-py"
  },
  "language_info": {
   "codemirror_mode": {
    "name": "ipython",
    "version": 3
   },
   "file_extension": ".py",
   "mimetype": "text/x-python",
   "name": "python",
   "nbconvert_exporter": "python",
   "pygments_lexer": "ipython3",
   "version": "3.7.13"
  }
 },
 "nbformat": 4,
 "nbformat_minor": 5
}
