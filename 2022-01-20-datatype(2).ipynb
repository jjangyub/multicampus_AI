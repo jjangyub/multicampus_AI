{
 "cells": [
  {
   "cell_type": "code",
   "execution_count": 1,
   "id": "cd15c533",
   "metadata": {},
   "outputs": [],
   "source": [
    "# 1. Numeric\n",
    "#     - <class int>  :   정수\n",
    "#     - <class float>  :  실수\n",
    "# 2. Sequence\n",
    "#     순서가 있는 자료형(자료구조)\n",
    "#     - <class list>\n",
    "#     - <class tuple>\n",
    "#     - 여러개의 데이터를 방을 이용해서 저장하는 자료구조\n",
    "#     - 실제 데이터를 가지고 있다!\n",
    "#     - <class range>\n",
    "# 3. Text Sequence\n",
    "#     - <class str>\n",
    "# 4. Mapping Type\n",
    "#     - <class dict>\n",
    "# 5. Set Type\n",
    "#     - <class set>\n",
    "# 6. Bool Type\n",
    "#     - <class bool>"
   ]
  },
  {
   "cell_type": "code",
   "execution_count": 5,
   "id": "00677eaf",
   "metadata": {},
   "outputs": [
    {
     "name": "stdout",
     "output_type": "stream",
     "text": [
      "range(0, 10)\n",
      "range(0, 10)\n",
      "True\n",
      "11\n"
     ]
    }
   ],
   "source": [
    "#   - <class range>\n",
    "# 숫자만 해당. 실제 데이터를 가지고 있지 않음\n",
    "\n",
    "# a = range(초기값, 마지막값, 증가값)\n",
    "a = range(0, 10, 1)  #0, 1, 2,...9\n",
    "print(a)\n",
    "\n",
    "# list, tuple 같은 경우 100000개의 데이터를 가지고 있으면 실제 메모리양도\n",
    "# 데이터 갯수만큼 많이 필요!\n",
    "# 하지만 range는 실제 데이터가 아닌 데이터의 영역(range)에 대한 의미만\n",
    "# 저장하기 때문에 작은 메모리 공간으로 많은 데이터를 표현할 수 있다!\n",
    "\n",
    "# 일반적으로 아래와 같이 사용\n",
    "a = range(10)   # range(0, 10, 1)\n",
    "print(a)   # range(0, 10)\n",
    "\n",
    "# 많이 사용하는 새로운 연산자 하나만 살펴보자!\n",
    "# 어제 했던 여러가지 연산자 -> +, -, *, /, %, //, ==, is\n",
    "# in -> 안에 들어있나요? (논리연산자)\n",
    "\n",
    "print(6 in range(10))   #True\n",
    "\n",
    "#indexing, slicing\n",
    "a = range(10, 50, 1)\n",
    "print(a[1])   # indxing 가능\n",
    "print(a[5:10])   # range(15, 20)  slicing은 원본의 type을 유지"
   ]
  },
  {
   "cell_type": "code",
   "execution_count": 20,
   "id": "3ca9c44e",
   "metadata": {},
   "outputs": [
    {
     "name": "stdout",
     "output_type": "stream",
     "text": [
      "<class 'str'>\n",
      "['t']\n",
      "this \n",
      "True\n",
      "True\n",
      "12\n",
      "잠이 옵니다\n",
      "show me the code\n",
      "나는 바나나를 20개를 가지고 있고 사과를 8개를 가지고 있다!\n",
      "바나나 개수 : 20\n"
     ]
    }
   ],
   "source": [
    "# 문자열\n",
    "# python은 문자와 문자열을 구분하지 않음!\n",
    "\n",
    "# 다른언어(C, Java)에서\n",
    "# 문자 -> 1글자 -> 'a' (character)\n",
    "# 문자열 -> 1글자를 포함한 여러글자 -> \"aaa\" \"a\" (string)\n",
    "\n",
    "# python은 문자와 문자열을 구분하지 않음!\n",
    "# python은 문자개념이 없음! 몽땅 다 문자열\n",
    "# '', \"\" 두 표현이 같은 표현임, 맘에 드는거 써도 됨\n",
    "# 일반적으로 문자열을 표현할 때는 ''을 관용적으로 이용\n",
    "\n",
    "a = '소리없는 아우성'\n",
    "b = 'hello world'\n",
    "print(type(a))   # <class 'str'>\n",
    "\n",
    "a = 'this is a sample text'\n",
    "print([a[-1]])   # t\n",
    "print(a[:5])\n",
    "print('sam' in a)   #True\n",
    "print('haha' not in a)   #True\n",
    "\n",
    "result = a.upper()   # 다 대문자화 하기\n",
    "\n",
    "a = '   잠이 옵니다   '\n",
    "# 1. 이 문자열의 전체 길이는? \n",
    "print(len(a))\n",
    "# 2. 문자열의 앞 뒤 공백 제거                                                                                                                                                                                     \n",
    "print(a.strip())\n",
    "# 3. 문자열 일부분을 다른 문자열로 변경하기\n",
    "a = 'show me the money'\n",
    "result = a.replace('money', 'code')\n",
    "print(result)\n",
    "# 4. 문자열의 일부분을 치환하기\n",
    "num_banana = 20\n",
    "num_apple = 8\n",
    "\n",
    "a = '나는 바나나를 {}개를 가지고 있고 사과를 {}개를 가지고 있다!'\n",
    "result = a.format(num_banana, num_apple)\n",
    "print(result)\n",
    "\n",
    "print('바나나 개수 : {}'.format(num_banana))"
   ]
  },
  {
   "cell_type": "code",
   "execution_count": 28,
   "id": "1117c490",
   "metadata": {},
   "outputs": [
    {
     "name": "stdout",
     "output_type": "stream",
     "text": [
      "{'name': '홍길동', 'age': 20, 'addr': '서울'}\n",
      "{'name': '홍길동', 'age': 20, 'addr': '서울', 'mobile': '01011112222'}\n",
      "홍길동\n",
      "{'name': '홍길동', 'age': 40, 'addr': '서울', 'mobile': '01011112222'}\n",
      "{'name': '아이유', 'age': 30}\n",
      "{'name': '아이유', 'age': 30, 10: '서울'}\n",
      "dict_keys(['name', 'age'])\n",
      "dict_values(['아이유', 30])\n",
      "dict_items([('name', '아이유'), ('age', 30)])\n",
      "{}\n"
     ]
    }
   ],
   "source": [
    "# dictionary (딕셔너리)\n",
    "# dictionary를 만들기 위해서 사용하는 class -> <class dict>\n",
    "# list -> []\n",
    "# tuple -> ()\n",
    "# dict -> {}\n",
    "# {}를 이용하고 키와 value의 쌍을 저장하는 집합자료구조\n",
    "# 순서가 존재X\n",
    "\n",
    "a = {\n",
    "    'name' : '홍길동',\n",
    "    'age' : 20,\n",
    "    'addr' : '서울'\n",
    "}\n",
    "print(a)\n",
    "\n",
    "#추가적으로 데이터 저장하기\n",
    "a['mobile'] = '01011112222'\n",
    "print(a)\n",
    "\n",
    "# 딕셔너리 안의 값 조회하기\n",
    "print(a['name'])\n",
    "# 값 수정하기\n",
    "a['age'] = 40\n",
    "print(a)\n",
    "\n",
    "a = {\n",
    "    'name' : '아이유',\n",
    "    'age' : 20,\n",
    "    'age' : 30\n",
    "}\n",
    "# 의미론적으로는 맞지 않음! 코드에러는 안남!\n",
    "print(a)\n",
    "\n",
    "a[10] = '서울'   # key값으로 정수 사용 가능\n",
    "print(a)\n",
    "\n",
    "# a = {'name' : '홍길동',\n",
    "#     ['address','addr'] : '서울'}\n",
    "# key값으로 리스트 사용 불가능\n",
    "\n",
    "a = {\n",
    "    'name' : '홍길동',\n",
    "    ('address',) : '서울'\n",
    "}\n",
    "# key값으로 tuple 사용 가능  -> key값은 변경이 되면 안됨 그래서 튜플 사용 가능\n",
    "a = {\n",
    "    'name' : '아이유',\n",
    "    'age' : 30\n",
    "}\n",
    "\n",
    "# 모든 key값을 얻어내는 기능\n",
    "print(a.keys()) # dict_keys(['name', 'age'])\n",
    "                # 만약 list라면 -> ['name', 'age']로 출력이 되어야함\n",
    "# 모든 value값을 얻어내는 기능\n",
    "print(a.values())\n",
    "# 모든 key와 value의 쌍을 얻어내는 기능\n",
    "print(a.items()) # key와 value를 tuple로 만들어서 리스트처럼 생성\n",
    "\n",
    "# 몽땅 삭제\n",
    "a.clear()\n",
    "print(a)"
   ]
  },
  {
   "cell_type": "code",
   "execution_count": 30,
   "id": "dd10b124",
   "metadata": {},
   "outputs": [
    {
     "name": "stdout",
     "output_type": "stream",
     "text": [
      "{'아이유', 20, '홍길동', '서울'}\n",
      "<class 'set'>\n",
      "{'아이유', 20, '홍길동', '서울'}\n"
     ]
    }
   ],
   "source": [
    "# set은 주머니 개념\n",
    "# 여러개의 데이터를 저장할 수 있는 집합 자료구조\n",
    "# 순서가 없음\n",
    "# 키의 개념이 없음! (값만 저장해요!)\n",
    "# set안에서는 중복 허용X\n",
    "# literal -> {} (dictionary와 set은 둘 다 {}를 사용)\n",
    "a = {'홍길동', '아이유', 20, '서울'}\n",
    "print(a)\n",
    "print(type(a))   # <class set>\n",
    "\n",
    "a = {'홍길동', '아이유', 20, '서울', '서울'}\n",
    "print(a)\n",
    "\n",
    "a = set([1, 2, 3, 4, 5])\n",
    "b = set([3, 4, 5, 6, 7])\n",
    "\n",
    "# 합집합\n",
    "result = a | b\n",
    "print(result)\n",
    "# 교집합\n",
    "result = a & b\n",
    "print(result)\n",
    "# 차집합\n",
    "result = a - b\n",
    "print(result)\n",
    "\n",
    "# set에 데이터를 추가하기\n",
    "a = {1, 2, 3}\n",
    "a,add(4)\n",
    "print(a)\n",
    "a.add((45, ))\n",
    "print(a)\n",
    "# a.add([1, 2, 3, 4])  #Error\n",
    "# a.add({'name':'홍길동'})  #Error\n",
    "# a.add({6, 7, 8})   #Error\n",
    "\n",
    "a = {1, 2, 3}  # add는 1개만 추가, update는 여러개 추가\n",
    "a.update([6, 7, 8])   # list에 있는 인자 여러개를 추가한다는 의미\n",
    "print(a)\n",
    "\n",
    "# 특정 요소 삭제하기\n",
    "a.remove(2)"
   ]
  },
  {
   "cell_type": "code",
   "execution_count": 31,
   "id": "79cc550c",
   "metadata": {},
   "outputs": [
    {
     "name": "stdout",
     "output_type": "stream",
     "text": [
      "False\n",
      "True\n",
      "True\n",
      "False\n"
     ]
    }
   ],
   "source": [
    "# True, False\n",
    "# 연산자는 and, or, not 연산\n",
    "print(True and False)   #False\n",
    "print(True and True)    #True\n",
    "print(True or False)   #True\n",
    "print(not True)   #False\n",
    "\n",
    "#기억해야 될 사항\n",
    "# 다음의 값들은 모두 False로 간주됨\n",
    "# 빈 문자열('')  empty string -> False\n",
    "# print(bool(''and True))   #False\n",
    "# [], (), {}, 숫자 0, None\n",
    "    "
   ]
  },
  {
   "cell_type": "code",
   "execution_count": 32,
   "id": "181a9e63",
   "metadata": {},
   "outputs": [
    {
     "name": "stdout",
     "output_type": "stream",
     "text": [
      "bye\n"
     ]
    }
   ],
   "source": [
    "# control statement (제어문)\n",
    "# if, for, while\n",
    "\n",
    "# 제어문 - if\n",
    "# 논리값을 기반으로 실행코드의 분기를 시키는 제어문\n",
    "# python은 코드블럭을 표현하기 위해 indentation(들여쓰기)-4칸 들여쓰기\n",
    "\n",
    "if 20 > 30:\n",
    "    print(\"hi\")\n",
    "else:\n",
    "    print(\"bye\")"
   ]
  },
  {
   "cell_type": "code",
   "execution_count": 33,
   "id": "e13a0b12",
   "metadata": {},
   "outputs": [
    {
     "name": "stdout",
     "output_type": "stream",
     "text": [
      "1\n",
      "2\n",
      "3\n",
      "4\n",
      "5\n",
      "안녕\n",
      "안녕\n",
      "안녕\n",
      "안녕\n",
      "안녕\n",
      "안녕\n",
      "안녕\n",
      "안녕\n",
      "안녕\n",
      "안녕\n"
     ]
    }
   ],
   "source": [
    "# for statement(반복문)\n",
    "# 반복할 횟수를 일반적으로 알고 있을 때!\n",
    "# 반복문 - for\n",
    "a = [1, 2, 3, 4, 5]\n",
    "for kk in a:\n",
    "    print(kk)\n",
    "for kk in range(10):\n",
    "    print('안녕')"
   ]
  },
  {
   "cell_type": "code",
   "execution_count": 35,
   "id": "5aa9c2e5",
   "metadata": {},
   "outputs": [
    {
     "name": "stdout",
     "output_type": "stream",
     "text": [
      "hi\n",
      "hi\n",
      "hi\n",
      "hi\n",
      "hi\n",
      "hi\n",
      "hi\n",
      "hi\n",
      "hi\n"
     ]
    }
   ],
   "source": [
    "# while statement(반복문)\n",
    "# 조건에 따라서 반복을 지속하고 싶을 때\n",
    "a = 1\n",
    "while a < 10:\n",
    "    print('hi')\n",
    "    a = a + 1"
   ]
  },
  {
   "cell_type": "code",
   "execution_count": 36,
   "id": "6081aca4",
   "metadata": {},
   "outputs": [
    {
     "name": "stdout",
     "output_type": "stream",
     "text": [
      "aa\n",
      "aa\n",
      "aa\n",
      "aa\n",
      "aa\n"
     ]
    }
   ],
   "source": [
    "# break 구문\n",
    "# 반복문에서 사용되고 break를 만나면 가장 가까운 반복문을 탈출\n",
    "\n",
    "a = 0\n",
    "while True:\n",
    "    print('aa')\n",
    "    a = a + 1\n",
    "    if a == 5:\n",
    "        break"
   ]
  },
  {
   "cell_type": "code",
   "execution_count": 42,
   "id": "da8e9a19",
   "metadata": {},
   "outputs": [
    {
     "name": "stdout",
     "output_type": "stream",
     "text": [
      "233168\n"
     ]
    }
   ],
   "source": [
    "# 문제 1\n",
    "## 10보다 작은 자연수 중에서 3 또는 5의 배수는\n",
    "## 3, 5, 6, 9가 존재함, 이것들의 합은 23이다\n",
    "\n",
    "## 1000보다 작은 자연수 중에서 3 또는 5의 배수들을\n",
    "## 구해서 모두 합하면 얼마인가?\n",
    "\n",
    "sum = 0\n",
    "for i in range(1, 334):\n",
    "    if i * 3 < 1000:\n",
    "        sum = sum + i * 3\n",
    "    if i * 5 < 1000:\n",
    "        sum = sum + i * 5\n",
    "    if i * 15 < 1000:\n",
    "        sum = sum - i * 15\n",
    "print(sum)"
   ]
  },
  {
   "cell_type": "code",
   "execution_count": 46,
   "id": "653e419f",
   "metadata": {},
   "outputs": [
    {
     "name": "stdout",
     "output_type": "stream",
     "text": [
      "233168\n"
     ]
    }
   ],
   "source": [
    "# 문제 2\n",
    "# 피보나치 수열의 각 항은 바로 앞의 항 두개를 더한 것이 된다.\n",
    "# 1과 2로 시작하는 경우 이 수열은 아래와 같다.\n",
    "\n",
    "# 1, 2, 3, 5, 8, 13, 21, 34, 55, 89\n",
    "\n",
    "# 짝수이면서 4백만 이하인 모든 항을 더하면 얼마가 될까?\n",
    "number = [1, 2]\n",
    "i = 0\n",
    "j = 1\n",
    "num = number[i] + number[j]\n",
    "if num <= 4000000:\n",
    "    number.append(num)\n",
    "    i += 1\n",
    "    j += 1\n",
    "n = 0\n",
    "if number[n]/2 == 0:\n",
    "    sum = sum + number[n]\n",
    "    n = n + 1\n",
    "print(sum)"
   ]
  },
  {
   "cell_type": "code",
   "execution_count": null,
   "id": "97fe1045",
   "metadata": {},
   "outputs": [],
   "source": []
  }
 ],
 "metadata": {
  "kernelspec": {
   "display_name": "Python [conda env:data_env] *",
   "language": "python",
   "name": "conda-env-data_env-py"
  },
  "language_info": {
   "codemirror_mode": {
    "name": "ipython",
    "version": 3
   },
   "file_extension": ".py",
   "mimetype": "text/x-python",
   "name": "python",
   "nbconvert_exporter": "python",
   "pygments_lexer": "ipython3",
   "version": "3.8.12"
  }
 },
 "nbformat": 4,
 "nbformat_minor": 5
}
