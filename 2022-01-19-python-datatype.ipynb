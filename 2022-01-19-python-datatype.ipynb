{
 "cells": [
  {
   "cell_type": "code",
   "execution_count": 2,
   "id": "76e1dca2",
   "metadata": {},
   "outputs": [
    {
     "name": "stdout",
     "output_type": "stream",
     "text": [
      "200\n"
     ]
    }
   ],
   "source": [
    "# 주석으로 처리할 코드를 스크롤 하고 ctrl + /\n",
    "# 여러줄 주석은 ''' ''' 이용하기\n",
    "\n",
    "#변수 이름은 어떻게 지어야 하나요?\n",
    "# 키워드는 변수로 사용할 수 없어요\n",
    "# 의미없는 이름의 변수는 사용을 지양\n",
    "# 변수는 숫자로 시작할 수 없음, 무조건 문자로 시작(특수문자로 시작X)\n",
    "# 한글 이름 변수 사용 X\n",
    "# 영어 대문자와 소문자는 다른 문자\n",
    "# 두 개 이상의 단어로 구성된 변수는 '_' 기호를 이용함   student_number = '20100909'\n",
    "#  a = 200 (변수 앞에 빈칸 있는거) #Error!\n",
    "a = 200\n",
    "print(a)"
   ]
  },
  {
   "cell_type": "code",
   "execution_count": 3,
   "id": "65eaf938",
   "metadata": {},
   "outputs": [],
   "source": [
    "# python에서 사용할 수 있는 데이터 타입\n",
    "# python에서 정해져 있는 데이터 타입 -> buit-in data type\n",
    "# python의 buit-in data type은 일반 data type + 자료구조 (data structure)\n",
    "# python의 buit-in data type\n",
    "\n",
    "# 1. Numeric\n",
    "#   - <class int>  :   정수\n",
    "#   - <class float>  :  실수\n",
    "# 2. Sequence\n",
    "#   - <class list>   :  []\n",
    "#   - <class tuple>  :  ()\n",
    "# 3. Text Sequence\n",
    "# 4. Mapping\n",
    "# 5. Set\n",
    "# 6. Bool\n"
   ]
  },
  {
   "cell_type": "code",
   "execution_count": 4,
   "id": "86a7cf45",
   "metadata": {},
   "outputs": [
    {
     "name": "stdout",
     "output_type": "stream",
     "text": [
      "100\n",
      "3.14\n",
      "<class 'int'>\n",
      "<class 'float'>\n"
     ]
    }
   ],
   "source": [
    "# 1. Numeric\n",
    "# 숫자형 데이터 타입\n",
    "# 프로그램에서 일반적으로 사용하는 숫자는 정수, 실수, 복소수\n",
    "# 결국 Numeric Data type은 <class int>, <class float>를 이용\n",
    "a = 100  # 정수\n",
    "b = 3.14  # 실수\n",
    "c = 3.14E-10  # 실수(지수표현)\n",
    "d = 0o7  # 8진수\n",
    "e = 0xAB  # 16진수\n",
    "\n",
    "print(a) # a가 가르킨 주소에 있는 변수\n",
    "print(b)\n",
    "\n",
    "print(type(a))  # type()은 어떤 객체로부터 파생된건지 알려준다! \n",
    "print(type(b))"
   ]
  },
  {
   "cell_type": "code",
   "execution_count": 7,
   "id": "f04094e9",
   "metadata": {},
   "outputs": [
    {
     "name": "stdout",
     "output_type": "stream",
     "text": [
      "0.75\n",
      "1\n",
      "3\n"
     ]
    }
   ],
   "source": [
    "# Operator 연산자\n",
    "# + 연산자\n",
    "# + 연산은 이항연산자의 특징은.. 같은 data type에 대해서 연산을 수행\n",
    "# 10 + 3.14\n",
    "# 위의 연산은 내부적으로 타입을 바꾸어서 실행해요!\n",
    "# 10 -> 10.0 (O), 3.14 -> 3 (X)\n",
    "# 10.0 + 3.14 = 13.14 (연산의 데이터 타입을 따라감)\n",
    "\n",
    "a = 3 / 4\n",
    "print(a)  # 0이 나오는게 맞아요! (Java나 C같은 다른 프로그래밍 언어는 0이 출력)\n",
    "          # 0.75로 출력\n",
    "          # 그 이유는 모든 숫자 연산은 내부적으로 실수 처리\n",
    "\n",
    "a = 10 % 3 # % 연산자 (나머지를 구하는 연산자)\n",
    "print(a)\n",
    "\n",
    "a = 10 // 3 #//연산자 (몫을 구하는 연산자)\n",
    "print(a)"
   ]
  },
  {
   "cell_type": "code",
   "execution_count": 10,
   "id": "b2646972",
   "metadata": {
    "collapsed": true
   },
   "outputs": [
    {
     "name": "stdout",
     "output_type": "stream",
     "text": [
      "1\n",
      "[100, 2, 3, [4, 5], 6]\n",
      "4\n",
      "6\n",
      "[2, 3]\n",
      "[2]\n",
      "[2, 3, [4, 5], 6]\n",
      "[1, 2, 3]\n",
      "[1, 2, 3, [4, 5], 6]\n"
     ]
    }
   ],
   "source": [
    "# 2. Sequence\n",
    "#     순서가 있는 자료형(자료구조)\n",
    "#     - <class list>\n",
    "#     - <class tuple>\n",
    "#     - <class range>\n",
    "\n",
    "# <class list>\n",
    "# literal : 코드에서 어떻게 표현하나요?\n",
    "a = []  # list (empty list -> 가지고 있는 데이터가 없어요!), 배열 아님!\n",
    "\n",
    "# list 안에는 같은 데이터 타입만 들어오지 않아요!\n",
    "a = [1, 2, 3.14]\n",
    "\n",
    "# list 안에는 다른 list가 들어올 수 있어요!  --> 중첩 리스트\n",
    "a = [1, 2, [3, 4], 4]  # 사진 참고\n",
    "\n",
    "a = list()  # <class list> empty list 생성할 때 사용\n",
    "a = []\n",
    "\n",
    "a = [1, 2, 3, [4, 5], 6]\n",
    "\n",
    "# indexing, slicing\n",
    "print(a[0])     # 1\n",
    "a[0] = 100\n",
    "print(a)    # [100, 2, 3, [4, 5], 6]\n",
    "print(a[3][0])   # 4\n",
    "#print(a[5])   # Error!\n",
    "print(a[-1])  # 6  # 다른 언어에서는 마이너스 인덱스를 사용할 수 없다\n",
    "                   # 하지만 파이썬은 사용 가능\n",
    "    \n",
    "# slicing : 연속적인 부분집합을 만들어내는게 슬라이싱\n",
    "a = [1, 2, 3, [4, 5], 6]\n",
    "print(a[1:3])   # slicing 시작인덱스는 inclusive(포함), 끝인덱스는 exclusive(불포함)\n",
    "                # [2, 3]\n",
    "                # slicing은 원본의 부분집합을 구하는 것이기 때문에 당연히 원본과 동일한 데이터 타입임\n",
    "        \n",
    "print(a[1:2])  # 2 (X), [2] (O)\n",
    "print(a[1: ])  # 1부터 끝까지  [2, 3, [4, 5], 6]\n",
    "print(a[:3])   # 처음부터 인덱스 2까지  [1, 2, 3]\n",
    "print(a[:])    # 처음부터 끝까지  [1, 2, 3, [4, 5], 6]"
   ]
  },
  {
   "cell_type": "code",
   "execution_count": 13,
   "id": "fe5e6c85",
   "metadata": {},
   "outputs": [
    {
     "name": "stdout",
     "output_type": "stream",
     "text": [
      "[1, 2, 3, 4, 5, 6]\n",
      "[1, 2, 3, 1, 2, 3, 1, 2, 3]\n"
     ]
    }
   ],
   "source": [
    "# 리스트의 연산\n",
    "# + 연산\n",
    "a = [1, 2, 3]\n",
    "b = [4, 5, 6]\n",
    "\n",
    "result = a + b\n",
    "print(result)  #[1, 2, 3, 4, 5, 6]\n",
    "\n",
    "# 원래 + 기호는 숫자를 더하는 기호\n",
    "# 이 숫자를 더하는 기호인 + 에 피연산자를 list를 사용\n",
    "# 이 + operator(연산자)의 의미가 변해요 => 연산자 오버로징(operator overloading)\n",
    "\n",
    "result = a * 3\n",
    "print(result)"
   ]
  },
  {
   "cell_type": "code",
   "execution_count": 16,
   "id": "64da4094",
   "metadata": {},
   "outputs": [
    {
     "name": "stdout",
     "output_type": "stream",
     "text": [
      "[]\n",
      "[10]\n",
      "[10, 20]\n",
      "None\n"
     ]
    }
   ],
   "source": [
    "a = list()\n",
    "print(a)\n",
    "\n",
    "# list에 새로운 요소 추가하기\n",
    "a.append(10)\n",
    "print(a)\n",
    "a.append(20)\n",
    "print(a)\n",
    "\n",
    "# list 안의 요소들을 정렬\n",
    "# 정렬의 기본은 오름차순\n",
    "a = [4, 7, 10, 2, 8, 1, 9]\n",
    "result = a.sort()  # list a 자체가 정렬이 되는것\n",
    "print(result)  #None (값이 없음)\n",
    "# list의 sort() 기능은 원본을 정렬하고 정렬된 결과를 새롭게 복사본으로 만들지 않음!\n",
    "a.sort()\n",
    "print(a)\n",
    "\n",
    "result = sorted(a)  #sorted()는 원본은 그냥 두고 정렬된 복사본을 만듦!\n",
    "print(a)   #[4, 7, 10, 2, 8, 1, 9]\n",
    "print(result)  #[1, 2, 4, 7, 8, 9, 10]\n",
    "\n"
   ]
  },
  {
   "cell_type": "code",
   "execution_count": 19,
   "id": "3146fb92",
   "metadata": {},
   "outputs": [
    {
     "name": "stdout",
     "output_type": "stream",
     "text": [
      "140733775424352\n",
      "140733775424352\n",
      "140733775424352\n",
      "3012218058384\n",
      "3012218058896\n",
      "3012221722368\n",
      "3012221720960\n"
     ]
    }
   ],
   "source": [
    "#특수한 함수에 대해서 알아보기\n",
    "# print()\n",
    "# type()\n",
    "# id() : 메모리 주소값에 대한 hash값을 알려줘요!\n",
    "a = 100\n",
    "print(id(a))\n",
    "\n",
    "# c언어를 제외한 다른 프로그래밍 언어는 메모리 주소를 직접적으로\n",
    "# 조작할 수 없도록 프로그래밍 언어가 디자인되어 있다!\n",
    "# 메모리 주소를 직접 조작하면 cracking작업을 수행할 수 있어요!\n",
    "\n",
    "#0 ~ 256까지는 메모리 주소를 공용으로 씀\n",
    "a = 100\n",
    "b = 100\n",
    "print(id(a))\n",
    "print(id(b))\n",
    "\n",
    "a = 257\n",
    "b = 257\n",
    "print(id(a))\n",
    "print(id(b))\n",
    "\n",
    "a = list()\n",
    "b = list()\n",
    "print(id(a))\n",
    "print(id(b))"
   ]
  },
  {
   "cell_type": "code",
   "execution_count": 20,
   "id": "52be8926",
   "metadata": {},
   "outputs": [
    {
     "name": "stdout",
     "output_type": "stream",
     "text": [
      "True\n",
      "False\n"
     ]
    }
   ],
   "source": [
    "a = 300\n",
    "b = 300\n",
    "print(a == b)  #같아(True)....틀려(False) 결과값은 논리값\n",
    "# == 기호는 값이 같은지를 비교하는 비교 연산자\n",
    "\n",
    "# is 연산자는 값을 비교하지 않고 메모리 주소값을 비교(같은 객체인지를 확인)\n",
    "print(a is b)  #a = 100, b = 100 이면 True, a = 300, b = 300 이면 False"
   ]
  },
  {
   "cell_type": "code",
   "execution_count": 21,
   "id": "840d4d63",
   "metadata": {},
   "outputs": [
    {
     "name": "stdout",
     "output_type": "stream",
     "text": [
      "<class 'tuple'>\n",
      "[1, 2, 3]\n"
     ]
    }
   ],
   "source": [
    "# Tuple(튜플)\n",
    "# literal => ()\n",
    "a = (1, 2, 3) \n",
    "a = ()   # empty tuple\n",
    "a = tuple()\n",
    "print(type(a))\n",
    "a = (1, 2, 3, (4, 5), 6)  # 중첩 tuple\n",
    "a = [1, 2, (3, 4), 6]  # 가능\n",
    "a = (1, 2, [3, 4], 5)  # 가능\n",
    "\n",
    "a = (1, 2, 3)\n",
    "# a[0] = 100  #tuple은 read only, 즉 값을 변경할 수 없어요\n",
    "\n",
    "# 요소가 1개인 tuple의 경우에는 다음과 같이 tuple을 표현\n",
    "a = (3, )\n",
    "a = 1, 2, 3   # tuple은 소괄호 생략 가능\n",
    "\n",
    "a = (1, 2, [3, 4], 5)\n",
    "a[2][0] = 100  # 가능\n",
    "\n",
    "a = (1, 2, 3)\n",
    "b = list(a)\n",
    "print(b)"
   ]
  },
  {
   "cell_type": "code",
   "execution_count": null,
   "id": "b7055055",
   "metadata": {},
   "outputs": [],
   "source": []
  }
 ],
 "metadata": {
  "kernelspec": {
   "display_name": "Python [conda env:data_env] *",
   "language": "python",
   "name": "conda-env-data_env-py"
  },
  "language_info": {
   "codemirror_mode": {
    "name": "ipython",
    "version": 3
   },
   "file_extension": ".py",
   "mimetype": "text/x-python",
   "name": "python",
   "nbconvert_exporter": "python",
   "pygments_lexer": "ipython3",
   "version": "3.8.12"
  }
 },
 "nbformat": 4,
 "nbformat_minor": 5
}
