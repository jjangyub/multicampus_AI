{
 "cells": [
  {
   "cell_type": "code",
   "execution_count": 10,
   "id": "72d242a3",
   "metadata": {},
   "outputs": [
    {
     "data": {
      "image/png": "[encoded data removed]",
      "text/plain": [
       "<Figure size 432x288 with 2 Axes>"
      ]
     },
     "metadata": {
      "needs_background": "light"
     },
     "output_type": "display_data"
    }
   ],
   "source": [
    "# 이상치 처리에 대해서 알아보아요!\n",
    "import numpy as np\n",
    "import matplotlib.pyplot as plt\n",
    "\n",
    "data = np.array([1, 2, 3, 4, 5, 6, 7, 8, 9, 10, 11, 12, 13, 14, 22.1])\n",
    "\n",
    "figure = plt.figure()\n",
    "\n",
    "ax1 = figure.add_subplot(1,2,1)\n",
    "ax2 = figure.add_subplot(1,2,2)\n",
    "\n",
    "ax1.set_title('Original Data Boxplot')\n",
    "ax1.boxplot(data)\n",
    "\n",
    "# numpy로 사분위 값을 구해서 Turkey Fence 방식으로 이상치를 판단해 보아요!\n",
    "first = np.percentile(data, 25)  # 1사분위 값을 구해요!\n",
    "third = np.percentile(data, 75)  # 3사분위 값을 구해요!\n",
    "IQR_value = third - first\n",
    "\n",
    "upper_fence = third + (IQR_value * 1.5)\n",
    "lower_fence = first - (IQR_value * 1.5)\n",
    "\n",
    "# boolean indexing을 이용해서 이상치를 추출해보아요!\n",
    "# print(data[(data > upper_fence) | (data < lower_fence)])   # array([22.1])\n",
    "# boolean indexing을 이용해서 이상치를 제거하고 나머지 데이터를 추출해요!\n",
    "result = data[(data <= upper_fence) & (data >= lower_fence)]\n",
    "ax2.boxplot(result)\n",
    "plt.show()"
   ]
  },
  {
   "cell_type": "code",
   "execution_count": 13,
   "id": "a7cda9ad",
   "metadata": {},
   "outputs": [
    {
     "name": "stdout",
     "output_type": "stream",
     "text": [
      "[-1.40160702 -1.21405925 -1.02651147 -0.8389637  -0.65141593 -0.46386816\n",
      " -0.27632038 -0.08877261  0.09877516  0.28632293  0.4738707   0.66141848\n",
      "  0.84896625  1.03651402  2.55565098]\n"
     ]
    }
   ],
   "source": [
    "import numpy as np\n",
    "import matplotlib.pyplot as plt\n",
    "\n",
    "data = np.array([1, 2, 3, 4, 5, 6, 7, 8, 9, 10, 11, 12, 13, 14, 22.1])\n",
    "\n",
    "mean = data.mean() # 8.473333333333333\n",
    "std = data.std()   # 5.331974826980671\n",
    "\n",
    "zscore_data = (data - mean) / std\n",
    "\n",
    "print(zscore_data)"
   ]
  },
  {
   "cell_type": "code",
   "execution_count": 26,
   "id": "db93d559",
   "metadata": {},
   "outputs": [
    {
     "name": "stdout",
     "output_type": "stream",
     "text": [
      "[-10.   22.1]\n"
     ]
    },
    {
     "data": {
      "text/plain": [
       "array([ 1.,  2.,  3.,  4.,  5.,  6.,  7.,  8.,  9., 10., 11., 12., 13.,\n",
       "       14.])"
      ]
     },
     "execution_count": 26,
     "metadata": {},
     "output_type": "execute_result"
    }
   ],
   "source": [
    "# scipy는 sklearn과 유사한 통계전용 모듈\n",
    "\n",
    "from scipy import stats\n",
    "\n",
    "data = np.array([-10, 1, 2, 3, 4, 5, 6, 7, 8, 9, 10, 11, 12, 13, 14, 22.1])\n",
    "\n",
    "zscore_threshold = 2.0 # 일반적인 기준.\n",
    "\n",
    "outlier = data[np.abs(stats.zscore(data)) > zscore_threshold]\n",
    "print(outlier)\n",
    "\n",
    "data[np.isin(data, outlier, invert=True)]"
   ]
  },
  {
   "cell_type": "code",
   "execution_count": 34,
   "id": "26211398",
   "metadata": {
    "scrolled": true
   },
   "outputs": [
    {
     "name": "stderr",
     "output_type": "stream",
     "text": [
      "C:\\Users\\campusseven02\\AppData\\Local\\Temp\\ipykernel_2556\\1239042433.py:44: SettingWithCopyWarning: \n",
      "A value is trying to be set on a copy of a slice from a DataFrame\n",
      "\n",
      "See the caveats in the documentation: https://pandas.pydata.org/pandas-docs/stable/user_guide/indexing.html#returning-a-view-versus-a-copy\n",
      "  training_data.dropna(how='any',\n"
     ]
    },
    {
     "name": "stdout",
     "output_type": "stream",
     "text": [
      "W : [[0.4736043]], b:[0.13704916], loss:495.948505430511\n",
      "W : [[0.63278757]], b:[-10.45764245], loss:454.9403453970632\n",
      "W : [[0.75641423]], b:[-20.1620112], loss:423.5235363631465\n",
      "W : [[0.86964865]], b:[-29.05061645], loss:397.1666120802635\n",
      "W : [[0.97336441]], b:[-37.19203248], loss:375.05464466086414\n",
      "W : [[1.06836168]], b:[-44.6490691], loss:356.5039557467191\n",
      "W : [[1.15537334]], b:[-51.47925626], loss:340.9409778962145\n",
      "W : [[1.23507067]], b:[-57.73528785], loss:327.8845204947988\n",
      "W : [[1.30806853]], b:[-63.46542823], loss:316.9308918568402\n",
      "W : [[1.37493008]], b:[-68.71388458], loss:307.7414175109792\n"
     ]
    }
   ],
   "source": [
    "### 온도에 따른 오존량 예측 ==> Python 구현\n",
    "### 결측치 처리와 이상치 처리도 같이 진행!\n",
    "\n",
    "import numpy as np\n",
    "import pandas as pd\n",
    "import matplotlib.pyplot as plt\n",
    "from scipy import stats\n",
    "\n",
    "################################################\n",
    "# 다변수 함수에 대한 수치미분을 수행하는 함수\n",
    "def numerical_derivative(f,x):    # x : ndarray [1.0  2.0]\n",
    "    \n",
    "    delta_x = 1e-4\n",
    "    derivative_x = np.zeros_like(x)   # derivative_x : [0.0  0.0]\n",
    "    \n",
    "    # iterator를 이용해서 입력변수 x에 대한 편미분을 수행!\n",
    "    it = np.nditer(x, flags=['multi_index'])\n",
    "    \n",
    "    while not it.finished:\n",
    "        \n",
    "        idx = it.multi_index \n",
    "        tmp = x[idx]              # tmp : 1.0\n",
    "        \n",
    "        x[idx] = tmp + delta_x    # x : ndarray [1.0001  2.0]\n",
    "        fx_plus_delta = f(x)\n",
    "        \n",
    "        x[idx] = tmp - delta_x    # x : ndarray [0.9999  2.0]  \n",
    "        fx_minus_delta = f(x)\n",
    "        \n",
    "        derivative_x[idx] = (fx_plus_delta - fx_minus_delta) / (2 * delta_x)\n",
    "        \n",
    "        x[idx] = tmp              #  x : ndarray [1.0  2.0]  \n",
    "        it.iternext()\n",
    "        \n",
    "    return derivative_x\n",
    "################################################\n",
    "\n",
    "# Raw Data Set Loading\n",
    "df = pd.read_csv('./data/ozone.csv')\n",
    "training_data = df[['Ozone', 'Temp']]\n",
    "\n",
    "# 데이터에 결치값이 존재해요!\n",
    "# 여기서는 결치값을 삭제할꺼예요!\n",
    "training_data.dropna(how='any',\n",
    "                     inplace=True)   # how='any' : 결치가 존재하는 행을 삭제\n",
    "\n",
    "# 데이터에 이상치가 있는지 확인하고 제거\n",
    "zscore_threshold = 2.0\n",
    "outlier = training_data['Ozone'][(np.abs(stats.zscore(training_data['Ozone'])) > zscore_threshold)]\n",
    "training_data = training_data.loc[np.isin(training_data['Ozone'],outlier, invert=True)]\n",
    "\n",
    "\n",
    "# Training Data Set\n",
    "x_data = training_data['Temp'].values.reshape(-1,1)\n",
    "t_data = training_data['Ozone'].values.reshape(-1,1)\n",
    "\n",
    "# Weight, bias\n",
    "W = np.random.rand(1,1)\n",
    "b = np.random.rand(1)\n",
    "\n",
    "# loss function\n",
    "def loss_func(input_data):\n",
    "    W = input_data[0].reshape(1,1)\n",
    "    b = input_data[1]\n",
    "    \n",
    "    y = np.dot(x_data,W) + b\n",
    "    return np.mean(np.power(t_data-y,2))\n",
    "\n",
    "# predict\n",
    "def predict(x):\n",
    "    y = np.dot(x,W) + b\n",
    "    return y\n",
    "\n",
    "# learning_rate\n",
    "learning_rate = 1e-4\n",
    "\n",
    "# 반복 학습\n",
    "for step in range(300000):\n",
    "    \n",
    "    input_param = np.concatenate((W.ravel(), b.ravel()), axis=0)  # [W b]\n",
    "    derivative_result = learning_rate * numerical_derivative(loss_func, input_param)\n",
    "\n",
    "    W = W - derivative_result[0].reshape(1,1)\n",
    "    b = b - derivative_result[1]\n",
    "    \n",
    "    if step % 30000 == 0:\n",
    "        input_param = np.concatenate((W.ravel(), b.ravel()), axis=0)\n",
    "        print('W : {}, b:{}, loss:{}'.format(W, b, loss_func(input_param)))\n"
   ]
  },
  {
   "cell_type": "code",
   "execution_count": 35,
   "id": "6ac96cfd",
   "metadata": {},
   "outputs": [
    {
     "name": "stdout",
     "output_type": "stream",
     "text": [
      "온도가 62일때 오존량 : [[15.52149525]]\n"
     ]
    }
   ],
   "source": [
    "# 학습종료 후 예측 (Temp : 62)\n",
    "predict_data = predict(np.array([[62]]))\n",
    "print('온도가 62일때 오존량 : {}'.format(predict_data))  # [[16.88715564]]\n",
    "                                                         # [[15.52149525]] "
   ]
  },
  {
   "cell_type": "code",
   "execution_count": 36,
   "id": "61f61834",
   "metadata": {},
   "outputs": [
    {
     "data": {
      "image/png": "[encoded data removed]",
      "text/plain": [
       "<Figure size 432x288 with 1 Axes>"
      ]
     },
     "metadata": {
      "needs_background": "light"
     },
     "output_type": "display_data"
    }
   ],
   "source": [
    "# 그래프로 표현해 보아요!\n",
    "plt.scatter(x_data.ravel(), t_data.ravel())\n",
    "plt.plot(x_data.ravel(), x_data.ravel()*W.ravel() + b, color='r')\n",
    "plt.show()"
   ]
  },
  {
   "cell_type": "code",
   "execution_count": 37,
   "id": "91531576",
   "metadata": {},
   "outputs": [
    {
     "name": "stdout",
     "output_type": "stream",
     "text": [
      "sklearn으로 구한 온도가 62도 일때의 오존량 : [[4.51299041]]\n"
     ]
    },
    {
     "name": "stderr",
     "output_type": "stream",
     "text": [
      "C:\\Users\\campusseven02\\AppData\\Local\\Temp\\ipykernel_2556\\2906083854.py:9: SettingWithCopyWarning: \n",
      "A value is trying to be set on a copy of a slice from a DataFrame\n",
      "\n",
      "See the caveats in the documentation: https://pandas.pydata.org/pandas-docs/stable/user_guide/indexing.html#returning-a-view-versus-a-copy\n",
      "  training_data.dropna(how='any',\n"
     ]
    },
    {
     "data": {
      "image/png": "[encoded data removed]",
      "text/plain": [
       "<Figure size 432x288 with 1 Axes>"
      ]
     },
     "metadata": {
      "needs_background": "light"
     },
     "output_type": "display_data"
    }
   ],
   "source": [
    "# 같은 데이터로 sklearn을 이용해서 구현해 보아요!\n",
    "import numpy as np\n",
    "import pandas as pd\n",
    "import matplotlib.pyplot as plt\n",
    "from sklearn import linear_model\n",
    "\n",
    "df = pd.read_csv('./data/ozone.csv')\n",
    "training_data = df[['Ozone', 'Temp']]\n",
    "training_data.dropna(how='any',\n",
    "                     inplace=True)   # how='any' : 결치가 존재하는 행을 삭제\n",
    "\n",
    "# 데이터에 이상치가 있는지 확인하고 제거\n",
    "zscore_threshold = 2.0\n",
    "outlier = training_data['Ozone'][(np.abs(stats.zscore(training_data['Ozone'])) > zscore_threshold)]\n",
    "training_data = training_data.loc[np.isin(training_data['Ozone'],outlier, invert=True)]\n",
    "\n",
    "\n",
    "# Training Data Set\n",
    "x_data = training_data['Temp'].values.reshape(-1,1)\n",
    "t_data = training_data['Ozone'].values.reshape(-1,1)\n",
    "\n",
    "# model 생성\n",
    "model = linear_model.LinearRegression()\n",
    "\n",
    "# model 학습\n",
    "model.fit(x_data, t_data)\n",
    "\n",
    "# 예측\n",
    "result = model.predict(np.array([[62]]))\n",
    "print('sklearn으로 구한 온도가 62도 일때의 오존량 : {}'.format(result))  \n",
    "# [[3.58411393]]   =>  [[4.51299041]]\n",
    "\n",
    "# 그래프 표현\n",
    "plt.scatter(x_data.ravel(), t_data.ravel())\n",
    "plt.plot(x_data.ravel(), \n",
    "         x_data.ravel()*model.coef_.ravel() + model.intercept_, color='g')\n",
    "plt.show()"
   ]
  },
  {
   "cell_type": "code",
   "execution_count": 41,
   "id": "09901aac",
   "metadata": {},
   "outputs": [
    {
     "data": {
      "text/html": [
       "<div>\n",
       "<style scoped>\n",
       "    .dataframe tbody tr th:only-of-type {\n",
       "        vertical-align: middle;\n",
       "    }\n",
       "\n",
       "    .dataframe tbody tr th {\n",
       "        vertical-align: top;\n",
       "    }\n",
       "\n",
       "    .dataframe thead th {\n",
       "        text-align: right;\n",
       "    }\n",
       "</style>\n",
       "<table border=\"1\" class=\"dataframe\">\n",
       "  <thead>\n",
       "    <tr style=\"text-align: right;\">\n",
       "      <th></th>\n",
       "      <th>age</th>\n",
       "      <th>fare</th>\n",
       "    </tr>\n",
       "  </thead>\n",
       "  <tbody>\n",
       "    <tr>\n",
       "      <th>0</th>\n",
       "      <td>22.0</td>\n",
       "      <td>7.2500</td>\n",
       "    </tr>\n",
       "    <tr>\n",
       "      <th>1</th>\n",
       "      <td>38.0</td>\n",
       "      <td>71.2833</td>\n",
       "    </tr>\n",
       "    <tr>\n",
       "      <th>2</th>\n",
       "      <td>26.0</td>\n",
       "      <td>7.9250</td>\n",
       "    </tr>\n",
       "    <tr>\n",
       "      <th>3</th>\n",
       "      <td>35.0</td>\n",
       "      <td>53.1000</td>\n",
       "    </tr>\n",
       "    <tr>\n",
       "      <th>4</th>\n",
       "      <td>35.0</td>\n",
       "      <td>8.0500</td>\n",
       "    </tr>\n",
       "  </tbody>\n",
       "</table>\n",
       "</div>"
      ],
      "text/plain": [
       "    age     fare\n",
       "0  22.0   7.2500\n",
       "1  38.0  71.2833\n",
       "2  26.0   7.9250\n",
       "3  35.0  53.1000\n",
       "4  35.0   8.0500"
      ]
     },
     "metadata": {},
     "output_type": "display_data"
    },
    {
     "data": {
      "text/html": [
       "<div>\n",
       "<style scoped>\n",
       "    .dataframe tbody tr th:only-of-type {\n",
       "        vertical-align: middle;\n",
       "    }\n",
       "\n",
       "    .dataframe tbody tr th {\n",
       "        vertical-align: top;\n",
       "    }\n",
       "\n",
       "    .dataframe thead th {\n",
       "        text-align: right;\n",
       "    }\n",
       "</style>\n",
       "<table border=\"1\" class=\"dataframe\">\n",
       "  <thead>\n",
       "    <tr style=\"text-align: right;\">\n",
       "      <th></th>\n",
       "      <th>age</th>\n",
       "      <th>fare</th>\n",
       "    </tr>\n",
       "  </thead>\n",
       "  <tbody>\n",
       "    <tr>\n",
       "      <th>0</th>\n",
       "      <td>0.271174</td>\n",
       "      <td>0.014151</td>\n",
       "    </tr>\n",
       "    <tr>\n",
       "      <th>1</th>\n",
       "      <td>0.472229</td>\n",
       "      <td>0.139136</td>\n",
       "    </tr>\n",
       "    <tr>\n",
       "      <th>2</th>\n",
       "      <td>0.321438</td>\n",
       "      <td>0.015469</td>\n",
       "    </tr>\n",
       "    <tr>\n",
       "      <th>3</th>\n",
       "      <td>0.434531</td>\n",
       "      <td>0.103644</td>\n",
       "    </tr>\n",
       "    <tr>\n",
       "      <th>4</th>\n",
       "      <td>0.434531</td>\n",
       "      <td>0.015713</td>\n",
       "    </tr>\n",
       "  </tbody>\n",
       "</table>\n",
       "</div>"
      ],
      "text/plain": [
       "        age      fare\n",
       "0  0.271174  0.014151\n",
       "1  0.472229  0.139136\n",
       "2  0.321438  0.015469\n",
       "3  0.434531  0.103644\n",
       "4  0.434531  0.015713"
      ]
     },
     "metadata": {},
     "output_type": "display_data"
    }
   ],
   "source": [
    "### 일단 Min-Max Scaling 작업을 어떻게 하면 되는지 알아보아요!!!\n",
    "import pandas as pd\n",
    "import seaborn as sns\n",
    "\n",
    "titanic = sns.load_dataset('titanic')\n",
    "df = titanic[['age', 'fare']]\n",
    "\n",
    "display(df.head())\n",
    "\n",
    "def min_max(s):\n",
    "    return (s - s.min()) / (s.max() - s.min())\n",
    "\n",
    "result = df.apply(min_max, axis=0)\n",
    "\n",
    "display(result.head())"
   ]
  },
  {
   "cell_type": "code",
   "execution_count": 47,
   "id": "f60013fd",
   "metadata": {},
   "outputs": [
    {
     "name": "stderr",
     "output_type": "stream",
     "text": [
      "C:\\Users\\campusseven02\\AppData\\Local\\Temp\\ipykernel_2556\\884140217.py:22: SettingWithCopyWarning: \n",
      "A value is trying to be set on a copy of a slice from a DataFrame\n",
      "\n",
      "See the caveats in the documentation: https://pandas.pydata.org/pandas-docs/stable/user_guide/indexing.html#returning-a-view-versus-a-copy\n",
      "  training_data.dropna(how='any',\n",
      "C:\\Users\\campusseven02\\AppData\\Local\\Temp\\ipykernel_2556\\884140217.py:42: SettingWithCopyWarning: \n",
      "A value is trying to be set on a copy of a slice from a DataFrame.\n",
      "Try using .loc[row_indexer,col_indexer] = value instead\n",
      "\n",
      "See the caveats in the documentation: https://pandas.pydata.org/pandas-docs/stable/user_guide/indexing.html#returning-a-view-versus-a-copy\n",
      "  training_data['Temp'] = scaled_Temp\n",
      "C:\\Users\\campusseven02\\AppData\\Local\\Temp\\ipykernel_2556\\884140217.py:43: SettingWithCopyWarning: \n",
      "A value is trying to be set on a copy of a slice from a DataFrame.\n",
      "Try using .loc[row_indexer,col_indexer] = value instead\n",
      "\n",
      "See the caveats in the documentation: https://pandas.pydata.org/pandas-docs/stable/user_guide/indexing.html#returning-a-view-versus-a-copy\n",
      "  training_data['Ozone'] = scaled_Ozone\n"
     ]
    },
    {
     "name": "stdout",
     "output_type": "stream",
     "text": [
      "W : [[0.79435927]], b:[0.6251788], loss:0.45941250060030187\n",
      "W : [[0.60466769]], b:[0.07193309], loss:0.03234461367283534\n",
      "W : [[0.66726547]], b:[0.03831357], loss:0.030651992027243967\n",
      "W : [[0.71552337]], b:[0.01264166], loss:0.029650336075183577\n",
      "W : [[0.75264794]], b:[-0.00710748], loss:0.029057542881231687\n",
      "W : [[0.78120764]], b:[-0.02230039], loss:0.02870672005620746\n",
      "W : [[0.80317844]], b:[-0.03398819], loss:0.028499098484614387\n",
      "W : [[0.82008045]], b:[-0.04297955], loss:0.028376225302153092\n",
      "W : [[0.83308307]], b:[-0.04989655], loss:0.028303507333339372\n",
      "W : [[0.8430859]], b:[-0.05521775], loss:0.02826047188099348\n",
      "[[52.68909775]]\n"
     ]
    },
    {
     "data": {
      "image/png": "[encoded data removed]",
      "text/plain": [
       "<Figure size 432x288 with 2 Axes>"
      ]
     },
     "metadata": {
      "needs_background": "light"
     },
     "output_type": "display_data"
    }
   ],
   "source": [
    "### 정규화 작업을 포함해서 모델학습을 진행해 보아요!\n",
    "### 그런데 이번에는 이 정규화 작업을 Min-Max Scaling으로 진행할꺼구요!\n",
    "### sklearn의 기능을 이용해서 정규화를 진행해 보아요!\n",
    "# 같은 데이터로 sklearn을 이용해서 구현해 보아요!\n",
    "\n",
    "import numpy as np\n",
    "import pandas as pd\n",
    "import matplotlib.pyplot as plt\n",
    "from sklearn import linear_model  # LinearRegression 모델\n",
    "from scipy import stats    # 이상치 처리\n",
    "from sklearn.preprocessing import MinMaxScaler  # 정규화 처리\n",
    "\n",
    "####### 그래프 \n",
    "figure = plt.figure()\n",
    "\n",
    "python_ax = figure.add_subplot(1,2,1)\n",
    "sklearn_ax = figure.add_subplot(1,2,2)\n",
    "#######\n",
    "\n",
    "df = pd.read_csv('./data/ozone.csv')\n",
    "training_data = df[['Ozone', 'Temp']]\n",
    "training_data.dropna(how='any',\n",
    "                     inplace=True)   # how='any' : 결치가 존재하는 행을 삭제\n",
    "\n",
    "# 데이터에 이상치가 있는지 확인하고 제거\n",
    "zscore_threshold = 2.0\n",
    "outlier = training_data['Ozone'][(np.abs(stats.zscore(training_data['Ozone'])) > zscore_threshold)]\n",
    "training_data = training_data.loc[np.isin(training_data['Ozone'],outlier, invert=True)]\n",
    "\n",
    "# 정규화 처리를 해야 해요!\n",
    "# display(training_data.head())\n",
    "# 일단 scaler를 만들어요!\n",
    "scaler_x = MinMaxScaler()   # 온도 처리를 위한 scaler(독립변수들을 위한 scaler)\n",
    "scaler_t = MinMaxScaler()   # 오존량 처리를 위한 scaler(종속변수를 위한 scaler)\n",
    "\n",
    "scaler_x.fit(training_data['Temp'].values.reshape(-1,1))\n",
    "scaler_t.fit(training_data['Ozone'].values.reshape(-1,1))\n",
    "\n",
    "scaled_Temp = scaler_x.transform(training_data['Temp'].values.reshape(-1,1))\n",
    "scaled_Ozone = scaler_t.transform(training_data['Ozone'].values.reshape(-1,1))\n",
    "\n",
    "training_data['Temp'] = scaled_Temp\n",
    "training_data['Ozone'] = scaled_Ozone\n",
    "\n",
    "#####################################\n",
    "\n",
    "# Training Data Set\n",
    "x_data = training_data['Temp'].values.reshape(-1,1)\n",
    "t_data = training_data['Ozone'].values.reshape(-1,1)\n",
    "\n",
    "# Weight, bias\n",
    "W = np.random.rand(1,1)\n",
    "b = np.random.rand(1)\n",
    "\n",
    "# loss function\n",
    "def loss_func(input_data):\n",
    "    W = input_data[0].reshape(1,1)\n",
    "    b = input_data[1]\n",
    "    \n",
    "    y = np.dot(x_data,W) + b\n",
    "    return np.mean(np.power(t_data-y,2))\n",
    "\n",
    "# predict\n",
    "def predict(x):\n",
    "    y = np.dot(x,W) + b\n",
    "    return y\n",
    "\n",
    "# learning_rate\n",
    "learning_rate = 1e-4\n",
    "\n",
    "# 반복 학습\n",
    "for step in range(300000):\n",
    "    \n",
    "    input_param = np.concatenate((W.ravel(), b.ravel()), axis=0)  # [W b]\n",
    "    derivative_result = learning_rate * numerical_derivative(loss_func, input_param)\n",
    "\n",
    "    W = W - derivative_result[0].reshape(1,1)\n",
    "    b = b - derivative_result[1]\n",
    "    \n",
    "    if step % 30000 == 0:\n",
    "        input_param = np.concatenate((W.ravel(), b.ravel()), axis=0)\n",
    "        print('W : {}, b:{}, loss:{}'.format(W, b, loss_func(input_param)))\n",
    "       "
   ]
  },
  {
   "cell_type": "code",
   "execution_count": 50,
   "id": "73beb440",
   "metadata": {},
   "outputs": [
    {
     "name": "stdout",
     "output_type": "stream",
     "text": [
      "[[5.51549383]]\n"
     ]
    }
   ],
   "source": [
    "# predict\n",
    "# 아래처럼하면 안되죠!!!\n",
    "# result = predict([[62]])   # [[16.88715564]]   # [[52.68909775]]\n",
    "\n",
    "predict_data = np.array([[62]])\n",
    "scaled_predict_data = scaler_x.transform(predict_data)\n",
    "python_result = predict(scaled_predict_data)\n",
    "\n",
    "python_result = scaler_t.inverse_transform(python_result)\n",
    "\n",
    "print(python_result)     # [[5.51549383]]"
   ]
  },
  {
   "cell_type": "code",
   "execution_count": 51,
   "id": "15449515",
   "metadata": {},
   "outputs": [
    {
     "name": "stdout",
     "output_type": "stream",
     "text": [
      "sklearn으로 구한 온도가 62도 일때의 오존량 : [[4.51299041]]\n"
     ]
    },
    {
     "name": "stderr",
     "output_type": "stream",
     "text": [
      "C:\\Users\\campusseven02\\AppData\\Local\\Temp\\ipykernel_2556\\2445977219.py:10: SettingWithCopyWarning: \n",
      "A value is trying to be set on a copy of a slice from a DataFrame\n",
      "\n",
      "See the caveats in the documentation: https://pandas.pydata.org/pandas-docs/stable/user_guide/indexing.html#returning-a-view-versus-a-copy\n",
      "  training_data.dropna(how='any',\n"
     ]
    }
   ],
   "source": [
    "# sklearn 구현\n",
    "\n",
    "import numpy as np\n",
    "import pandas as pd\n",
    "import matplotlib.pyplot as plt\n",
    "from sklearn import linear_model\n",
    "\n",
    "df = pd.read_csv('./data/ozone.csv')\n",
    "training_data = df[['Ozone', 'Temp']]\n",
    "training_data.dropna(how='any',\n",
    "                     inplace=True)   # how='any' : 결치가 존재하는 행을 삭제\n",
    "\n",
    "# 데이터에 이상치가 있는지 확인하고 제거\n",
    "zscore_threshold = 2.0\n",
    "outlier = training_data['Ozone'][(np.abs(stats.zscore(training_data['Ozone'])) > zscore_threshold)]\n",
    "training_data = training_data.loc[np.isin(training_data['Ozone'],outlier, invert=True)]\n",
    "\n",
    "# 정규화는 안해도 되요! sklearn이 알아서 해줘요!\n",
    "\n",
    "# Training Data Set\n",
    "x_data = training_data['Temp'].values.reshape(-1,1)\n",
    "t_data = training_data['Ozone'].values.reshape(-1,1)\n",
    "\n",
    "# model 생성\n",
    "model = linear_model.LinearRegression()\n",
    "\n",
    "# model 학습\n",
    "model.fit(x_data, t_data)\n",
    "\n",
    "# 예측\n",
    "result = model.predict(np.array([[62]]))\n",
    "print('sklearn으로 구한 온도가 62도 일때의 오존량 : {}'.format(result))  \n",
    "# [[4.51299041]]"
   ]
  },
  {
   "cell_type": "code",
   "execution_count": 52,
   "id": "d09c6d28",
   "metadata": {},
   "outputs": [
    {
     "name": "stdout",
     "output_type": "stream",
     "text": [
      "Once deleted, variables cannot be recovered. Proceed (y/[n])? y\n"
     ]
    }
   ],
   "source": [
    "%reset"
   ]
  },
  {
   "cell_type": "code",
   "execution_count": 55,
   "id": "b0d8e40a",
   "metadata": {},
   "outputs": [
    {
     "name": "stdout",
     "output_type": "stream",
     "text": [
      "W : [[0.7946431 ]\n",
      " [0.32234037]\n",
      " [0.34377889]], b:[0.62637326], loss:2081.922334942366\n",
      "W : [[0.35632701]\n",
      " [0.52855104]\n",
      " [1.12155572]], b:[0.57702282], loss:6.203278807696709\n",
      "W : [[0.35599025]\n",
      " [0.52888733]\n",
      " [1.12223482]], b:[0.52051364], loss:6.192630563617122\n",
      "W : [[0.35598947]\n",
      " [0.52904422]\n",
      " [1.12275491]], b:[0.46465252], loss:6.182227917403403\n",
      "W : [[0.35598888]\n",
      " [0.5291992 ]\n",
      " [1.12326893]], b:[0.40943392], loss:6.172063198798278\n",
      "W : [[0.3559883 ]\n",
      " [0.52935241]\n",
      " [1.12377703]], b:[0.35485044], loss:6.162130965960107\n",
      "W : [[0.35598772]\n",
      " [0.52950385]\n",
      " [1.1242793 ]], b:[0.30089479], loss:6.152425901512768\n",
      "W : [[0.35598715]\n",
      " [0.52965354]\n",
      " [1.12477578]], b:[0.24755974], loss:6.142942809698334\n",
      "W : [[0.35598659]\n",
      " [0.52980152]\n",
      " [1.12526656]], b:[0.19483816], loss:6.13367661359537\n",
      "W : [[0.35598603]\n",
      " [0.5299478 ]\n",
      " [1.12575169]], b:[0.14272298], loss:6.124622352400894\n"
     ]
    }
   ],
   "source": [
    "# 새마음 새뜻으로 다시 해 보아요!\n",
    "import numpy as np\n",
    "import pandas as pd\n",
    "\n",
    "\n",
    "################################################\n",
    "# 다변수 함수에 대한 수치미분을 수행하는 함수\n",
    "def numerical_derivative(f,x):    # x : ndarray [1.0  2.0]\n",
    "    \n",
    "    delta_x = 1e-4\n",
    "    derivative_x = np.zeros_like(x)   # derivative_x : [0.0  0.0]\n",
    "    \n",
    "    # iterator를 이용해서 입력변수 x에 대한 편미분을 수행!\n",
    "    it = np.nditer(x, flags=['multi_index'])\n",
    "    \n",
    "    while not it.finished:\n",
    "        \n",
    "        idx = it.multi_index \n",
    "        tmp = x[idx]              # tmp : 1.0\n",
    "        \n",
    "        x[idx] = tmp + delta_x    # x : ndarray [1.0001  2.0]\n",
    "        fx_plus_delta = f(x)\n",
    "        \n",
    "        x[idx] = tmp - delta_x    # x : ndarray [0.9999  2.0]  \n",
    "        fx_minus_delta = f(x)\n",
    "        \n",
    "        derivative_x[idx] = (fx_plus_delta - fx_minus_delta) / (2 * delta_x)\n",
    "        \n",
    "        x[idx] = tmp              #  x : ndarray [1.0  2.0]  \n",
    "        it.iternext()\n",
    "        \n",
    "    return derivative_x\n",
    "################################################\n",
    "\n",
    "# Raw Data Loading\n",
    "df = pd.read_csv('./data/student_exam_score.csv')\n",
    "# display(df)\n",
    "\n",
    "# 결측치, 이상치가 존재하지 않구요!\n",
    "# 각 변수의 scale이 비슷하기 때문에 정규화도 굳이 필요하지 않아요!\n",
    "\n",
    "# Training Data Set\n",
    "x_data = df.drop('exam', axis=1, inplace=False)\n",
    "t_data = df.iloc[:,-1].values.reshape(-1,1)\n",
    "\n",
    "# Weight, bias\n",
    "W = np.random.rand(3,1)\n",
    "b = np.random.rand(1)\n",
    "\n",
    "# loss function\n",
    "def loss_func(input_data):    # [w1  w2  w3  b]\n",
    "    \n",
    "    input_w = input_data[:-1].reshape(-1,1)\n",
    "    input_b = input_data[-1:]\n",
    "    \n",
    "    y = np.dot(x_data,input_w) + input_b\n",
    "    \n",
    "    return np.mean(np.power(t_data-y,2))   # MSE(평균제곱오차)\n",
    "\n",
    "# predict\n",
    "def predict(x):\n",
    "    y = np.dot(x,W) + b\n",
    "    return y\n",
    "\n",
    "# learning_rate\n",
    "learning_rate = 1e-5\n",
    "\n",
    "# 반복 학습\n",
    "for step in range(300000):\n",
    "    \n",
    "    input_param = np.concatenate((W.ravel(), b.ravel()), axis=0)  # [w1 w2 w3 b]\n",
    "    derivative_result = learning_rate * numerical_derivative(loss_func, input_param)\n",
    "\n",
    "    W = W - derivative_result[:-1].reshape(-1,1)\n",
    "    b = b - derivative_result[-1]\n",
    "    \n",
    "    if step % 30000 == 0:\n",
    "        input_param = np.concatenate((W.ravel(), b.ravel()), axis=0)\n",
    "        print('W : {}, b:{}, loss:{}'.format(W, b, loss_func(input_param)))\n",
    "       "
   ]
  },
  {
   "cell_type": "code",
   "execution_count": 56,
   "id": "a4a3a894",
   "metadata": {},
   "outputs": [
    {
     "name": "stdout",
     "output_type": "stream",
     "text": [
      "[[191.77512112]]\n"
     ]
    }
   ],
   "source": [
    "# predict\n",
    "result = predict(np.array([[89, 100, 95]]))\n",
    "print(result)   # [[191.77512112]]"
   ]
  },
  {
   "cell_type": "code",
   "execution_count": 57,
   "id": "9e8391cf",
   "metadata": {},
   "outputs": [
    {
     "name": "stdout",
     "output_type": "stream",
     "text": [
      "[[192.50147537]]\n"
     ]
    },
    {
     "name": "stderr",
     "output_type": "stream",
     "text": [
      "C:\\Users\\campusseven02\\anaconda3\\envs\\machine\\lib\\site-packages\\sklearn\\base.py:450: UserWarning: X does not have valid feature names, but LinearRegression was fitted with feature names\n",
      "  warnings.warn(\n"
     ]
    }
   ],
   "source": [
    "# sklearn 구현\n",
    "from sklearn import linear_model\n",
    "\n",
    "model = linear_model.LinearRegression()\n",
    "\n",
    "model.fit(x_data, t_data)\n",
    "\n",
    "result_sklearn = model.predict(np.array([[89, 100, 95]]))\n",
    "print(result_sklearn)   # [[192.50147537]]"
   ]
  }
 ],
 "metadata": {
  "kernelspec": {
   "display_name": "Python [conda env:.conda-machine_TF15] *",
   "language": "python",
   "name": "conda-env-.conda-machine_TF15-py"
  },
  "language_info": {
   "codemirror_mode": {
    "name": "ipython",
    "version": 3
   },
   "file_extension": ".py",
   "mimetype": "text/x-python",
   "name": "python",
   "nbconvert_exporter": "python",
   "pygments_lexer": "ipython3",
   "version": "3.7.13"
  }
 },
 "nbformat": 4,
 "nbformat_minor": 5
}
