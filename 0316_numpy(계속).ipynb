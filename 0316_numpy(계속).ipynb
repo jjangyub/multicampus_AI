{
 "cells": [
  {
   "cell_type": "code",
   "execution_count": 1,
   "id": "f4ec7a8d",
   "metadata": {},
   "outputs": [],
   "source": [
    "# Numpy module\n",
    "# 다차원배열 그리고 2차원 matrix 연산을 쉽고 빠르게 하기 위해서 사용"
   ]
  },
  {
   "cell_type": "code",
   "execution_count": 15,
   "id": "a21e29bf",
   "metadata": {},
   "outputs": [
    {
     "name": "stdout",
     "output_type": "stream",
     "text": [
      "[2 3 4 5]\n",
      "[[ 6  8 10]\n",
      " [ 9 11 13]]\n",
      "[[ 40  46]\n",
      " [ 94 109]]\n"
     ]
    }
   ],
   "source": [
    "# ndarray의 사칙연산\n",
    "# ndarray의 사칙연산을 하려면 shape이 같아야함\n",
    "\n",
    "import numpy as np\n",
    "\n",
    "# 만약 shape이 다르다면..\n",
    "arr1 = np.array([1, 2, 3, 4])\n",
    "arr2 = np.array([5, 6, 7])\n",
    "# print(arr1 + arr2)   # 오류\n",
    "\n",
    "# 하지만 shape이 다를때도 만약 shape을 맞출 수 있으면 연산이 가능\n",
    "# broadcasting이 발생해서 두 개의 ndarray의 shape을 똑같이 맞춰요!\n",
    "arr1 = np.array([1,2,3,4])\n",
    "print(arr1 + 1)   # broadcasting   # print(arr1 + [1, 1, 1, 1])\n",
    "\n",
    "# 다양한 경우\n",
    "arr1 = np.array([[1, 2, 3],[4, 5, 6]])\n",
    "arr2 = np.array([5, 6, 7])\n",
    "print(arr1 + arr2)   # 수행가능\n",
    "\n",
    "# 행렬곱연산(matrix 곱연산)\n",
    "arr1 = np.array([[1,2,3],[4,5,6]])   # (2, 3)\n",
    "arr2 = np.array([[4,5],[6,7],[8,9]])   # (3, 2)\n",
    "# 행렬곱연산의 결과는 당연히 (2,2)\n",
    "print(np.matmul(arr1,arr2))"
   ]
  },
  {
   "cell_type": "code",
   "execution_count": 16,
   "id": "ca436806",
   "metadata": {},
   "outputs": [
    {
     "name": "stdout",
     "output_type": "stream",
     "text": [
      "[[1 2 3]\n",
      " [4 5 6]]\n",
      "[[1 4]\n",
      " [2 5]\n",
      " [3 6]]\n"
     ]
    }
   ],
   "source": [
    "# 전치행렬(transpose)\n",
    "\n",
    "arr = np.array([[1,2,3],[4,5,6]])\n",
    "print(arr)\n",
    "\n",
    "print(arr.T)"
   ]
  },
  {
   "cell_type": "code",
   "execution_count": 29,
   "id": "e217d7d1",
   "metadata": {},
   "outputs": [
    {
     "name": "stdout",
     "output_type": "stream",
     "text": [
      "1\n",
      "2\n",
      "3\n",
      "4\n",
      "5\n",
      "1\n",
      "2\n",
      "3\n",
      "4\n",
      "5\n"
     ]
    }
   ],
   "source": [
    "# iterator(반복자)를 이용한 반복문 처리\n",
    "# for문을 이요해서 반복처리를 하는데\n",
    "# ndarray는 while문과 iterator를 이용해서 반복처리는 방식을 선호\n",
    "\n",
    "arr = np.array([1, 2, 3, 4, 5])\n",
    "\n",
    "for tmp in arr:\n",
    "    print(tmp)\n",
    "    \n",
    "# 1차원 ndarray에 대해서 iterator를 이용해 반복처리\n",
    "# iterator로부터 객체를 하나 얻어와요!\n",
    "# iterator 객체로부터 index를 추출할 수 있어요!\n",
    "my_iter = np.nditer(arr, flags=['c_index'])\n",
    "\n",
    "\n",
    "while not my_iter.finished:\n",
    "    idx = my_iter.index\n",
    "    print(arr[idx])\n",
    "    my_iter.iternext()"
   ]
  },
  {
   "cell_type": "code",
   "execution_count": 30,
   "id": "94c38c12",
   "metadata": {},
   "outputs": [
    {
     "name": "stdout",
     "output_type": "stream",
     "text": [
      "1\n",
      "2\n",
      "3\n",
      "4\n",
      "5\n",
      "6\n",
      "(0, 0)\n",
      "1\n",
      "(0, 1)\n",
      "2\n",
      "(0, 2)\n",
      "3\n",
      "(1, 0)\n",
      "4\n",
      "(1, 1)\n",
      "5\n",
      "(1, 2)\n",
      "6\n"
     ]
    }
   ],
   "source": [
    "# 2차원 ndarray 반복처리\n",
    "arr = np.array([[1,2,3],[4,5,6]])   #(2, 3)\n",
    "\n",
    "for tmp1 in range(arr.shape[0]):\n",
    "    for tmp2 in range(arr.shape[1]):\n",
    "        print(arr[tmp1, tmp2])\n",
    "\n",
    "arr = np.array([[1,2,3], [4,5,6]])  # (2,3)\n",
    "\n",
    "my_iter = np.nditer(arr, flags=['multi_index'])\n",
    "\n",
    "while not my_iter.finished:\n",
    "    \n",
    "    idx = my_iter.multi_index\n",
    "    print(idx)\n",
    "    print(arr[idx])\n",
    "    my_iter.iternext()       \n"
   ]
  },
  {
   "cell_type": "code",
   "execution_count": 22,
   "id": "0234cfd5",
   "metadata": {},
   "outputs": [
    {
     "name": "stdout",
     "output_type": "stream",
     "text": [
      "[[1 2 3]\n",
      " [4 5 6]]\n",
      "21\n",
      "21\n",
      "3.5\n",
      "6\n",
      "1\n",
      "5\n",
      "1.707825127659933\n",
      "[[1 2 3]\n",
      " [4 5 6]]\n",
      "[5 7 9]\n",
      "[ 6 15]\n"
     ]
    }
   ],
   "source": [
    "# 다양한 집계함수와 axis개념이 나옴!\n",
    "arr = np.arange(1,7,1).reshape(2,3)\n",
    "print(arr)                           #[[1 2 3]\n",
    "                                    # [4 5 6]]\n",
    "\n",
    "# ndarray 데이터에 대한 합을 구할 수 있음!\n",
    "print(np.sum(arr))   # 21 => numpy가 제공하는 함수를 이용\n",
    "print(arr.sum())   # 21 => ndarray가 가지고 있는 메소드 이용\n",
    "print(arr.mean())\n",
    "print(arr.max())\n",
    "print(arr.min())\n",
    "print(arr.argmax())   # 가장 큰 값의 인덱스값\n",
    "print(arr.std())   # 표준편차\n",
    "\n",
    "# axis 개념에 대해 알아보아요!\n",
    "# numpy는 집계함수를 이용할 때 axis를 명시하지 않으면 전체를 대상으로 연산 수행\n",
    "arr = np.arange(1,7,1).reshape(2,3)\n",
    "print(arr)\n",
    "\n",
    "print(arr.sum(axis=0))   # [5 7 9]\n",
    "print(arr.sum(axis=1))   # [ 6 15]"
   ]
  },
  {
   "cell_type": "code",
   "execution_count": 28,
   "id": "4cce31a0",
   "metadata": {},
   "outputs": [
    {
     "name": "stdout",
     "output_type": "stream",
     "text": [
      "[[ 1  2  3  4]\n",
      " [ 5  6  7  8]\n",
      " [ 9 10 11 12]\n",
      " [13 14 15 16]]\n",
      "6\n"
     ]
    }
   ],
   "source": [
    "# 간단한 연습문제\n",
    "\n",
    "arr = np.arange(1,17,1).reshape(4,4)\n",
    "print(arr)\n",
    "\n",
    "# 이 안에 10보다 큰 수는 몇 개있나요? 6개\n",
    "print((arr > 10).sum())"
   ]
  },
  {
   "cell_type": "code",
   "execution_count": null,
   "id": "4cf38808",
   "metadata": {},
   "outputs": [],
   "source": [
    "# ndarray의 정렬, 연결, 삭제, CSV파일 로딩\n",
    "# 일반적으로 ndarray로 이작업을 하지 않아요!\n",
    "# pandas로 처리해요!"
   ]
  }
 ],
 "metadata": {
  "kernelspec": {
   "display_name": "Python [conda env:machine] *",
   "language": "python",
   "name": "conda-env-machine-py"
  },
  "language_info": {
   "codemirror_mode": {
    "name": "ipython",
    "version": 3
   },
   "file_extension": ".py",
   "mimetype": "text/x-python",
   "name": "python",
   "nbconvert_exporter": "python",
   "pygments_lexer": "ipython3",
   "version": "3.8.12"
  }
 },
 "nbformat": 4,
 "nbformat_minor": 5
}
