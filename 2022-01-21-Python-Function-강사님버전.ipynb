{
 "cells": [
  {
   "cell_type": "code",
   "execution_count": null,
   "id": "aab866aa",
   "metadata": {},
   "outputs": [],
   "source": [
    "# function\n",
    "# 자주 사용되는 기능을 하나의 코드블럭(함수)으로 작성한 후\n",
    "# 함수이름으로 호출해서 기능을 사용."
   ]
  },
  {
   "cell_type": "code",
   "execution_count": null,
   "id": "30c7b6dd",
   "metadata": {},
   "outputs": [],
   "source": [
    "# Python의 함수(function)\n",
    "# 크게 2가지 종류가 있어요!\n",
    "\n",
    "# 1. 내장함수 : Python이 이미 가지고 있는 함수\n",
    "#               print(), type(), id(), len(), ....\n",
    "#               많이 알수록 프로그램에 도움이 되요!\n",
    "#               int(), list(), tuple(), range()\n",
    "\n",
    "# 2. 사용자 정의 함수(user define function)\n",
    "#    직접 함수를 만들어서 사용하는 방법"
   ]
  },
  {
   "cell_type": "code",
   "execution_count": null,
   "id": "09262b3e",
   "metadata": {},
   "outputs": [],
   "source": [
    "# 먼저 사용자 정의 함수부터 알아보아요!\n",
    "# 어떻게 만들어야 하나요? 함수를 만들어야지 사용하겠죠.\n",
    "# 함수를 만들때는 특수한 키워드를 이용. => def"
   ]
  },
  {
   "cell_type": "code",
   "execution_count": 4,
   "id": "6cc5ae0a",
   "metadata": {},
   "outputs": [
    {
     "name": "stdout",
     "output_type": "stream",
     "text": [
      "30\n",
      "<function my_sum at 0x000001E3FA024310>\n",
      "300\n"
     ]
    }
   ],
   "source": [
    "# 식별자 : 변수명, 함수명, ...\n",
    "# 함수명을 정할 때 변수명을 정할때와 비슷한 규칙이 적용\n",
    "# 키워드 X, 한글 X, 숫자로 시작 X, 여러 단어로 되어 있는 함수 => _\n",
    "# 대문자를 이용해도 되나요? 일반적으로 소문자로 만들어요!\n",
    "# 기존에 존재하는 키워드 , 함수명을 사용하면 안되요!\n",
    "# 일반적으로 단일 단어로 되어 있는 함수는 사용하지 않아요!\n",
    "# 함수는 인자라는걸 받아들여요!\n",
    "# y(a,b,c) = 2a + 3b + 4c + 100\n",
    "# 인자 => parameter\n",
    "# return은 함수를 호출한 곳으로 결과값을 전달하는 역할. 그리고 함수호출을\n",
    "# 종료하는 역할\n",
    "\n",
    "def my_sum(a, b):    # a, b : formal parameter(형식 인자)\n",
    "    result = a + b\n",
    "    return result\n",
    "\n",
    "# 이렇게 만든 함수를 call(호출)\n",
    "aa = my_sum(10,20)    # 10, 20 : actual parameter(실인자)\n",
    "print(aa)\n",
    "\n",
    "print(my_sum)  # <function my_sum at 0x000001E3FA0240D0>\n",
    "print(my_sum(100,200))  # ()의 의미는 변수가 가리키는 함수객체의 코드를 실행!\n"
   ]
  },
  {
   "cell_type": "code",
   "execution_count": 9,
   "id": "460d9bff",
   "metadata": {},
   "outputs": [
    {
     "name": "stdout",
     "output_type": "stream",
     "text": [
      "30\n"
     ]
    }
   ],
   "source": [
    "# 사용자 정의 함수의 여러가지 형태(특징)\n",
    "# 만약 인자의 개수에 상관없이 함수를 사용하려면 어떻게 해야 하나요?\n",
    "# 이게 가능한가요? => 가능해요.\n",
    "\n",
    "# *args => 함수로 전달되는 인자를 tuple로 받아요!\n",
    "# args => (10,20,30,40,50)\n",
    "\n",
    "def my_sum(*args):\n",
    "    result = 0\n",
    "    for tmp in args:\n",
    "        result += tmp   # result = result + tmp\n",
    "    return result\n",
    "\n",
    "print(my_sum(10,20,30,40,50))"
   ]
  },
  {
   "cell_type": "code",
   "execution_count": 12,
   "id": "0fbc72e1",
   "metadata": {},
   "outputs": [
    {
     "name": "stdout",
     "output_type": "stream",
     "text": [
      "30 200\n"
     ]
    }
   ],
   "source": [
    "# Python의 함수는 여러개의 값을 리턴할 수 있어요! (X)\n",
    "# 프로그래밍 언어의 함수는 무조건 1개의 값만 return\n",
    "# tuple은 괄호를 생략할 수 있어요!\n",
    "\n",
    "def my_sum(a,b):\n",
    "    result1 = a + b\n",
    "    result2 = a * b\n",
    "    return result1, result2\n",
    "\n",
    "aa, bb = my_sum(10,20)\n"
   ]
  },
  {
   "cell_type": "code",
   "execution_count": 16,
   "id": "01a2eeba",
   "metadata": {},
   "outputs": [
    {
     "name": "stdout",
     "output_type": "stream",
     "text": [
      "103\n",
      "6\n"
     ]
    }
   ],
   "source": [
    "# default parameter\n",
    "# default parameter는 반드시 맨 마지막 parameter에만 나올 수 있어요!\n",
    "# default parameter는 함수를 호출할 때 인자를 사용해도 되고 사용하지\n",
    "# 않아도 되요!\n",
    "\n",
    "def my_sum(a, b, c=100):\n",
    "    return a + b + c\n",
    "\n",
    "print(my_sum(1,2))   # 103\n",
    "print(my_sum(1,2,3)) # 6 "
   ]
  },
  {
   "cell_type": "code",
   "execution_count": 18,
   "id": "5bd638e1",
   "metadata": {},
   "outputs": [
    {
     "name": "stdout",
     "output_type": "stream",
     "text": [
      "10 [10]\n",
      "10 [10, 100]\n"
     ]
    }
   ],
   "source": [
    "# mutable(가변의) vs. immutable(불변의)\n",
    "# call-by-value, call-by-reference\n",
    "# immutable(불변의) => call-by-value\n",
    "# mutable(가변의) => call-by-reference\n",
    "\n",
    "# 혼자하고 있어요!! ㅡㅜ\n",
    "\n",
    "def my_sum(tmp_number, tmp_list):\n",
    "    tmp_number += 100\n",
    "    tmp_list.append(100)\n",
    "    \n",
    "data_x = 10\n",
    "data_list = [10]\n",
    "\n",
    "print(data_x, data_list)   # 10 [10]\n",
    "\n",
    "my_sum(data_x, data_list)  # 함수호출\n",
    "\n",
    "print(data_x, data_list)   # 10 [10, 100]\n"
   ]
  },
  {
   "cell_type": "code",
   "execution_count": 20,
   "id": "b9a2ee31",
   "metadata": {},
   "outputs": [
    {
     "name": "stdout",
     "output_type": "stream",
     "text": [
      "110\n"
     ]
    }
   ],
   "source": [
    "# local variable & global variable\n",
    "# scope (식별자를 찾을 수 있는 영역)\n",
    "\n",
    "# tmp = 100    # memory영역에 존재.\n",
    "\n",
    "# def my_func(x):    # stack안에서 실행\n",
    "#     tmp = tmp + x  # tmp를 찾을 수 없어요. tmp값이 없기때문에 누적할 수 없어요!\n",
    "#     return tmp\n",
    "\n",
    "# print(my_func(10))  # 110\n",
    "\n",
    "########################################\n",
    "\n",
    "tmp = 100    # memory영역에 존재.\n",
    "\n",
    "def my_func(x):    # stack안에서 실행\n",
    "    global tmp\n",
    "    tmp = tmp + x  # tmp를 찾을 수 없어요. tmp값이 없기때문에 누적할 수 없어요!\n",
    "    return tmp\n",
    "\n",
    "print(my_func(10))  # 110\n",
    "\n",
    "#######\n",
    "# 이렇게 global keyword를 사용하면 외부 영역에 있는 변수를 사용할 수 있어요\n",
    "# 이게  좋은 방법인가요?  안좋은 방법이예요!\n",
    "# 편한방법이예요!"
   ]
  },
  {
   "cell_type": "code",
   "execution_count": null,
   "id": "4b3fa7a0",
   "metadata": {},
   "outputs": [],
   "source": [
    "# Python의 내장함수\n",
    "# print(), len(), id(), type(), size(), sum(), ...\n",
    "# 상당히 종류가 많고 강의 진행하면서 함수가 나올때마다 소개하는 방식으로\n",
    "# 진행!\n"
   ]
  },
  {
   "cell_type": "code",
   "execution_count": null,
   "id": "62f9c091",
   "metadata": {},
   "outputs": [],
   "source": [
    "# Python 객체지향............\n",
    "# class가 뭔가요??  => 객체모델링의 수단."
   ]
  },
  {
   "cell_type": "code",
   "execution_count": null,
   "id": "57296a92",
   "metadata": {},
   "outputs": [],
   "source": [
    "# 1명의 학생 정보(이름, 학과, 학번, 성적)를 프로그램적으로 저장.\n",
    "\n",
    "student_name = '아이유'\n",
    "student_dept = '철학과'\n",
    "student_number = '20001122'   # 직접적인 수학적 연산이 수행되면 숫자\n",
    "                              # 그렇지 않으면 문자.(편해요!)\n",
    "student_grade = 3.5\n",
    "\n",
    "# 3명의 학생 정보를 프로그램적으로 저장\n",
    "# 노동집약적 표현(내가 생각해도 이건 아닐거 같은데...)\n",
    "student1_name = '아이유'\n",
    "student1_dept = '철학과'\n",
    "student1_number = '20001122'   \n",
    "student1_grade = 3.5\n",
    "\n",
    "student2_name = '김연아'\n",
    "student2_dept = '컴퓨터'\n",
    "student2_number = '20001123'   \n",
    "student2_grade = 4.5\n",
    "\n",
    "student3_name = '신사임당'\n",
    "student3_dept = '영어영문'\n",
    "student3_number = '20001124'   \n",
    "student3_grade = 1.5\n",
    "\n",
    "# 3명의 학생 정보를 프로그램적으로 저장\n",
    "# 위에 있는 표현보다는 나은 표현인데.. 각 인덱스의 값이 같은 \n",
    "# 그게... 1사람의 정보라는 데이터는 코드에 명시되지 않아요!\n",
    "student_name = ['아이유', '김연아', '신사임당']\n",
    "student_dept = ['철학과', '컴퓨터', '영어영문']\n",
    "student_number = ['20001122', '20001123', '20001124']   \n",
    "student_grade = [3.5, 4.5, 1.5]\n",
    "\n",
    "######################################\n",
    "\n",
    "# user define class의 이름은 관용적으로 대문자로 시작.\n",
    "\n",
    "class Student(object):\n",
    "    \n",
    "    # 특별한 함수를 하나 정의할 꺼예요! 이름이 정해져 있어요!\n",
    "    def __init__(self, stu_name, stu_dept, stu_number, stu_grade):\n",
    "        self.student_name = stu_name\n",
    "        self.student_dept = stu_dept\n",
    "        self.student_number = stu_number\n",
    "        self.student_grade = stu_grade\n",
    "\n",
    "stu1 = Student('아이유', '철학과', '201101', 3.5)        \n",
    "stu2 = Student('김연아', '컴퓨터', '20001123', 4.5)\n",
    "stu3 = Student('신사임당', '영어영문', '20001124', 1.5)\n",
    "\n",
    "        \n",
    "        \n",
    "\n",
    "\n",
    "\n",
    "\n",
    "\n",
    "\n",
    "\n",
    "\n",
    "\n",
    "\n"
   ]
  }
 ],
 "metadata": {
  "kernelspec": {
   "display_name": "Python [conda env:data_env] *",
   "language": "python",
   "name": "conda-env-data_env-py"
  },
  "language_info": {
   "codemirror_mode": {
    "name": "ipython",
    "version": 3
   },
   "file_extension": ".py",
   "mimetype": "text/x-python",
   "name": "python",
   "nbconvert_exporter": "python",
   "pygments_lexer": "ipython3",
   "version": "3.8.12"
  }
 },
 "nbformat": 4,
 "nbformat_minor": 5
}
