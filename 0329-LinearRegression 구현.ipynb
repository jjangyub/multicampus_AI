{
 "cells": [
  {
   "cell_type": "code",
   "execution_count": 3,
   "id": "fcaa7376",
   "metadata": {},
   "outputs": [
    {
     "name": "stdout",
     "output_type": "stream",
     "text": [
      "W : [[0.80657713]], b : [0.46731633], loss : 19.764892752749102\n",
      "W : [[2.01885661]], b : [0.93192164], loss : 0.0008435898067700211\n",
      "W : [[2.00683843]], b : [0.9753111], loss : 0.00011094724412455195\n",
      "W : [[2.00247998]], b : [0.99104647], loss : 1.4591559641956136e-05\n",
      "W : [[2.00089938]], b : [0.99675297], loss : 1.919052739561547e-06\n",
      "W : [[2.00032616]], b : [0.99882245], loss : 2.5238997801622854e-07\n",
      "W : [[2.00011828]], b : [0.99957296], loss : 3.319382510386946e-08\n",
      "W : [[2.0000429]], b : [0.99984513], loss : 4.365585486935514e-09\n",
      "W : [[2.00001556]], b : [0.99994384], loss : 5.741530716479601e-10\n",
      "W : [[2.00000564]], b : [0.99997963], loss : 7.55114635812324e-11\n"
     ]
    }
   ],
   "source": [
    "import numpy as np\n",
    "\n",
    "# training data set 준비\n",
    "\n",
    "# x_data => 독립변수(공부시간)\n",
    "x_data = np.array([1,2,3,4,5], dtype=np.float64).reshape(5,1)\n",
    "\n",
    "# t_data => 정답 데이터(시험점수)\n",
    "t_data = np.array([3,5,7,9,11], dtype=np.float64).reshape(5,1)\n",
    "\n",
    "# weight & bias 정의\n",
    "W = np.random.rand(1,1)  # 1행 1열짜리(값은 1개) ndarray를 만들고\n",
    "                         # 0과 1사이의 균등분포에서 실수 난수를 추출\n",
    "b = np.random.rand(1)  \n",
    "\n",
    "# loss function\n",
    "def loss_func(input_data):  # loss 함수는 w와 b의 함수\n",
    "                            # input_data => [W b]\n",
    "    \n",
    "    input_W = input_data[0].reshape(1,1)\n",
    "    input_b = input_data[1]\n",
    "    \n",
    "    # 예측값\n",
    "    # 행렬끼리 곱할 때 np.dot 사용\n",
    "    y = np.dot(x_data, input_W) + input_b\n",
    "    \n",
    "    # MSE(평균제곱오차)\n",
    "    # np.power(a,b) => a^b\n",
    "    return np.mean(np.power(t_data - y,2))\n",
    "\n",
    "# predict function (예측함수, 모델, hypothesis)\n",
    "def predict(x):\n",
    "    y = np.dot(x,W) + b\n",
    "    \n",
    "    return y\n",
    "\n",
    "# 다변수 함수에 대해 수치미분을 수행하는 함수\n",
    "def numerical_derivative(f,x):    \n",
    "    \n",
    "    delta_x = 1e-4\n",
    "    derivative_x = np.zeros_like(x)  \n",
    "    \n",
    "    # iterator를 이용해서 입력변수 x에 대한 편미분을 수행!\n",
    "    it = np.nditer(x, flags=['multi_index'])\n",
    "    \n",
    "    while not it.finished:\n",
    "        \n",
    "        idx = it.multi_index \n",
    "        tmp = x[idx]             \n",
    "        \n",
    "        x[idx] = tmp + delta_x   \n",
    "        fx_plus_delta = f(x)\n",
    "        \n",
    "        x[idx] = tmp - delta_x    \n",
    "        fx_minus_delta = f(x)\n",
    "        \n",
    "        derivative_x[idx] = (fx_plus_delta - fx_minus_delta) / (2 * delta_x)\n",
    "        \n",
    "        x[idx] = tmp              \n",
    "        it.iternext()\n",
    "        \n",
    "    return derivative_x\n",
    "\n",
    "\n",
    "# learnig rate의 값 설정\n",
    "# learning rate는 우리가 설정해야한는 값\n",
    "# 학습이 진행되는 과정을 살펴보면서 이 값을 적절하게 수정해야함\n",
    "# 초기에는 1e-4, 1e-3 정도로 설정해서 사용\n",
    "learning_rate = 1e-4\n",
    "\n",
    "# 학습과정 진행\n",
    "for step in range(300000):\n",
    "    \n",
    "    # ravel()은 다차원 배열을 1차원 배열로 바꿈\n",
    "    input_param = np.concatenate((W.ravel(), b.ravel()),axis=0)  # [W b]\n",
    "    \n",
    "    derivative_result = learning_rate * numerical_derivative(loss_func, input_param)\n",
    "    \n",
    "    W = W - derivative_result[0].reshape(1,1)\n",
    "    b = b - derivative_result[1]\n",
    "    \n",
    "    if step % 30000 == 0:\n",
    "        input_param = np.concatenate((W.ravel(), b.ravel()), axis=0)\n",
    "        print('W : {}, b : {}, loss : {}'.format(W, b, loss_func(input_param)))"
   ]
  },
  {
   "cell_type": "code",
   "execution_count": 4,
   "id": "87a0f574",
   "metadata": {},
   "outputs": [
    {
     "name": "stdout",
     "output_type": "stream",
     "text": [
      "6시간 공부했을 때 점수 :  [[13.00000489]]\n"
     ]
    }
   ],
   "source": [
    "# 6시간 공부하면 몇점일지를 예측해 보아요!\n",
    "\n",
    "predict_date = predict(np.array([[6]]))\n",
    "print('6시간 공부했을 때 점수 : ', predict_date)"
   ]
  },
  {
   "cell_type": "code",
   "execution_count": 5,
   "id": "21893247",
   "metadata": {},
   "outputs": [
    {
     "name": "stdout",
     "output_type": "stream",
     "text": [
      "W : [[2.]], b : [1.]\n",
      "[[13.]]\n"
     ]
    }
   ],
   "source": [
    "# python으로 아주 간단한 simple linear regression을 이용해 머신러닝을 구현해 보았다!\n",
    "# sklearn(scikit-learn) => 사용하려면 설치해야함\n",
    "# pip install sklearn\n",
    "import numpy as np\n",
    "from sklearn import linear_model\n",
    "\n",
    "# training data set 준비\n",
    "\n",
    "x_data = np.array([1,2,3,4,5], dtype=np.float64).reshape(5,1)\n",
    "t_data = np.array([3,5,7,9,11], dtype=np.float64).reshape(5,1)\n",
    "\n",
    "# model 생성 (simple linear model)\n",
    "model = linear_model.LinearRegression()\n",
    "\n",
    "# model 학습\n",
    "model.fit(x_data,t_data)\n",
    "\n",
    "# 학습이 끝났으니 구한 W와 b를 출력해보자\n",
    "print('W : {}, b : {}'.format(model.coef_,model.intercept_))\n",
    "\n",
    "# model을 이용한 예측\n",
    "print(model.predict(np.array([[6]])))  # [[13.]]"
   ]
  },
  {
   "cell_type": "code",
   "execution_count": 6,
   "id": "1c739e20",
   "metadata": {},
   "outputs": [
    {
     "data": {
      "text/html": [
       "<div>\n",
       "<style scoped>\n",
       "    .dataframe tbody tr th:only-of-type {\n",
       "        vertical-align: middle;\n",
       "    }\n",
       "\n",
       "    .dataframe tbody tr th {\n",
       "        vertical-align: top;\n",
       "    }\n",
       "\n",
       "    .dataframe thead th {\n",
       "        text-align: right;\n",
       "    }\n",
       "</style>\n",
       "<table border=\"1\" class=\"dataframe\">\n",
       "  <thead>\n",
       "    <tr style=\"text-align: right;\">\n",
       "      <th></th>\n",
       "      <th>Ozone</th>\n",
       "      <th>Solar.R</th>\n",
       "      <th>Wind</th>\n",
       "      <th>Temp</th>\n",
       "      <th>Month</th>\n",
       "      <th>Day</th>\n",
       "    </tr>\n",
       "  </thead>\n",
       "  <tbody>\n",
       "    <tr>\n",
       "      <th>0</th>\n",
       "      <td>41.0</td>\n",
       "      <td>190.0</td>\n",
       "      <td>7.4</td>\n",
       "      <td>67</td>\n",
       "      <td>5</td>\n",
       "      <td>1</td>\n",
       "    </tr>\n",
       "    <tr>\n",
       "      <th>1</th>\n",
       "      <td>36.0</td>\n",
       "      <td>118.0</td>\n",
       "      <td>8.0</td>\n",
       "      <td>72</td>\n",
       "      <td>5</td>\n",
       "      <td>2</td>\n",
       "    </tr>\n",
       "    <tr>\n",
       "      <th>2</th>\n",
       "      <td>12.0</td>\n",
       "      <td>149.0</td>\n",
       "      <td>12.6</td>\n",
       "      <td>74</td>\n",
       "      <td>5</td>\n",
       "      <td>3</td>\n",
       "    </tr>\n",
       "    <tr>\n",
       "      <th>3</th>\n",
       "      <td>18.0</td>\n",
       "      <td>313.0</td>\n",
       "      <td>11.5</td>\n",
       "      <td>62</td>\n",
       "      <td>5</td>\n",
       "      <td>4</td>\n",
       "    </tr>\n",
       "    <tr>\n",
       "      <th>4</th>\n",
       "      <td>NaN</td>\n",
       "      <td>NaN</td>\n",
       "      <td>14.3</td>\n",
       "      <td>56</td>\n",
       "      <td>5</td>\n",
       "      <td>5</td>\n",
       "    </tr>\n",
       "  </tbody>\n",
       "</table>\n",
       "</div>"
      ],
      "text/plain": [
       "   Ozone  Solar.R  Wind  Temp  Month  Day\n",
       "0   41.0    190.0   7.4    67      5    1\n",
       "1   36.0    118.0   8.0    72      5    2\n",
       "2   12.0    149.0  12.6    74      5    3\n",
       "3   18.0    313.0  11.5    62      5    4\n",
       "4    NaN      NaN  14.3    56      5    5"
      ]
     },
     "metadata": {},
     "output_type": "display_data"
    },
    {
     "name": "stdout",
     "output_type": "stream",
     "text": [
      "<class 'pandas.core.frame.DataFrame'>\n",
      "RangeIndex: 153 entries, 0 to 152\n",
      "Data columns (total 2 columns):\n",
      " #   Column  Non-Null Count  Dtype  \n",
      "---  ------  --------------  -----  \n",
      " 0   Ozone   116 non-null    float64\n",
      " 1   Temp    153 non-null    int64  \n",
      "dtypes: float64(1), int64(1)\n",
      "memory usage: 2.5 KB\n"
     ]
    },
    {
     "name": "stderr",
     "output_type": "stream",
     "text": [
      "C:\\Users\\user\\AppData\\Local\\Temp\\ipykernel_16784\\2810913233.py:54: SettingWithCopyWarning: \n",
      "A value is trying to be set on a copy of a slice from a DataFrame\n",
      "\n",
      "See the caveats in the documentation: https://pandas.pydata.org/pandas-docs/stable/user_guide/indexing.html#returning-a-view-versus-a-copy\n",
      "  training_data.dropna(how='any',\n"
     ]
    },
    {
     "name": "stdout",
     "output_type": "stream",
     "text": [
      "W : [[0.63379848]], b : [0.75741149], loss : 892.2425954146381\n",
      "W : [[0.5683815]], b : [0.75741149], loss : 865.9113792359444\n",
      "W : [[0.5683815]], b : [0.75741149], loss : 865.9113792359444\n",
      "W : [[0.5683815]], b : [0.75741149], loss : 865.9113792359444\n",
      "W : [[0.5683815]], b : [0.75741149], loss : 865.9113792359444\n",
      "W : [[0.5683815]], b : [0.75741149], loss : 865.9113792359444\n",
      "W : [[0.5683815]], b : [0.75741149], loss : 865.9113792359444\n",
      "W : [[0.5683815]], b : [0.75741149], loss : 865.9113792359444\n",
      "W : [[0.5683815]], b : [0.75741149], loss : 865.9113792359444\n",
      "W : [[0.5683815]], b : [0.75741149], loss : 865.9113792359444\n"
     ]
    }
   ],
   "source": [
    "# Ozone량 예측하는 모델을 만들자\n",
    "\n",
    "import numpy as np\n",
    "import pandas as pd\n",
    "import matplotlib.pyplot as plt\n",
    "\n",
    "def numerical_derivative(f,x):    \n",
    "    \n",
    "    delta_x = 1e-4\n",
    "    derivative_x = np.zeros_like(x)  \n",
    "    \n",
    "    # iterator를 이용해서 입력변수 x에 대한 편미분을 수행!\n",
    "    it = np.nditer(x, flags=['multi_index'])\n",
    "    \n",
    "    while not it.finished:\n",
    "        \n",
    "        idx = it.multi_index \n",
    "        tmp = x[idx]             \n",
    "        \n",
    "        x[idx] = tmp + delta_x   \n",
    "        fx_plus_delta = f(x)\n",
    "        \n",
    "        x[idx] = tmp - delta_x    \n",
    "        fx_minus_delta = f(x)\n",
    "        \n",
    "        derivative_x[idx] = (fx_plus_delta - fx_minus_delta) / (2 * delta_x)\n",
    "        \n",
    "        x[idx] = tmp              \n",
    "        it.iternext()\n",
    "        \n",
    "    return derivative_x\n",
    "\n",
    "\n",
    "# Raw data set loading\n",
    "df = pd.read_csv('./data/ozone.csv')\n",
    "display(df.head())\n",
    "\n",
    "# ozone(오존량) : 종속변수\n",
    "# solar.R(태양광 세기), wind(바람), temp(온도) : 독립변수\n",
    "# 우리는 지금 simple linear regression을 하고있기 때문에 독립변수 1개만 사용\n",
    "# 3개중에 temp를 사용할거임\n",
    "# 온도에 따른 오존량 예측 모델을 만들자\n",
    "training_data = df[['Ozone','Temp']]\n",
    "# display(training_data)\n",
    "# print(training_data.shape)  # (153, 2)\n",
    "\n",
    "# 데이터에 결치값 존재\n",
    "training_data.info()\n",
    "# 결치값을 삭제하는 방법 -> 데이터가 충분할 때\n",
    "# 결치값을 다른값으로 대체 -> 데이터가 많이 없을때\n",
    "\n",
    "# 여기서는 결치값 삭제\n",
    "\n",
    "training_data.dropna(how='any',\n",
    "                     inplace=True)  # how='any' : 결치가 존재하는 행을 삭제\n",
    "\n",
    "# training data set\n",
    "# reshape(-1,1) 열은 한줄로 하고 나머지는 행으로 밀어넣기\n",
    "x_data = training_data['Temp'].values.reshape(-1,1)\n",
    "t_data = training_data['Ozone'].values.reshape(-1,1)\n",
    "\n",
    "# weight, bias\n",
    "W = np.random.rand(1,1)\n",
    "b = np.random.rand(1)\n",
    "\n",
    "# loss function\n",
    "def loss_func(input_data):\n",
    "    W = input_data[0].reshape(1,1)\n",
    "    b = input_data[1]\n",
    "    \n",
    "    y = np.dot(x_data,W)\n",
    "    return np.mean(np.power(t_data-y,2))\n",
    "\n",
    "# predict\n",
    "def predict(x):\n",
    "    y = np.dot(x,W) + b\n",
    "    \n",
    "    return y\n",
    "\n",
    "# learning rate\n",
    "learning_rate = 1e-4\n",
    "\n",
    "# 반복 학습\n",
    "for step in range(300000):\n",
    "    \n",
    "    # ravel()은 다차원 배열을 1차원 배열로 바꿈\n",
    "    input_param = np.concatenate((W.ravel(), b.ravel()),axis=0)  # [W b]\n",
    "    \n",
    "    derivative_result = learning_rate * numerical_derivative(loss_func, input_param)\n",
    "    \n",
    "    W = W - derivative_result[0].reshape(1,1)\n",
    "    b = b - derivative_result[1]\n",
    "    \n",
    "    if step % 30000 == 0:\n",
    "        input_param = np.concatenate((W.ravel(), b.ravel()), axis=0)\n",
    "        print('W : {}, b : {}, loss : {}'.format(W, b, loss_func(input_param)))"
   ]
  },
  {
   "cell_type": "code",
   "execution_count": 7,
   "id": "449559a4",
   "metadata": {},
   "outputs": [
    {
     "name": "stdout",
     "output_type": "stream",
     "text": [
      "온도가 62일때 오존량 : [[35.99706442]]\n"
     ]
    }
   ],
   "source": [
    "# 학습종료 후 예측 (Temp : 62)\n",
    "predict_data = predict(np.array([[62]]))\n",
    "print('온도가 62일때 오존량 : {}'.format(predict_data))  # [[16.88715564]]"
   ]
  },
  {
   "cell_type": "code",
   "execution_count": 8,
   "id": "764cfe14",
   "metadata": {},
   "outputs": [
    {
     "data": {
      "image/png": "[encoded data removed]",
      "text/plain": [
       "<Figure size 432x288 with 1 Axes>"
      ]
     },
     "metadata": {
      "needs_background": "light"
     },
     "output_type": "display_data"
    }
   ],
   "source": [
    "# 그래프로 표현해 보아요!\n",
    "plt.scatter(x_data.ravel(), t_data.ravel())\n",
    "plt.plot(x_data.ravel(), x_data.ravel()*W.ravel() + b, color='r')\n",
    "plt.show()"
   ]
  },
  {
   "cell_type": "code",
   "execution_count": 9,
   "id": "5dc5fe26",
   "metadata": {
    "scrolled": false
   },
   "outputs": [
    {
     "name": "stderr",
     "output_type": "stream",
     "text": [
      "C:\\Users\\user\\AppData\\Local\\Temp\\ipykernel_16784\\3247804505.py:9: SettingWithCopyWarning: \n",
      "A value is trying to be set on a copy of a slice from a DataFrame\n",
      "\n",
      "See the caveats in the documentation: https://pandas.pydata.org/pandas-docs/stable/user_guide/indexing.html#returning-a-view-versus-a-copy\n",
      "  training_data.dropna(how='any',\n"
     ]
    },
    {
     "name": "stdout",
     "output_type": "stream",
     "text": [
      "sklearn으로 구한 온도가 62도 일때의 오존량 : [[3.58411393]]\n"
     ]
    },
    {
     "data": {
      "image/png": "[encoded data removed]",
      "text/plain": [
       "<Figure size 432x288 with 1 Axes>"
      ]
     },
     "metadata": {
      "needs_background": "light"
     },
     "output_type": "display_data"
    }
   ],
   "source": [
    "# 같은 데이터로 sklearn을 이용해서 구현해 보아요!\n",
    "import numpy as np\n",
    "import pandas as pd\n",
    "import matplotlib.pyplot as plt\n",
    "from sklearn import linear_model\n",
    "\n",
    "df = pd.read_csv('./data/ozone.csv')\n",
    "training_data = df[['Ozone', 'Temp']]\n",
    "training_data.dropna(how='any',\n",
    "                     inplace=True)   # how='any' : 결치가 존재하는 행을 삭제\n",
    "\n",
    "# Training Data Set\n",
    "x_data = training_data['Temp'].values.reshape(-1,1)\n",
    "t_data = training_data['Ozone'].values.reshape(-1,1)\n",
    "\n",
    "# model 생성\n",
    "model = linear_model.LinearRegression()\n",
    "\n",
    "# model 학습\n",
    "model.fit(x_data, t_data)\n",
    "\n",
    "# 예측\n",
    "result = model.predict(np.array([[62]]))\n",
    "print('sklearn으로 구한 온도가 62도 일때의 오존량 : {}'.format(result))  \n",
    "# [[3.58411393]]\n",
    "\n",
    "# 그래프 표현\n",
    "plt.scatter(x_data.ravel(), t_data.ravel())\n",
    "plt.plot(x_data.ravel(), \n",
    "         x_data.ravel()*model.coef_.ravel() + model.intercept_, color='g')\n",
    "plt.show()"
   ]
  }
 ],
 "metadata": {
  "kernelspec": {
   "display_name": "Python [conda env:.conda-machine_TF15] *",
   "language": "python",
   "name": "conda-env-.conda-machine_TF15-py"
  },
  "language_info": {
   "codemirror_mode": {
    "name": "ipython",
    "version": 3
   },
   "file_extension": ".py",
   "mimetype": "text/x-python",
   "name": "python",
   "nbconvert_exporter": "python",
   "pygments_lexer": "ipython3",
   "version": "3.7.13"
  }
 },
 "nbformat": 4,
 "nbformat_minor": 5
}
