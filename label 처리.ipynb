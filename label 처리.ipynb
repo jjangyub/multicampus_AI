{
 "cells": [
  {
   "cell_type": "code",
   "execution_count": 2,
   "id": "0aef7d51",
   "metadata": {},
   "outputs": [
    {
     "name": "stderr",
     "output_type": "stream",
     "text": [
      "Cloning into 'yolov5'...\n"
     ]
    }
   ],
   "source": [
    "!git clone https://github.com/ultralytics/yolov5.git"
   ]
  },
  {
   "cell_type": "code",
   "execution_count": 3,
   "id": "9e2ff07f",
   "metadata": {},
   "outputs": [
    {
     "name": "stdout",
     "output_type": "stream",
     "text": [
      "c:\\jupyter_home\\yolov5\n",
      "Requirement already satisfied: matplotlib>=3.2.2 in c:\\users\\yeop\\.conda\\envs\\machine_tf2\\lib\\site-packages (from -r requirements.txt (line 4)) (3.5.1)\n",
      "Requirement already satisfied: numpy>=1.18.5 in c:\\users\\yeop\\.conda\\envs\\machine_tf2\\lib\\site-packages (from -r requirements.txt (line 5)) (1.21.5)\n",
      "Requirement already satisfied: opencv-python>=4.1.2 in c:\\users\\yeop\\.conda\\envs\\machine_tf2\\lib\\site-packages (from -r requirements.txt (line 6)) (4.5.5.64)\n",
      "Requirement already satisfied: Pillow>=7.1.2 in c:\\users\\yeop\\.conda\\envs\\machine_tf2\\lib\\site-packages (from -r requirements.txt (line 7)) (9.0.1)\n",
      "Collecting PyYAML>=5.3.1\n",
      "  Downloading PyYAML-6.0-cp38-cp38-win_amd64.whl (155 kB)\n",
      "Requirement already satisfied: requests>=2.23.0 in c:\\users\\yeop\\.conda\\envs\\machine_tf2\\lib\\site-packages (from -r requirements.txt (line 9)) (2.27.1)\n",
      "Requirement already satisfied: scipy>=1.4.1 in c:\\users\\yeop\\.conda\\envs\\machine_tf2\\lib\\site-packages (from -r requirements.txt (line 10)) (1.7.3)\n",
      "Collecting torch>=1.7.0\n",
      "  Downloading torch-1.11.0-cp38-cp38-win_amd64.whl (158.0 MB)\n",
      "Collecting torchvision>=0.8.1\n",
      "  Downloading torchvision-0.12.0-cp38-cp38-win_amd64.whl (1.0 MB)\n",
      "Requirement already satisfied: tqdm>=4.41.0 in c:\\users\\yeop\\.conda\\envs\\machine_tf2\\lib\\site-packages (from -r requirements.txt (line 13)) (4.63.0)\n",
      "Collecting tensorboard>=2.4.1\n",
      "  Using cached tensorboard-2.8.0-py3-none-any.whl (5.8 MB)\n",
      "Requirement already satisfied: pandas>=1.1.4 in c:\\users\\yeop\\.conda\\envs\\machine_tf2\\lib\\site-packages (from -r requirements.txt (line 20)) (1.4.1)\n",
      "Collecting seaborn>=0.11.0\n",
      "  Downloading seaborn-0.11.2-py3-none-any.whl (292 kB)\n",
      "Collecting thop\n",
      "  Downloading thop-0.0.31.post2005241907-py3-none-any.whl (8.7 kB)\n",
      "Requirement already satisfied: kiwisolver>=1.0.1 in c:\\users\\yeop\\.conda\\envs\\machine_tf2\\lib\\site-packages (from matplotlib>=3.2.2->-r requirements.txt (line 4)) (1.3.2)\n",
      "Requirement already satisfied: fonttools>=4.22.0 in c:\\users\\yeop\\.conda\\envs\\machine_tf2\\lib\\site-packages (from matplotlib>=3.2.2->-r requirements.txt (line 4)) (4.25.0)\n",
      "Requirement already satisfied: python-dateutil>=2.7 in c:\\users\\yeop\\.conda\\envs\\machine_tf2\\lib\\site-packages (from matplotlib>=3.2.2->-r requirements.txt (line 4)) (2.8.2)\n",
      "Requirement already satisfied: packaging>=20.0 in c:\\users\\yeop\\.conda\\envs\\machine_tf2\\lib\\site-packages (from matplotlib>=3.2.2->-r requirements.txt (line 4)) (21.3)\n",
      "Requirement already satisfied: pyparsing>=2.2.1 in c:\\users\\yeop\\.conda\\envs\\machine_tf2\\lib\\site-packages (from matplotlib>=3.2.2->-r requirements.txt (line 4)) (3.0.4)\n",
      "Requirement already satisfied: cycler>=0.10 in c:\\users\\yeop\\.conda\\envs\\machine_tf2\\lib\\site-packages (from matplotlib>=3.2.2->-r requirements.txt (line 4)) (0.11.0)\n",
      "Requirement already satisfied: certifi>=2017.4.17 in c:\\users\\yeop\\.conda\\envs\\machine_tf2\\lib\\site-packages (from requests>=2.23.0->-r requirements.txt (line 9)) (2021.10.8)\n",
      "Requirement already satisfied: charset-normalizer~=2.0.0 in c:\\users\\yeop\\.conda\\envs\\machine_tf2\\lib\\site-packages (from requests>=2.23.0->-r requirements.txt (line 9)) (2.0.4)\n",
      "Requirement already satisfied: idna<4,>=2.5 in c:\\users\\yeop\\.conda\\envs\\machine_tf2\\lib\\site-packages (from requests>=2.23.0->-r requirements.txt (line 9)) (3.3)\n",
      "Requirement already satisfied: urllib3<1.27,>=1.21.1 in c:\\users\\yeop\\.conda\\envs\\machine_tf2\\lib\\site-packages (from requests>=2.23.0->-r requirements.txt (line 9)) (1.26.8)\n",
      "Requirement already satisfied: typing-extensions in c:\\users\\yeop\\.conda\\envs\\machine_tf2\\lib\\site-packages (from torch>=1.7.0->-r requirements.txt (line 11)) (4.1.1)\n",
      "Requirement already satisfied: colorama in c:\\users\\yeop\\.conda\\envs\\machine_tf2\\lib\\site-packages (from tqdm>=4.41.0->-r requirements.txt (line 13)) (0.4.4)\n",
      "Requirement already satisfied: grpcio>=1.24.3 in c:\\users\\yeop\\.conda\\envs\\machine_tf2\\lib\\site-packages (from tensorboard>=2.4.1->-r requirements.txt (line 16)) (1.42.0)\n",
      "Requirement already satisfied: tensorboard-plugin-wit>=1.6.0 in c:\\users\\yeop\\.conda\\envs\\machine_tf2\\lib\\site-packages (from tensorboard>=2.4.1->-r requirements.txt (line 16)) (1.6.0)\n",
      "Requirement already satisfied: markdown>=2.6.8 in c:\\users\\yeop\\.conda\\envs\\machine_tf2\\lib\\site-packages (from tensorboard>=2.4.1->-r requirements.txt (line 16)) (3.3.4)\n",
      "Requirement already satisfied: wheel>=0.26 in c:\\users\\yeop\\.conda\\envs\\machine_tf2\\lib\\site-packages (from tensorboard>=2.4.1->-r requirements.txt (line 16)) (0.37.1)\n",
      "Requirement already satisfied: protobuf>=3.6.0 in c:\\users\\yeop\\.conda\\envs\\machine_tf2\\lib\\site-packages (from tensorboard>=2.4.1->-r requirements.txt (line 16)) (3.19.1)\n",
      "Collecting tensorboard-data-server<0.7.0,>=0.6.0\n",
      "  Using cached tensorboard_data_server-0.6.1-py3-none-any.whl (2.4 kB)\n",
      "Requirement already satisfied: absl-py>=0.4 in c:\\users\\yeop\\.conda\\envs\\machine_tf2\\lib\\site-packages (from tensorboard>=2.4.1->-r requirements.txt (line 16)) (0.15.0)\n",
      "Requirement already satisfied: setuptools>=41.0.0 in c:\\users\\yeop\\.conda\\envs\\machine_tf2\\lib\\site-packages (from tensorboard>=2.4.1->-r requirements.txt (line 16)) (58.0.4)\n",
      "Requirement already satisfied: werkzeug>=0.11.15 in c:\\users\\yeop\\.conda\\envs\\machine_tf2\\lib\\site-packages (from tensorboard>=2.4.1->-r requirements.txt (line 16)) (2.0.3)\n",
      "Requirement already satisfied: google-auth-oauthlib<0.5,>=0.4.1 in c:\\users\\yeop\\.conda\\envs\\machine_tf2\\lib\\site-packages (from tensorboard>=2.4.1->-r requirements.txt (line 16)) (0.4.4)\n",
      "Requirement already satisfied: google-auth<3,>=1.6.3 in c:\\users\\yeop\\.conda\\envs\\machine_tf2\\lib\\site-packages (from tensorboard>=2.4.1->-r requirements.txt (line 16)) (2.6.0)\n",
      "Requirement already satisfied: pytz>=2020.1 in c:\\users\\yeop\\.conda\\envs\\machine_tf2\\lib\\site-packages (from pandas>=1.1.4->-r requirements.txt (line 20)) (2021.3)\n",
      "Requirement already satisfied: six in c:\\users\\yeop\\.conda\\envs\\machine_tf2\\lib\\site-packages (from absl-py>=0.4->tensorboard>=2.4.1->-r requirements.txt (line 16)) (1.16.0)\n",
      "Requirement already satisfied: rsa<5,>=3.1.4 in c:\\users\\yeop\\.conda\\envs\\machine_tf2\\lib\\site-packages (from google-auth<3,>=1.6.3->tensorboard>=2.4.1->-r requirements.txt (line 16)) (4.7.2)\n",
      "Requirement already satisfied: pyasn1-modules>=0.2.1 in c:\\users\\yeop\\.conda\\envs\\machine_tf2\\lib\\site-packages (from google-auth<3,>=1.6.3->tensorboard>=2.4.1->-r requirements.txt (line 16)) (0.2.8)\n",
      "Requirement already satisfied: cachetools<6.0,>=2.0.0 in c:\\users\\yeop\\.conda\\envs\\machine_tf2\\lib\\site-packages (from google-auth<3,>=1.6.3->tensorboard>=2.4.1->-r requirements.txt (line 16)) (4.2.2)\n",
      "Requirement already satisfied: requests-oauthlib>=0.7.0 in c:\\users\\yeop\\.conda\\envs\\machine_tf2\\lib\\site-packages (from google-auth-oauthlib<0.5,>=0.4.1->tensorboard>=2.4.1->-r requirements.txt (line 16)) (1.3.0)\n",
      "Requirement already satisfied: pyasn1<0.5.0,>=0.4.6 in c:\\users\\yeop\\.conda\\envs\\machine_tf2\\lib\\site-packages (from pyasn1-modules>=0.2.1->google-auth<3,>=1.6.3->tensorboard>=2.4.1->-r requirements.txt (line 16)) (0.4.8)\n",
      "Requirement already satisfied: oauthlib>=3.0.0 in c:\\users\\yeop\\.conda\\envs\\machine_tf2\\lib\\site-packages (from requests-oauthlib>=0.7.0->google-auth-oauthlib<0.5,>=0.4.1->tensorboard>=2.4.1->-r requirements.txt (line 16)) (3.2.0)\n",
      "Installing collected packages: torch, tensorboard-data-server, torchvision, thop, tensorboard, seaborn, PyYAML\n",
      "  Attempting uninstall: tensorboard\n",
      "    Found existing installation: tensorboard 2.4.0\n",
      "    Uninstalling tensorboard-2.4.0:\n",
      "      Successfully uninstalled tensorboard-2.4.0\n",
      "Successfully installed PyYAML-6.0 seaborn-0.11.2 tensorboard-2.8.0 tensorboard-data-server-0.6.1 thop-0.0.31.post2005241907 torch-1.11.0 torchvision-0.12.0\n"
     ]
    },
    {
     "name": "stderr",
     "output_type": "stream",
     "text": [
      "WARNING: Ignore distutils configs in setup.cfg due to encoding errors.\n",
      "  WARNING: Ignore distutils configs in setup.cfg due to encoding errors.\n",
      "  WARNING: Ignore distutils configs in setup.cfg due to encoding errors.\n",
      "  WARNING: Ignore distutils configs in setup.cfg due to encoding errors.\n",
      "  WARNING: Ignore distutils configs in setup.cfg due to encoding errors.\n",
      "  WARNING: Ignore distutils configs in setup.cfg due to encoding errors.\n",
      "  WARNING: Ignore distutils configs in setup.cfg due to encoding errors.\n",
      "  WARNING: Ignore distutils configs in setup.cfg due to encoding errors.\n",
      "WARNING: Ignore distutils configs in setup.cfg due to encoding errors.\n",
      "ERROR: pip's dependency resolver does not currently take into account all the packages that are installed. This behaviour is the source of the following dependency conflicts.\n",
      "tensorflow 2.3.0 requires gast==0.3.3, but you have gast 0.4.0 which is incompatible.\n",
      "tensorflow 2.3.0 requires numpy<1.19.0,>=1.16.0, but you have numpy 1.21.5 which is incompatible.\n",
      "tensorflow 2.3.0 requires scipy==1.4.1, but you have scipy 1.7.3 which is incompatible.\n",
      "tensorflow 2.3.0 requires tensorflow-estimator<2.4.0,>=2.3.0, but you have tensorflow-estimator 2.6.0 which is incompatible.\n"
     ]
    }
   ],
   "source": [
    "%cd ./yolov5/\n",
    "!pip install -r requirements.txt"
   ]
  },
  {
   "cell_type": "code",
   "execution_count": 3,
   "id": "8b4b7253",
   "metadata": {},
   "outputs": [
    {
     "data": {
      "text/plain": [
       "0"
      ]
     },
     "execution_count": 3,
     "metadata": {},
     "output_type": "execute_result"
    }
   ],
   "source": [
    "# txt 파일 열어서 label 값만 불러오기\n",
    "filepath = './runs/detect/exp5/labels/0_1.txt'\n",
    "f=open(filepath,'r')\n",
    "a = f.readlines()\n",
    "int(a[0][0])"
   ]
  },
  {
   "cell_type": "code",
   "execution_count": 12,
   "id": "43f60b4e",
   "metadata": {},
   "outputs": [
    {
     "name": "stdout",
     "output_type": "stream",
     "text": [
      "166\n",
      "<class 'int'>\n"
     ]
    }
   ],
   "source": [
    "# 폴더 내 파일 개수 불러오기\n",
    "import os\n",
    "\n",
    "list = os.listdir('./runs/detect/exp6/labels') # dir is your directory path\n",
    "number_files = len(list)\n",
    "print(number_files)\n",
    "print(type(number_files))"
   ]
  },
  {
   "cell_type": "code",
   "execution_count": 6,
   "id": "7d583ddb",
   "metadata": {},
   "outputs": [
    {
     "name": "stdout",
     "output_type": "stream",
     "text": [
      "0_693.txt\n"
     ]
    }
   ],
   "source": [
    "import natsort\n",
    "\n",
    "file_list_py = [file for file in list if file.endswith('.txt')] \n",
    "# print(len(file_list_py))\n",
    "order_file_list = natsort.natsorted(file_list_py)\n",
    "# print(order_file_list)\n",
    "print(order_file_list[480])"
   ]
  },
  {
   "cell_type": "code",
   "execution_count": 7,
   "id": "4cdb7103",
   "metadata": {},
   "outputs": [],
   "source": [
    "# label 파일들 번호 순서대로 정렬\n",
    "\n",
    "list = os.listdir('./runs/detect/exp6/labels')\n",
    "file_list_py = [file for file in list if file.endswith('.txt')] \n",
    "order_file_list = natsort.natsorted(file_list_py)\n",
    "number_files = len(order_file_list)\n",
    "\n",
    "t = open('c:/jupyter_home/yolov5/runs/detect/exp5/label_file.txt','w')\n",
    "\n",
    "# for i in range(20):\n",
    "#     filepath = './runs/detect/exp5/labels/0_'+str(i+1)+'.txt'\n",
    "#     f = open(filepath,'r')\n",
    "#     text = f.readlines()\n",
    "#     label = int(text[0][0])\n",
    "#     t.write(str(label)+'\\n')\n",
    "# t.close()"
   ]
  },
  {
   "cell_type": "code",
   "execution_count": 29,
   "id": "df5c10b0",
   "metadata": {},
   "outputs": [
    {
     "name": "stdout",
     "output_type": "stream",
     "text": [
      "693\n"
     ]
    }
   ],
   "source": [
    "# 마지막 파일이름에서 번호 추출하기\n",
    "from os import path\n",
    "\n",
    "last = order_file_list[480]\n",
    "last_name = os.path.splitext(last)\n",
    "num = last_name[0]\n",
    "\n",
    "n = num.split('_')\n",
    "last_num = n[1]\n",
    "print(last_num)\n",
    "num = int(last_num)"
   ]
  },
  {
   "cell_type": "code",
   "execution_count": 3,
   "id": "a18d028d",
   "metadata": {},
   "outputs": [
    {
     "name": "stdout",
     "output_type": "stream",
     "text": [
      "c:\\jupyter_home\\yolov5\n"
     ]
    }
   ],
   "source": [
    "cd ./yolov5"
   ]
  },
  {
   "cell_type": "code",
   "execution_count": null,
   "id": "c480e93e",
   "metadata": {},
   "outputs": [],
   "source": [
    "async def label_process():\n",
    "    \n",
    "    \n",
    "asyncio.run(label_process())"
   ]
  },
  {
   "cell_type": "code",
   "execution_count": 14,
   "id": "68e0a823",
   "metadata": {},
   "outputs": [],
   "source": [
    "######### label 처리하기###########\n",
    "\n",
    "from os import path\n",
    "import os\n",
    "import natsort\n",
    "\n",
    "# label 파일들 번호 순서대로 정렬\n",
    "list = os.listdir('./runs/detect/exp6/labels')\n",
    "file_list_py = [file for file in list if file.endswith('.txt')] \n",
    "order_file_list = natsort.natsorted(file_list_py)\n",
    "\n",
    "number_files = len(order_file_list)-1\n",
    "last = order_file_list[number_files]\n",
    "last_name = os.path.splitext(last)\n",
    "num = int(last_name[0])\n",
    "\n",
    "t = open('c:/jupyter_home/yolov5/runs/detect/exp6/label_file.txt','w')\n",
    "# a = num-1  # 예를 들어 15개면 0~14이니까 -1을 해줘야함\n",
    "for i in range(num-1):\n",
    "    filepath = './runs/detect/exp5/labels/0_'+str(i+1)+'.txt'\n",
    "    \n",
    "    if path.exists(filepath) is True :\n",
    "        f = open(filepath,'r')\n",
    "        text = f.redlines()\n",
    "        label = int(text[0][0])\n",
    "        t.write(str(label)+'\\n')\n",
    "    else:\n",
    "        pass\n",
    "\n",
    "t.close()"
   ]
  },
  {
   "cell_type": "code",
   "execution_count": null,
   "id": "3f3bf789",
   "metadata": {},
   "outputs": [],
   "source": []
  }
 ],
 "metadata": {
  "kernelspec": {
   "display_name": "Python [conda env:.conda-machine_TF2] *",
   "language": "python",
   "name": "conda-env-.conda-machine_TF2-py"
  },
  "language_info": {
   "codemirror_mode": {
    "name": "ipython",
    "version": 3
   },
   "file_extension": ".py",
   "mimetype": "text/x-python",
   "name": "python",
   "nbconvert_exporter": "python",
   "pygments_lexer": "ipython3",
   "version": "3.8.13"
  }
 },
 "nbformat": 4,
 "nbformat_minor": 5
}
