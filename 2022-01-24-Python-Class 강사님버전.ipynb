{
 "cells": [
  {
   "cell_type": "code",
   "execution_count": 1,
   "id": "cd8860c3",
   "metadata": {},
   "outputs": [],
   "source": [
    "# 자동차 class를 만들어 보아요!\n",
    "# (기본형태)\n",
    "class Car(object):\n",
    "    \n",
    "    # 모든 class안에는 특별한 형태의 함수를 사용할 수 있어요.\n",
    "    # __이름__()   => magic function\n",
    "    def __init__(self):\n",
    "        pass"
   ]
  },
  {
   "cell_type": "code",
   "execution_count": 6,
   "id": "b7b7b5d1",
   "metadata": {},
   "outputs": [],
   "source": [
    "# 자동차 class를 만들어 보아요!\n",
    "# property\n",
    "# 이걸 그림으로 그려보아요!\n",
    "\n",
    "class Car(object):\n",
    "    \n",
    "    # 모든 class안에는 특별한 형태의 함수를 사용할 수 있어요.\n",
    "    # __이름__()   => magic function\n",
    "    def __init__(self,car_number, car_price, car_speed):\n",
    "        self.car_number = car_number\n",
    "        self.car_price = car_price\n",
    "        self.car_speed = car_speed\n",
    "\n",
    "\n",
    "car1 = Car('123', 1000, 0)\n",
    "car2 = Car('456', 2000, 20)\n",
    "        \n",
    "# 이렇게 만들어지는 객체를 다른말로 \n",
    "# instance(class를 기반으로 생성된 메모리 공간)라고 해요!  \n",
    "# __init__() => instance를 초기화 해주는 역할을 수행하기 때문에\n",
    "#               initializer라고 하기도 해요!\n",
    "#               자동으로 호출(명시적 호출을 하지 않아요!)\n",
    "# property는 instance내에 생성되는 변수를 지칭"
   ]
  },
  {
   "cell_type": "code",
   "execution_count": 9,
   "id": "83831bac",
   "metadata": {},
   "outputs": [
    {
     "name": "stdout",
     "output_type": "stream",
     "text": [
      "123\n",
      "10\n"
     ]
    }
   ],
   "source": [
    "# 자동차 class를 만들어 보아요!\n",
    "# class안의 함수 => method\n",
    "\n",
    "class Car(object):\n",
    "    \n",
    "    def __init__(self,car_number, car_price, car_speed):\n",
    "        self.car_number = car_number\n",
    "        self.car_price = car_price\n",
    "        self.car_speed = car_speed\n",
    "    \n",
    "    # method\n",
    "    # 일반적으로 method는 property와 연계되요!(항상 그런건 아니예요!)\n",
    "    def go_front(self):\n",
    "        self.car_speed += 10\n",
    "    \n",
    "\n",
    "car1 = Car('123', 1000, 0)\n",
    "car2 = Car('456', 2000, 20)\n",
    "\n",
    "#  . (dot operator)를 이용해서 instance를 사용할 수 있어요!\n",
    "#  (instance를 지칭하는 reference).(instance가 가지고 있는 property)\n",
    "# 너무 길어요 => (instance).(property)\n",
    "#                (instance).(method) \n",
    "# instance가 있다는 얘기는 class가 존재한다는 의미.\n",
    "print(car1.car_number)  # '123'\n",
    "car1.go_front()   # car1의 속도가 10 증가\n",
    "print(car1.car_speed)  # 10"
   ]
  },
  {
   "cell_type": "code",
   "execution_count": null,
   "id": "06189187",
   "metadata": {},
   "outputs": [],
   "source": [
    "# class를 조금 다른 각도에서 생각해볼꺼예요!\n",
    "\n",
    "# 1. class는 객체 모델링의 수단.\n",
    "# 2. 여러 데이터 타입을 묶어서 하나의 새로운 데이터 타입으로 볼 수 있어요!\n",
    "#    ADT(Abstract Data Type)\n",
    "# 3. instance를 만들어내는 도구"
   ]
  },
  {
   "cell_type": "code",
   "execution_count": 11,
   "id": "feeef59f",
   "metadata": {},
   "outputs": [
    {
     "name": "stdout",
     "output_type": "stream",
     "text": [
      "123\n"
     ]
    }
   ],
   "source": [
    "# 자동차 class를 만들어 보아요!\n",
    "# magic function => __init__, __str__\n",
    "\n",
    "class Car(object):\n",
    "    \n",
    "    # initializer\n",
    "    def __init__(self,car_number, car_price, car_speed):\n",
    "        self.car_number = car_number\n",
    "        self.car_price = car_price\n",
    "        self.car_speed = car_speed\n",
    "    \n",
    "    def __str__(self):\n",
    "        return self.car_number\n",
    "    \n",
    "car1 = Car('123', 1000, 0)\n",
    "\n",
    "# print()는 인자로 들어온 parameter를 문자열로 변경해서 출력하는 함수\n",
    "# 만약 인자로 객체가 들어오고 해당 객체에 __str__이 존재하면 이 함수를\n",
    "# 호출해서 그 결과를 출력!\n",
    "\n",
    "print(car1)"
   ]
  },
  {
   "cell_type": "code",
   "execution_count": null,
   "id": "84657cdb",
   "metadata": {},
   "outputs": [],
   "source": [
    "# class안에서..\n",
    "# instance variable과 class variable\n",
    "# property는 instance variable과 class variable로 구분되요!\n",
    "# instance variable은 instance마다 각자 따로 가지고 있는 property를 지칭."
   ]
  },
  {
   "cell_type": "code",
   "execution_count": 14,
   "id": "bffca2ba",
   "metadata": {},
   "outputs": [
    {
     "name": "stdout",
     "output_type": "stream",
     "text": [
      "120\n",
      "120\n",
      "120\n"
     ]
    }
   ],
   "source": [
    "# 그림으로 살펴보아요!\n",
    "class Car(object):\n",
    "    \n",
    "    is_speeding = 120    # class variable\n",
    "    \n",
    "    # initializer\n",
    "    def __init__(self,car_number, car_price, car_speed):\n",
    "        self.car_number = car_number   # instance variable\n",
    "        self.car_price = car_price     # instance variable \n",
    "        self.car_speed = car_speed\n",
    "    \n",
    "    def __str__(self):\n",
    "        return self.car_number\n",
    "    \n",
    "car1 = Car('123', 1000, 0)\n",
    "car2 = Car('456', 2000, 10)\n",
    "\n",
    "# class variable은 class이름으로 사용할 수 있네요~\n",
    "# (instance or class).(property)\n",
    "print(Car.is_speeding)  # 120\n",
    "print(car1.is_speeding) # 120  \n",
    "# instance namespace에서 못찾으면 class namespace에 가서 찾아요.\n",
    "print(car2.is_speeding) # 120  \n"
   ]
  },
  {
   "cell_type": "code",
   "execution_count": 20,
   "id": "35b85ae6",
   "metadata": {
    "scrolled": true
   },
   "outputs": [
    {
     "name": "stdout",
     "output_type": "stream",
     "text": [
      "120\n",
      "120\n",
      "120\n",
      "정상속도예요!\n",
      "120\n"
     ]
    }
   ],
   "source": [
    "# 그림으로 살펴보아요!\n",
    "# 여기에 method도 포함해 보아요!\n",
    "\n",
    "class Car(object):\n",
    "    \n",
    "    is_speeding = 120    # class variable(과속기준속도)\n",
    "    \n",
    "    # initializer\n",
    "    def __init__(self,car_number, car_price, car_speed):\n",
    "        self.car_number = car_number   # instance variable\n",
    "        self.car_price = car_price     # instance variable \n",
    "        self.car_speed = car_speed\n",
    "    \n",
    "    def __str__(self):\n",
    "        return self.car_number\n",
    "    \n",
    "    def find_speeding(self):\n",
    "        if self.car_speed > self.is_speeding:\n",
    "            return '과속이예요!'\n",
    "        else:\n",
    "            return '정상속도예요!'\n",
    "        \n",
    "    \n",
    "car1 = Car('123', 1000, 0)\n",
    "car2 = Car('456', 2000, 10)\n",
    "\n",
    "# class variable은 class이름으로 사용할 수 있네요~\n",
    "# (instance or class).(property)\n",
    "print(Car.is_speeding)  # 120\n",
    "print(car1.is_speeding) # 120  \n",
    "# instance namespace에서 못찾으면 class namespace에 가서 찾아요.\n",
    "print(car2.is_speeding) # 120  \n",
    "\n",
    "print(car1.find_speeding())  # 정상속도예요!\n",
    "\n",
    "# Car.is_speeding = 100 # class를 이용해서 class variable의 값을 수정\n",
    "# print(Car.is_speeding) # 100\n",
    "# print(car1.is_speeding) # 100\n",
    "\n",
    "car1.is_speeding = 100 # instance를 이용해서 class variable의 값을 수정\n",
    "print(Car.is_speeding) # 120(????)\n",
    "# python은 만약 instance variable이 없으면 생성해요!"
   ]
  },
  {
   "cell_type": "code",
   "execution_count": null,
   "id": "c9d6addf",
   "metadata": {},
   "outputs": [],
   "source": [
    "# 이렇게 class를 만들어서 객체모델링을 하거나, \n",
    "# 새로운 데이터 타입을 만들어서 사용할 수 있어요!\n",
    "\n",
    "# class의 활용을 높이기 위해서(재사용성을 높이기 위해)\n",
    "# 하나의 class의 성질을 그대로 이용해서 다른 class를 확장시켜서\n",
    "# 만들 수 있어요!"
   ]
  },
  {
   "cell_type": "code",
   "execution_count": 25,
   "id": "bb2e6e84",
   "metadata": {},
   "outputs": [
    {
     "name": "stdout",
     "output_type": "stream",
     "text": [
      "생명력 : 100\n",
      "생명력 : 200\n"
     ]
    }
   ],
   "source": [
    "# 사용자가 만드는 모든 class는 object라는 이름의 class를 상속하고 \n",
    "# 있어요!\n",
    "# Unit class는 스타크래프트 모든 unit의 상위 클래스\n",
    "\n",
    "class Unit(object):\n",
    "    \n",
    "    def __init__(self,life):\n",
    "        self.life = life\n",
    "        \n",
    "    def show_status(self):\n",
    "        print('생명력 : {}'.format(self.life))\n",
    "    \n",
    "unit1 = Unit(100)\n",
    "unit1.show_status()   # 생명력 : 100\n",
    "\n",
    "\n",
    "class Marine(Unit):\n",
    "    pass\n",
    "\n",
    "marine1 = Marine(200)\n",
    "marine1.show_status()  # 생명력 : 200"
   ]
  },
  {
   "cell_type": "code",
   "execution_count": null,
   "id": "86c33984",
   "metadata": {},
   "outputs": [],
   "source": [
    "# 사용자가 만드는 모든 class는 object라는 이름의 class를 상속하고 \n",
    "# 있어요!\n",
    "\n",
    "class Unit(object):\n",
    "    \n",
    "    def __init__(self,life):\n",
    "        self.life = life\n",
    "        \n",
    "    def show_status(self):\n",
    "        print('생명력 : {}'.format(self.life))\n",
    "    \n",
    "unit1 = Unit(100)\n",
    "unit1.show_status()   # 생명력 : 100\n",
    "\n",
    "class Marine(object):\n",
    "\n",
    "    def __init__(self,life, damage):\n",
    "        self.life = life\n",
    "        self.damage = damage\n",
    "        \n",
    "    def show_status(self):\n",
    "        print('생명력 : {}'.format(self.life))\n",
    "        print('공격력 : {}'.format(self.damage))\n",
    "        \n",
    "# 이렇게 따로 만들어서 사용하는 것 보다는\n",
    "# 상속관계를 이용해서 구현하는게 좋아요!\n",
    "        "
   ]
  },
  {
   "cell_type": "code",
   "execution_count": 26,
   "id": "2bf46d31",
   "metadata": {},
   "outputs": [
    {
     "name": "stdout",
     "output_type": "stream",
     "text": [
      "생명력 : 100\n",
      "공격력 : 200\n"
     ]
    }
   ],
   "source": [
    "# 상속을 이용해 보아요!\n",
    "\n",
    "class Unit(object):\n",
    "    \n",
    "    def __init__(self,life):\n",
    "        self.life = life\n",
    "        \n",
    "    def show_status(self):\n",
    "        print('생명력 : {}'.format(self.life))\n",
    "    \n",
    "class Marine(Unit):\n",
    "\n",
    "    def __init__(self,life, damage):\n",
    "        # 상위class의 __init__를 호출\n",
    "        super(Marine, self).__init__(life)\n",
    "        self.damage = damage\n",
    "        \n",
    "    def show_status(self):\n",
    "        super(Marine, self).show_status()\n",
    "        print('공격력 : {}'.format(self.damage))\n",
    "        \n",
    "marine1 = Marine(100,200)\n",
    "marine1.show_status()\n",
    "        "
   ]
  },
  {
   "cell_type": "code",
   "execution_count": null,
   "id": "24ad257a",
   "metadata": {},
   "outputs": [],
   "source": [
    "# Python\n",
    "# 1. Data Type(built-in Data Type)\n",
    "# 2. control statement(제어문)\n",
    "# 3. function(함수)\n",
    "# 4. class(클래스와 instance)\n",
    "# 기타등등(python언어의 여러가지 특징들..구문들..) => 나중에 추가적 학습.\n",
    "# 5. module(아주 쉽게 생각하면 programming API)\n",
    "#    어떤 API를 이용하면 어떤 작업을 수행할 수 있나요?\n"
   ]
  },
  {
   "cell_type": "code",
   "execution_count": null,
   "id": "1457a121",
   "metadata": {},
   "outputs": [],
   "source": [
    "# module은 내가 만들 수 도 있고 다른 사람이 만든 모듈을 \n",
    "# 사용할 수도 있어요!\n",
    "\n",
    "# module : 함수나 변수, class를 모아놓은 파일을 지칭!(확장자가 .py로 끝나는)\n",
    "# 그럼 왜 이렇게 module을 만드나요? => 다른 파일에서 사용하기 위해.\n",
    "\n",
    "# module을 이용하기 위해서는 몇가지 방법이 존재.\n",
    "# 가장 쉬운방법\n",
    "# 특정폴더를 module 폴더로 지정.(환경변수 설정을 통해.)\n",
    "# 그리고 그 안에 python module(파일)을 생성. => my_module.py"
   ]
  },
  {
   "cell_type": "code",
   "execution_count": 6,
   "id": "18dd45de",
   "metadata": {
    "scrolled": true
   },
   "outputs": [
    {
     "name": "stdout",
     "output_type": "stream",
     "text": [
      "3.141592\n",
      "30\n"
     ]
    }
   ],
   "source": [
    "# module을 불러들여 보아요!\n",
    "# module을 불려들이기 위해 import라는 keyword를 사용\n",
    "# 모듈의 이름만(확장자 .py는 제외)\n",
    "import my_module\n",
    "\n",
    "# module은 객체.\n",
    "print(my_module.my_var)   # 3.141592\n",
    "print(my_module.my_func(10,20))   # 30\n"
   ]
  },
  {
   "cell_type": "code",
   "execution_count": 7,
   "id": "f6a79072",
   "metadata": {},
   "outputs": [
    {
     "name": "stdout",
     "output_type": "stream",
     "text": [
      "3.141592\n",
      "30\n"
     ]
    }
   ],
   "source": [
    "# as : alias(별칭)\n",
    "import my_module as m\n",
    "\n",
    "# module은 객체.\n",
    "print(m.my_var)   # 3.141592\n",
    "print(m.my_func(10,20))   # 30"
   ]
  },
  {
   "cell_type": "code",
   "execution_count": 8,
   "id": "1db4efb0",
   "metadata": {},
   "outputs": [
    {
     "name": "stdout",
     "output_type": "stream",
     "text": [
      "3.141592\n"
     ]
    }
   ],
   "source": [
    "from my_module import my_var\n",
    "\n",
    "print(my_var)"
   ]
  },
  {
   "cell_type": "code",
   "execution_count": 9,
   "id": "04e8044e",
   "metadata": {},
   "outputs": [
    {
     "name": "stdout",
     "output_type": "stream",
     "text": [
      "3.141592\n",
      "300\n"
     ]
    }
   ],
   "source": [
    "from my_module import *\n",
    "\n",
    "print(my_var)\n",
    "print(my_func(100,200))"
   ]
  },
  {
   "cell_type": "code",
   "execution_count": 11,
   "id": "f02120a7",
   "metadata": {},
   "outputs": [
    {
     "name": "stdout",
     "output_type": "stream",
     "text": [
      "1000\n"
     ]
    }
   ],
   "source": [
    "import folderA.folderB.module2\n",
    "\n",
    "print(folderA.folderB.module2.module2_var)   # 1000"
   ]
  },
  {
   "cell_type": "code",
   "execution_count": 12,
   "id": "0a8ed453",
   "metadata": {},
   "outputs": [
    {
     "name": "stdout",
     "output_type": "stream",
     "text": [
      "1000\n"
     ]
    }
   ],
   "source": [
    "import folderA.folderB.module2 as m2\n",
    "\n",
    "print(m2.module2_var)   # 1000"
   ]
  },
  {
   "cell_type": "code",
   "execution_count": 13,
   "id": "94ff2aed",
   "metadata": {},
   "outputs": [
    {
     "name": "stdout",
     "output_type": "stream",
     "text": [
      "1000\n"
     ]
    }
   ],
   "source": [
    "from folderA.folderB import module2\n",
    "\n",
    "print(module2.module2_var)"
   ]
  }
 ],
 "metadata": {
  "kernelspec": {
   "display_name": "Python [conda env:data_env] *",
   "language": "python",
   "name": "conda-env-data_env-py"
  },
  "language_info": {
   "codemirror_mode": {
    "name": "ipython",
    "version": 3
   },
   "file_extension": ".py",
   "mimetype": "text/x-python",
   "name": "python",
   "nbconvert_exporter": "python",
   "pygments_lexer": "ipython3",
   "version": "3.8.12"
  }
 },
 "nbformat": 4,
 "nbformat_minor": 5
}
