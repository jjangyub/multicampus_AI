{
 "cells": [
  {
   "cell_type": "code",
   "execution_count": 5,
   "id": "725c5acf",
   "metadata": {},
   "outputs": [
    {
     "name": "stderr",
     "output_type": "stream",
     "text": [
      "C:\\Users\\yeop\\.conda\\envs\\machine_TF15\\lib\\site-packages\\ipykernel_launcher.py:19: DeprecationWarning: `np.float` is a deprecated alias for the builtin `float`. To silence this warning, use `float` by itself. Doing this will not modify any behavior and is safe. If you specifically wanted the numpy scalar type, use `np.float64` here.\n",
      "Deprecated in NumPy 1.20; for more details and guidance: https://numpy.org/devdocs/release/1.20.0-notes.html#deprecations\n"
     ]
    },
    {
     "name": "stdout",
     "output_type": "stream",
     "text": [
      "loss value : 0.7525795698165894\n",
      "loss value : 0.6937031149864197\n",
      "loss value : 0.6931614279747009\n",
      "loss value : 0.693147599697113\n",
      "loss value : 0.6931471824645996\n",
      "loss value : 0.6931471824645996\n",
      "loss value : 0.6931471824645996\n",
      "loss value : 0.6931471824645996\n",
      "loss value : 0.6931471824645996\n",
      "loss value : 0.6931471824645996\n"
     ]
    }
   ],
   "source": [
    "# Logistic Regression으로 GATE연산을 학습할 수 있는지 확인!\n",
    "import numpy as np\n",
    "import tensorflow as tf\n",
    "from sklearn.metrics import classification_report\n",
    "\n",
    "# training data set\n",
    "x_data = np.array([[0,0],\n",
    "                  [0,1],\n",
    "                  [1,0],\n",
    "                  [1,1]], dtype=np.float64)\n",
    "\n",
    "# AND GATE 연산에 대한 t_data\n",
    "# t_data = np.array([0,0,0,1],dtype=np.float)\n",
    "\n",
    "# OR GATE 연산에 대한 t_data\n",
    "#t_data = np.array([0,1,1,1],dtype=np.float)\n",
    "\n",
    "# XOR GATE 연산에 대한 t_data\n",
    "t_data = np.array([0,1,1,0],dtype=np.float)\n",
    "\n",
    "# placeholder\n",
    "X = tf.placeholder(shape=[None,2],dtype=tf.float32)\n",
    "T= tf.placeholder(shape=[None,1],dtype=tf.float32)\n",
    "\n",
    "# Weight & bias\n",
    "W = tf.Variable(tf.random.normal([2,1]))\n",
    "b = tf.Variable(tf.random.normal([1]))\n",
    "\n",
    "# Hypothesis, model\n",
    "logit = tf.matmul(X,W) + b\n",
    "H = tf.sigmoid(logit)\n",
    "\n",
    "# loss function\n",
    "loss = tf.reduce_mean(tf.nn.sigmoid_cross_entropy_with_logits(logits=logit,\n",
    "                                                              labels=T))\n",
    "\n",
    "# train\n",
    "train = tf.train.GradientDescentOptimizer(learning_rate=1e-2).minimize(loss)\n",
    "\n",
    "# session, 초기화\n",
    "sess = tf.Session()\n",
    "sess.run(tf.global_variables_initializer())\n",
    "\n",
    "# 반복학습\n",
    "for step in range(30000):\n",
    "    _, loss_val = sess.run([train,loss],\n",
    "                           feed_dict = {X:x_data,\n",
    "                                        T:t_data.reshape(-1,1)})\n",
    "    if step % 3000 == 0:\n",
    "        print('loss value : {}'.format(loss_val))\n",
    "                                    "
   ]
  },
  {
   "cell_type": "code",
   "execution_count": 6,
   "id": "7ac71e21",
   "metadata": {},
   "outputs": [
    {
     "name": "stdout",
     "output_type": "stream",
     "text": [
      "[[0.]\n",
      " [0.]\n",
      " [0.]\n",
      " [1.]]\n",
      "              precision    recall  f1-score   support\n",
      "\n",
      "         0.0       0.33      0.50      0.40         2\n",
      "         1.0       0.00      0.00      0.00         2\n",
      "\n",
      "    accuracy                           0.25         4\n",
      "   macro avg       0.17      0.25      0.20         4\n",
      "weighted avg       0.17      0.25      0.20         4\n",
      "\n"
     ]
    }
   ],
   "source": [
    "# evaluation (모델평가)\n",
    "predict = tf.cast(H>=0.5, dtype=tf.float32)\n",
    "predict_val = sess.run(predict, feed_dict={X:x_data})\n",
    "print(predict_val)\n",
    "\n",
    "# print(classification_report(정답데이터(1차원), 예측데이터(1차원)))\n",
    "print(classification_report(t_data, predict_val.ravel()))\n",
    "# 결과를 확인해서 logistic regression이 진리표를 학습할 수 있는지를 확인!"
   ]
  },
  {
   "cell_type": "code",
   "execution_count": 7,
   "id": "02b10398",
   "metadata": {},
   "outputs": [
    {
     "name": "stderr",
     "output_type": "stream",
     "text": [
      "C:\\Users\\yeop\\.conda\\envs\\machine_TF15\\lib\\site-packages\\ipykernel_launcher.py:19: DeprecationWarning: `np.float` is a deprecated alias for the builtin `float`. To silence this warning, use `float` by itself. Doing this will not modify any behavior and is safe. If you specifically wanted the numpy scalar type, use `np.float64` here.\n",
      "Deprecated in NumPy 1.20; for more details and guidance: https://numpy.org/devdocs/release/1.20.0-notes.html#deprecations\n"
     ]
    },
    {
     "name": "stdout",
     "output_type": "stream",
     "text": [
      "loss value : 1.2846949100494385\n",
      "loss value : 0.6577926874160767\n",
      "loss value : 0.6238183975219727\n",
      "loss value : 0.566399335861206\n",
      "loss value : 0.46316760778427124\n",
      "loss value : 0.30551207065582275\n",
      "loss value : 0.16862384974956512\n",
      "loss value : 0.09720244258642197\n",
      "loss value : 0.06295739114284515\n",
      "loss value : 0.04483341425657272\n"
     ]
    }
   ],
   "source": [
    "# Logistic Regression으로 GATE연산을 학습할 수 있는지 확인!\n",
    "import numpy as np\n",
    "import tensorflow as tf\n",
    "from sklearn.metrics import classification_report\n",
    "\n",
    "# training data set\n",
    "x_data = np.array([[0,0],\n",
    "                  [0,1],\n",
    "                  [1,0],\n",
    "                  [1,1]], dtype=np.float64)\n",
    "\n",
    "# AND GATE 연산에 대한 t_data\n",
    "# t_data = np.array([0,0,0,1],dtype=np.float)\n",
    "\n",
    "# OR GATE 연산에 대한 t_data\n",
    "#t_data = np.array([0,1,1,1],dtype=np.float)\n",
    "\n",
    "# XOR GATE 연산에 대한 t_data\n",
    "t_data = np.array([0,1,1,0],dtype=np.float)\n",
    "\n",
    "# placeholder\n",
    "X = tf.placeholder(shape=[None,2],dtype=tf.float32)\n",
    "T= tf.placeholder(shape=[None,1],dtype=tf.float32)\n",
    "\n",
    "# Weight & bias\n",
    "W2 = tf.Variable(tf.random.normal([2,10]))\n",
    "b2 = tf.Variable(tf.random.normal([10]))\n",
    "layer2 = tf.sigmoid(tf.matmul(X,W2)+b2)\n",
    "\n",
    "W3 = tf.Variable(tf.random.normal([10,6]))\n",
    "b3 = tf.Variable(tf.random.normal([6]))\n",
    "layer3 = tf.sigmoid(tf.matmul(layer2,W3)+b3)\n",
    "\n",
    "W4 = tf.Variable(tf.random.normal([6,1]))\n",
    "b4 = tf.Variable(tf.random.normal([1]))\n",
    "\n",
    "\n",
    "# Hypothesis, model\n",
    "logit = tf.matmul(layer3,W4) + b4\n",
    "H = tf.sigmoid(logit)\n",
    "\n",
    "# loss function\n",
    "loss = tf.reduce_mean(tf.nn.sigmoid_cross_entropy_with_logits(logits=logit,\n",
    "                                                              labels=T))\n",
    "\n",
    "# train\n",
    "train = tf.train.GradientDescentOptimizer(learning_rate=1e-2).minimize(loss)\n",
    "\n",
    "# session, 초기화\n",
    "sess = tf.Session()\n",
    "sess.run(tf.global_variables_initializer())\n",
    "\n",
    "# 반복학습\n",
    "for step in range(30000):\n",
    "    _, loss_val = sess.run([train,loss],\n",
    "                           feed_dict = {X:x_data,\n",
    "                                        T:t_data.reshape(-1,1)})\n",
    "    if step % 3000 == 0:\n",
    "        print('loss value : {}'.format(loss_val))\n",
    "                                    "
   ]
  },
  {
   "cell_type": "code",
   "execution_count": 8,
   "id": "6b02f93b",
   "metadata": {},
   "outputs": [
    {
     "name": "stdout",
     "output_type": "stream",
     "text": [
      "[[0.]\n",
      " [1.]\n",
      " [1.]\n",
      " [0.]]\n",
      "              precision    recall  f1-score   support\n",
      "\n",
      "         0.0       1.00      1.00      1.00         2\n",
      "         1.0       1.00      1.00      1.00         2\n",
      "\n",
      "    accuracy                           1.00         4\n",
      "   macro avg       1.00      1.00      1.00         4\n",
      "weighted avg       1.00      1.00      1.00         4\n",
      "\n"
     ]
    }
   ],
   "source": [
    "# evaluation (모델평가)\n",
    "predict = tf.cast(H>=0.5, dtype=tf.float32)\n",
    "predict_val = sess.run(predict, feed_dict={X:x_data})\n",
    "print(predict_val)\n",
    "\n",
    "# print(classification_report(정답데이터(1차원), 예측데이터(1차원)))\n",
    "print(classification_report(t_data, predict_val.ravel()))\n",
    "# 결과를 확인해서 logistic regression이 진리표를 학습할 수 있는지를 확인!"
   ]
  },
  {
   "cell_type": "code",
   "execution_count": 4,
   "id": "c47b9f69",
   "metadata": {},
   "outputs": [
    {
     "name": "stderr",
     "output_type": "stream",
     "text": [
      "C:\\Users\\yeop\\AppData\\Local\\Temp\\ipykernel_25904\\4159915725.py:17: DeprecationWarning: `np.float` is a deprecated alias for the builtin `float`. To silence this warning, use `float` by itself. Doing this will not modify any behavior and is safe. If you specifically wanted the numpy scalar type, use `np.float64` here.\n",
      "Deprecated in NumPy 1.20; for more details and guidance: https://numpy.org/devdocs/release/1.20.0-notes.html#deprecations\n",
      "  t_data = np.array([0,1,1,0],dtype=np.float)\n"
     ]
    },
    {
     "data": {
      "text/plain": [
       "<tensorflow.python.keras.callbacks.History at 0x19cd96046a0>"
      ]
     },
     "execution_count": 4,
     "metadata": {},
     "output_type": "execute_result"
    }
   ],
   "source": [
    "# tensorflow 2.x 버전으로 구현해보자\n",
    "\n",
    "import numpy as np\n",
    "import tensorflow as tf\n",
    "from tensorflow.keras.models import Sequential\n",
    "from tensorflow.keras.layers import Flatten,Dense\n",
    "from tensorflow.keras.optimizers import SGD\n",
    "from sklearn.metrics import classification_report\n",
    "\n",
    "# training data set\n",
    "x_data = np.array([[0,0],\n",
    "                  [0,1],\n",
    "                  [1,0],\n",
    "                  [1,1]], dtype=np.float64)\n",
    "\n",
    "# XOR GATE 연산에 대한 t_data\n",
    "t_data = np.array([0,1,1,0],dtype=np.float)\n",
    "\n",
    "# tensorflow 구현\n",
    "model = Sequential()\n",
    "\n",
    "model.add(Flatten(input_shape=(2,)))\n",
    "model.add(Dense(units=128,\n",
    "                activation='sigmoid'))  # 1번째 hidden layer\n",
    "model.add(Dense(units=32,\n",
    "                activation='sigmoid'))  # 2번째 hidden layer\n",
    "model.add(Dense(units=16,\n",
    "                activation='sigmoid'))  # 3번째 hidden layer\n",
    "model.add(Dense(units=1,\n",
    "                activation='sigmoid'))  # output layer\n",
    "\n",
    "model.compile(optimizer=SGD(learning_rate=1e-4),\n",
    "              loss='binary_crossentropy')\n",
    "\n",
    "model.fit(x_data,\n",
    "          t_data.reshape(-1,1),\n",
    "          epochs=30000,\n",
    "          verbose=0)"
   ]
  },
  {
   "cell_type": "code",
   "execution_count": 5,
   "id": "d2195875",
   "metadata": {},
   "outputs": [
    {
     "name": "stdout",
     "output_type": "stream",
     "text": [
      "              precision    recall  f1-score   support\n",
      "\n",
      "         0.0       0.50      0.50      0.50         2\n",
      "         1.0       0.50      0.50      0.50         2\n",
      "\n",
      "    accuracy                           0.50         4\n",
      "   macro avg       0.50      0.50      0.50         4\n",
      "weighted avg       0.50      0.50      0.50         4\n",
      "\n"
     ]
    }
   ],
   "source": [
    "# evaluation (모델평가)\n",
    "predict_val = model.predict(x_data)\n",
    "predict_val = (tf.cast(predict_val > 0.5, dtype=tf.float32)).numpy().ravel()\n",
    "print(classification_report(t_data,predict_val))\n",
    "\n",
    "# print(classification_report(정답데이터(1차원), 예측데이터(1차원)))\n",
    "# print(classification_report(t_data, predict_val.ravel()))\n",
    "# 결과를 확인해서 logistic regression이 진리표를 학습할 수 있는지를 확인!"
   ]
  },
  {
   "cell_type": "code",
   "execution_count": 8,
   "id": "19c10262",
   "metadata": {},
   "outputs": [
    {
     "name": "stdout",
     "output_type": "stream",
     "text": [
      "(4,)\n"
     ]
    }
   ],
   "source": [
    "import numpy as np\n",
    "list = [1,2,3,4]\n",
    "arr = np.array(list)\n",
    "print(arr.shape)"
   ]
  },
  {
   "cell_type": "code",
   "execution_count": null,
   "id": "cd8e669d",
   "metadata": {},
   "outputs": [],
   "source": []
  }
 ],
 "metadata": {
  "kernelspec": {
   "display_name": "Python [conda env:.conda-machine_TF2]",
   "language": "python",
   "name": "conda-env-.conda-machine_TF2-py"
  },
  "language_info": {
   "codemirror_mode": {
    "name": "ipython",
    "version": 3
   },
   "file_extension": ".py",
   "mimetype": "text/x-python",
   "name": "python",
   "nbconvert_exporter": "python",
   "pygments_lexer": "ipython3",
   "version": "3.8.13"
  }
 },
 "nbformat": 4,
 "nbformat_minor": 5
}
