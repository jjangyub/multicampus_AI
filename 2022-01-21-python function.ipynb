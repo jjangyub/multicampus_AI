{
 "cells": [
  {
   "cell_type": "code",
   "execution_count": 1,
   "id": "416551a0",
   "metadata": {},
   "outputs": [],
   "source": [
    "# fuction\n",
    "# 자주 사용되는 기능을 하나의 코드블럭(함수)으로 작성한 후\n",
    "# 함수이름으로 호출해서 기능을 사용"
   ]
  },
  {
   "cell_type": "code",
   "execution_count": 2,
   "id": "1bddf0dd",
   "metadata": {},
   "outputs": [],
   "source": [
    "# python의 함수(function)\n",
    "\n",
    "# 1. 내장함수 : python이 이미 가지고 있는 함수\n",
    "#               print(), type(), id(), len(), ....\n",
    "#               많이 알수록 프로그램에 도움이 되요!\n",
    "# 2. 사용자 정의 함수\n",
    "#         직접 함수를 만들어서 사용하는 방법"
   ]
  },
  {
   "cell_type": "code",
   "execution_count": 5,
   "id": "b6eabb05",
   "metadata": {},
   "outputs": [
    {
     "name": "stdout",
     "output_type": "stream",
     "text": [
      "30\n",
      "<class 'function'>\n",
      "<function my_sum at 0x00000263611D3A60>\n",
      "300\n"
     ]
    }
   ],
   "source": [
    "# 함수를 만들때는 특수한 키워드 이용 -> def\n",
    "# 식별자 : 변수명, 함수명 ....\n",
    "# 함수명을 정할 때 변수명을 정할 때와 비슷한 규칙이 적용\n",
    "# 키워드X, 한글X, 숫자로 시작X, 여러 단어로 되어있는 함수 -> _\n",
    "# 일반적으로 소문자로 만듦\n",
    "# 일반적으로 단일 단어로 되어 있는 함수는 사용하지 않아요!\n",
    "# 함수는 인자라는걸 받아들여요!\n",
    "# return은 함수를 호출한 곳으로 결과값을 전달하는 역할, 그리고 함수호출을 종료하는 역할\n",
    "\n",
    "def my_sum(a, b):\n",
    "    result = a + b\n",
    "    return result\n",
    "\n",
    "# 이렇게 만든 함수 호출\n",
    "aa = my_sum(10, 20)\n",
    "print(aa)\n",
    "\n",
    "print(type(my_sum))\n",
    "print(my_sum) # my_sum의 주소값을 보여줌\n",
    "print(my_sum(100,200))  #()의 의미는 변수가 가리키는 함수객체의 코드를 실행!"
   ]
  },
  {
   "cell_type": "code",
   "execution_count": 7,
   "id": "0aea8239",
   "metadata": {},
   "outputs": [
    {
     "name": "stdout",
     "output_type": "stream",
     "text": [
      "210\n"
     ]
    }
   ],
   "source": [
    "# 사용자 정의 함수의 여러가지 형태(특징)\n",
    "# 만약 인자의 개수에 상관없이 함수를 사용하려면 어떻게 해야하나?\n",
    "# 이게 가능한가? -> 가능\n",
    "\n",
    "# *args -> 함수로 전달되는 인자를 tuple로 받음!\n",
    "# args -> (10, 20, 30, 40)\n",
    "\n",
    "def my_sum(*args):\n",
    "    result = 0\n",
    "    for tmp in args:\n",
    "        result +=tmp\n",
    "    return result\n",
    "\n",
    "print(my_sum(10, 20, 30, 40, 50, 60))"
   ]
  },
  {
   "cell_type": "code",
   "execution_count": 17,
   "id": "d1d04453",
   "metadata": {},
   "outputs": [
    {
     "name": "stdout",
     "output_type": "stream",
     "text": [
      "30 200\n"
     ]
    }
   ],
   "source": [
    "# python의 함수는 여러개의 값을 리턴할 수 있어요! (X)\n",
    "# 프로그래밍 언어의 함수는 무조건 1개의 값만 return\n",
    "# tuple은 괄호를 생략할 수 있음!\n",
    "\n",
    "def my_sum(a, b):\n",
    "    result1 = a + b\n",
    "    result2 = a * b\n",
    "    return result1, result2  # 변수 2개를 리턴하는게 아니고 tuple로 리턴하는 것임\n",
    "\n",
    "aa, bb = my_sum(10, 20)\n",
    "print(aa,bb)"
   ]
  },
  {
   "cell_type": "code",
   "execution_count": 18,
   "id": "b5518127",
   "metadata": {},
   "outputs": [
    {
     "name": "stdout",
     "output_type": "stream",
     "text": [
      "103\n"
     ]
    }
   ],
   "source": [
    "# default parameter\n",
    "# default parameter는 반드시 맨 마지막 parameter에만 나올 수 있어요!\n",
    "# default parameter는 함수를 호출할 때 인자를 사용해도 되고 사용하지\n",
    "# 않아도 되요!\n",
    "\n",
    "def my_sum(a, b, c=100):\n",
    "    return a + b + c\n",
    "\n",
    "print(my_sum(1, 2))\n",
    "print(my_sum(1, 2, 3))"
   ]
  },
  {
   "cell_type": "code",
   "execution_count": 22,
   "id": "5c4a4f12",
   "metadata": {},
   "outputs": [
    {
     "name": "stdout",
     "output_type": "stream",
     "text": [
      "10 [10]\n",
      "10 [10, 100]\n"
     ]
    }
   ],
   "source": [
    "# mutable(가변의) vs immutable(불변의)\n",
    "# immutable -> call-by-value\n",
    "# mutable -> call-by-reference\n",
    "\n",
    "def my_sum(tmp_number, tmp_list):\n",
    "    tmp_number += 100\n",
    "    tmp_list.append(100)\n",
    "\n",
    "data_x = 10\n",
    "data_list = [10]\n",
    "\n",
    "print(data_x, data_list)\n",
    "\n",
    "my_sum(data_x, data_list)  # tmp_number는 복사본을 가리키고, tmp_list는 원본을 가리킴\n",
    "                           # 숫자와 문자열은 immutable, dict와 list는 mutable\n",
    "print(data_x, data_list)"
   ]
  },
  {
   "cell_type": "code",
   "execution_count": 25,
   "id": "dffc35a6",
   "metadata": {},
   "outputs": [
    {
     "name": "stdout",
     "output_type": "stream",
     "text": [
      "110\n",
      "300\n"
     ]
    }
   ],
   "source": [
    "# local variable & global variable\n",
    "# scope (식별자를 찾을 수 있는 영역)\n",
    "\n",
    "tmp = 100  # memory영역에 존재\n",
    "def my_func(x):\n",
    "    global tmp   # 이걸 써야 외부에서 tmp를 찾을 수 있음 \n",
    "    tmp = tmp + x   # tmp를 찾을 수 없어요. tmp 값이 없기 때문에 누적할 수 없음\n",
    "    return tmp\n",
    "\n",
    "print(my_func(10))\n",
    "\n",
    "# 이렇게 global keyword를 사용하면 외부 영역에 있는 변수를 사용할 수 있음\n",
    "# 이게 좋은 방법인가? 안좋은 방법임"
   ]
  },
  {
   "cell_type": "code",
   "execution_count": 26,
   "id": "f55547b4",
   "metadata": {},
   "outputs": [],
   "source": [
    "# python 객체지향\n",
    "# class가 뭔가요? --> 객체 모델링의 수단"
   ]
  },
  {
   "cell_type": "code",
   "execution_count": 27,
   "id": "baa9085f",
   "metadata": {},
   "outputs": [],
   "source": [
    "# 3명의 학생 정보(이름, 학과, 학번, 성적)를 프로그램적으로 저장\n",
    "\n",
    "student1_name = '여비'\n",
    "student1_dept = '소융'\n",
    "student1_number = 'b989050'\n",
    "student1_grade = 3\n",
    "\n",
    "student2_name = '예리니'\n",
    "student2_dept = '건축'\n",
    "student2_number = 'b989035'\n",
    "student2_grade = 4\n",
    "\n",
    "student3_name = '갱'\n",
    "student3_dept = '전자'\n",
    "student3_number = 'b989012'\n",
    "student3_grade = 2\n",
    "\n",
    "###################\n",
    "student_name = ['여비','예리니','갱']\n",
    "student_dept = ['소융','건축','전자']\n",
    "student_number = ['b989050','b989035','b989012']\n",
    "student_grade = [3, 4, 2]\n",
    "##################\n",
    "\n",
    "# user define class의 이름은 관용적으로 대문자로 시작\n",
    "class Student(object):\n",
    "    # 특별한 함수를 하나 정의하겠음! 이름이 정해져 있음\n",
    "    # self에는 현재 만들어진 객체의 주소값이 들어감, 자동으로 들어감\n",
    "    def __init__(self, stu_name, stu_dept, stu_number, stu_grade):\n",
    "        self.student_name = stu_name\n",
    "        self.student_dept = stu_dept\n",
    "        self.student_number = stu_number\n",
    "        self.student_grage = stu_grade\n",
    "    \n",
    "stu1 = Student('여비','소융','b989050', 3)\n",
    "stu2 = Student('예리니','건축','b989035', 4)\n",
    "stu3 = Student('갱','전자','b989012', 2)"
   ]
  },
  {
   "cell_type": "code",
   "execution_count": null,
   "id": "e81283c9",
   "metadata": {},
   "outputs": [],
   "source": []
  }
 ],
 "metadata": {
  "kernelspec": {
   "display_name": "Python [conda env:data_env]",
   "language": "python",
   "name": "conda-env-data_env-py"
  },
  "language_info": {
   "codemirror_mode": {
    "name": "ipython",
    "version": 3
   },
   "file_extension": ".py",
   "mimetype": "text/x-python",
   "name": "python",
   "nbconvert_exporter": "python",
   "pygments_lexer": "ipython3",
   "version": "3.8.12"
  }
 },
 "nbformat": 4,
 "nbformat_minor": 5
}
