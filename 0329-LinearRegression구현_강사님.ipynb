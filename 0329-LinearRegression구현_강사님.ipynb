{
 "cells": [
  {
   "cell_type": "code",
   "execution_count": 2,
   "id": "2712878d",
   "metadata": {},
   "outputs": [
    {
     "name": "stdout",
     "output_type": "stream",
     "text": [
      "W : [[0.39223151]], b:[0.05433616], loss:38.4508460808067\n",
      "W : [[2.04667751]], b:[0.83147938], loss:0.005169151040819399\n",
      "W : [[2.01692779]], b:[0.93888531], loss:0.0006798364060827919\n",
      "W : [[2.00613893]], b:[0.97783651], loss:8.941072438895617e-05\n",
      "W : [[2.00222631]], b:[0.99196232], loss:1.175911964148545e-05\n",
      "W : [[2.00080738]], b:[0.9970851], loss:1.546535895863309e-06\n",
      "W : [[2.0002928]], b:[0.9989429], loss:2.033973077974383e-07\n",
      "W : [[2.00010619]], b:[0.99961664], loss:2.675040710675661e-08\n",
      "W : [[2.00003851]], b:[0.99986097], loss:3.5181600392871332e-09\n",
      "W : [[2.00001397]], b:[0.99994958], loss:4.6270137160419713e-10\n"
     ]
    }
   ],
   "source": [
    "import numpy as np\n",
    "\n",
    "# Training Data Set 준비\n",
    "# x_data => 독립변수(공부시간)\n",
    "x_data = np.array([1, 2, 3, 4, 5], dtype=np.float64).reshape(5,1)\n",
    "# t_data => 정답데이터(시험점수)\n",
    "t_data = np.array([3, 5, 7, 9, 11], dtype=np.float64).reshape(5,1)\n",
    "\n",
    "# Weight & bias 정의\n",
    "W = np.random.rand(1,1)  # 1행 1열짜리(값은 1개) ndarray를 만들고\n",
    "                         # 0과 1사이의 균등분포에서 실수 난수를 추출\n",
    "b = np.random.rand(1)     \n",
    "\n",
    "# predict function (예측 함수, 모델, hypothesis)\n",
    "def predict(x):\n",
    "    y = np.dot(x,W) + b\n",
    "    \n",
    "    return y\n",
    "\n",
    "\n",
    "# loss function\n",
    "def loss_func(input_data):   # loss 함수는 w와 b의 함수\n",
    "                             # input_data =>  [W b]\n",
    "    \n",
    "    input_W = input_data[0].reshape(1,1)\n",
    "    input_b = input_data[1]\n",
    "    \n",
    "    # 예측값\n",
    "    y = np.dot(x_data,input_W) + input_b\n",
    "    \n",
    "    # MSE를 구해요(평균제곱오차)\n",
    "    return np.mean(np.power(t_data-y,2))\n",
    "\n",
    "\n",
    "# 다변수 함수에 대한 수치미분을 수행하는 함수\n",
    "def numerical_derivative(f,x):    # x : ndarray [1.0  2.0]\n",
    "    \n",
    "    delta_x = 1e-4\n",
    "    derivative_x = np.zeros_like(x)   # derivative_x : [0.0  0.0]\n",
    "    \n",
    "    # iterator를 이용해서 입력변수 x에 대한 편미분을 수행!\n",
    "    it = np.nditer(x, flags=['multi_index'])\n",
    "    \n",
    "    while not it.finished:\n",
    "        \n",
    "        idx = it.multi_index \n",
    "        tmp = x[idx]              # tmp : 1.0\n",
    "        \n",
    "        x[idx] = tmp + delta_x    # x : ndarray [1.0001  2.0]\n",
    "        fx_plus_delta = f(x)\n",
    "        \n",
    "        x[idx] = tmp - delta_x    # x : ndarray [0.9999  2.0]  \n",
    "        fx_minus_delta = f(x)\n",
    "        \n",
    "        derivative_x[idx] = (fx_plus_delta - fx_minus_delta) / (2 * delta_x)\n",
    "        \n",
    "        x[idx] = tmp              #  x : ndarray [1.0  2.0]  \n",
    "        it.iternext()\n",
    "        \n",
    "    return derivative_x\n",
    "\n",
    "# learing rate의 값을 설정해야 해요!\n",
    "# learing rate는 우리가 설정해야 하는 값이예요. 학습이 진행되는 과정을\n",
    "# 살펴보면서 이 값을 적절하게 수정해야 해요! 초기에는 1e-4, 1e-3 정도로\n",
    "# 설정해서 사용해요!\n",
    "learning_rate = 1e-4\n",
    "\n",
    "\n",
    "# 학습과정을 진행!\n",
    "for step in range(300000):\n",
    "    \n",
    "    input_param = np.concatenate((W.ravel(), b.ravel()), axis=0)  # [W b]\n",
    "    derivative_result = learning_rate * numerical_derivative(loss_func, input_param)\n",
    "\n",
    "    W = W - derivative_result[0].reshape(1,1)\n",
    "    b = b - derivative_result[1]\n",
    "    \n",
    "    if step % 30000 == 0:\n",
    "        input_param = np.concatenate((W.ravel(), b.ravel()), axis=0)\n",
    "        print('W : {}, b:{}, loss:{}'.format(W, b, loss_func(input_param)))"
   ]
  },
  {
   "cell_type": "code",
   "execution_count": 3,
   "id": "a383d331",
   "metadata": {},
   "outputs": [
    {
     "name": "stdout",
     "output_type": "stream",
     "text": [
      "6시간 공부했을 때 점수 :  [[13.0000121]]\n"
     ]
    }
   ],
   "source": [
    "# 6시간 공부하면 몇점일지를 예측해 보아요!\n",
    "\n",
    "predict_date = predict(np.array([[6]]))\n",
    "print('6시간 공부했을 때 점수 : ', predict_date)"
   ]
  },
  {
   "cell_type": "code",
   "execution_count": 5,
   "id": "995e5a33",
   "metadata": {},
   "outputs": [
    {
     "name": "stdout",
     "output_type": "stream",
     "text": [
      "W: [[2.]], b: [1.]\n",
      "[[13.]]\n"
     ]
    }
   ],
   "source": [
    "# Python으로 아주 간단한 Simple Linear Regression을 이용해 머신러닝을\n",
    "# 구현해 보았어요!\n",
    "# sklearn (scikit-learn)  => 사용하려면 설치해야 겠죠!!!\n",
    "import numpy as np\n",
    "from sklearn import linear_model\n",
    "\n",
    "# Training Data Set\n",
    "x_data = np.array([1, 2, 3, 4, 5], dtype=np.float64).reshape(5,1)\n",
    "t_data = np.array([3, 5, 7, 9, 11], dtype=np.float64).reshape(5,1)\n",
    "\n",
    "# model 생성(Simple Linear Model) -> 완성된 모델은 아니지만 일단 모델을 생성\n",
    "model = linear_model.LinearRegression()\n",
    "\n",
    "# model 학습\n",
    "model.fit(x_data, t_data)\n",
    "\n",
    "# 학습이 끝났으니..구한 W와 b를 출력해 보아요!\n",
    "print('W: {}, b: {}'.format(model.coef_, model.intercept_))\n",
    "\n",
    "# model을 이용한 예측\n",
    "print(model.predict(np.array([[6]])))  # [[13.]]"
   ]
  },
  {
   "cell_type": "code",
   "execution_count": 14,
   "id": "679d48f7",
   "metadata": {},
   "outputs": [
    {
     "name": "stderr",
     "output_type": "stream",
     "text": [
      "C:\\Users\\campusseven02\\AppData\\Local\\Temp\\ipykernel_10848\\3566042649.py:57: SettingWithCopyWarning: \n",
      "A value is trying to be set on a copy of a slice from a DataFrame\n",
      "\n",
      "See the caveats in the documentation: https://pandas.pydata.org/pandas-docs/stable/user_guide/indexing.html#returning-a-view-versus-a-copy\n",
      "  training_data.dropna(how='any',\n"
     ]
    },
    {
     "name": "stdout",
     "output_type": "stream",
     "text": [
      "W : [[0.5037423]], b:[0.4038918], loss:889.4386781661431\n",
      "W : [[0.71863304]], b:[-11.87261885], loss:817.3549305998857\n",
      "W : [[0.86106835]], b:[-23.12728385], loss:775.0991223191764\n",
      "W : [[0.99163993]], b:[-33.4445244], loss:739.5893096705973\n",
      "W : [[1.11133592]], b:[-42.90242053], loss:709.7485174657936\n",
      "W : [[1.22106219]], b:[-51.57254882], loss:684.6717059318471\n",
      "W : [[1.32164913]], b:[-59.5205241], loss:663.598321807417\n",
      "W : [[1.41385798]], b:[-66.80649599], loss:645.8892315646888\n",
      "W : [[1.49838655]], b:[-73.48560413], loss:631.0073371629517\n",
      "W : [[1.57587457]], b:[-79.60839547], loss:618.5012864315527\n"
     ]
    }
   ],
   "source": [
    "# Ozone량 예측하는 모델을 만들어 보아요!\n",
    "# 데이터는 구글 드라이브에 공유된 CSV 파일을 이용할 꺼예요!\n",
    "# Python 구현부터 해 보아요!\n",
    "\n",
    "import numpy as np\n",
    "import pandas as pd\n",
    "import matplotlib.pyplot as plt\n",
    "\n",
    "################################################\n",
    "# 다변수 함수에 대한 수치미분을 수행하는 함수\n",
    "def numerical_derivative(f,x):    # x : ndarray [1.0  2.0]\n",
    "    \n",
    "    delta_x = 1e-4\n",
    "    derivative_x = np.zeros_like(x)   # derivative_x : [0.0  0.0]\n",
    "    \n",
    "    # iterator를 이용해서 입력변수 x에 대한 편미분을 수행!\n",
    "    it = np.nditer(x, flags=['multi_index'])\n",
    "    \n",
    "    while not it.finished:\n",
    "        \n",
    "        idx = it.multi_index \n",
    "        tmp = x[idx]              # tmp : 1.0\n",
    "        \n",
    "        x[idx] = tmp + delta_x    # x : ndarray [1.0001  2.0]\n",
    "        fx_plus_delta = f(x)\n",
    "        \n",
    "        x[idx] = tmp - delta_x    # x : ndarray [0.9999  2.0]  \n",
    "        fx_minus_delta = f(x)\n",
    "        \n",
    "        derivative_x[idx] = (fx_plus_delta - fx_minus_delta) / (2 * delta_x)\n",
    "        \n",
    "        x[idx] = tmp              #  x : ndarray [1.0  2.0]  \n",
    "        it.iternext()\n",
    "        \n",
    "    return derivative_x\n",
    "################################################\n",
    "\n",
    "# Raw Data Set Loading\n",
    "df = pd.read_csv('./data/ozone.csv')\n",
    "# display(df.head())\n",
    "\n",
    "# Ozoen(오존량) : 종속변수\n",
    "# Solar.R(태양광세기), Wind(바람), Temp(온도) : 독립변수\n",
    "# 우리는 지금 Simple Linear Regression을 하고 있기 때문에 독립변수 1개만\n",
    "# 사용. => 3개의 독립변수 중 Temp만 사용할꺼예요!\n",
    "# 온도에 따른 오존량 예측 모델을 만들어 보아요!\n",
    "\n",
    "training_data = df[['Ozone', 'Temp']]\n",
    "# display(training_data)\n",
    "# print(training_data.shape)  # (153, 2)\n",
    "\n",
    "# 데이터에 결치값이 존재해요!\n",
    "# training_data.info()\n",
    "# Missing Value(결치값)를 삭제하는 방법(데이터가 충분히 많을때 좋아요!)\n",
    "# Missing Value(결치값)를 다른 값으로 대체(데이터가 많이 없으면)\n",
    "# 여기서는 결치값을 삭제할꺼예요!\n",
    "training_data.dropna(how='any',\n",
    "                     inplace=True)   # how='any' : 결치가 존재하는 행을 삭제\n",
    "# training_data.info()\n",
    "\n",
    "# Training Data Set\n",
    "x_data = training_data['Temp'].values.reshape(-1,1)\n",
    "t_data = training_data['Ozone'].values.reshape(-1,1)\n",
    "\n",
    "# Weight, bias\n",
    "W = np.random.rand(1,1)\n",
    "b = np.random.rand(1)\n",
    "\n",
    "# loss function\n",
    "def loss_func(input_data):\n",
    "    W = input_data[0].reshape(1,1)\n",
    "    b = input_data[1]\n",
    "    \n",
    "    y = np.dot(x_data,W) + b\n",
    "    return np.mean(np.power(t_data-y,2))\n",
    "\n",
    "# predict\n",
    "def predict(x):\n",
    "    y = np.dot(x,W) + b\n",
    "    return y\n",
    "\n",
    "# learning_rate\n",
    "learning_rate = 1e-4\n",
    "\n",
    "# 반복 학습\n",
    "for step in range(300000):\n",
    "    \n",
    "    input_param = np.concatenate((W.ravel(), b.ravel()), axis=0)  # [W b]\n",
    "    derivative_result = learning_rate * numerical_derivative(loss_func, input_param)\n",
    "\n",
    "    W = W - derivative_result[0].reshape(1,1)\n",
    "    b = b - derivative_result[1]\n",
    "    \n",
    "    if step % 30000 == 0:\n",
    "        input_param = np.concatenate((W.ravel(), b.ravel()), axis=0)\n",
    "        print('W : {}, b:{}, loss:{}'.format(W, b, loss_func(input_param)))\n"
   ]
  },
  {
   "cell_type": "code",
   "execution_count": 15,
   "id": "13e92e60",
   "metadata": {},
   "outputs": [
    {
     "name": "stdout",
     "output_type": "stream",
     "text": [
      "온도가 62일때 오존량 : [[16.88715564]]\n"
     ]
    }
   ],
   "source": [
    "# 학습종료 후 예측 (Temp : 62)\n",
    "predict_data = predict(np.array([[62]]))\n",
    "print('온도가 62일때 오존량 : {}'.format(predict_data))  # [[16.88715564]]"
   ]
  },
  {
   "cell_type": "code",
   "execution_count": 17,
   "id": "d962a98a",
   "metadata": {},
   "outputs": [
    {
     "data": {
      "image/png": "[encoded data removed]",
      "text/plain": [
       "<Figure size 432x288 with 1 Axes>"
      ]
     },
     "metadata": {
      "needs_background": "light"
     },
     "output_type": "display_data"
    }
   ],
   "source": [
    "# 그래프로 표현해 보아요!\n",
    "plt.scatter(x_data.ravel(), t_data.ravel())\n",
    "plt.plot(x_data.ravel(), x_data.ravel()*W.ravel() + b, color='r')\n",
    "plt.show()"
   ]
  },
  {
   "cell_type": "code",
   "execution_count": 20,
   "id": "2dca8c31",
   "metadata": {},
   "outputs": [
    {
     "name": "stdout",
     "output_type": "stream",
     "text": [
      "sklearn으로 구한 온도가 62도 일때의 오존량 : [[3.58411393]]\n"
     ]
    },
    {
     "name": "stderr",
     "output_type": "stream",
     "text": [
      "C:\\Users\\campusseven02\\AppData\\Local\\Temp\\ipykernel_10848\\3247804505.py:9: SettingWithCopyWarning: \n",
      "A value is trying to be set on a copy of a slice from a DataFrame\n",
      "\n",
      "See the caveats in the documentation: https://pandas.pydata.org/pandas-docs/stable/user_guide/indexing.html#returning-a-view-versus-a-copy\n",
      "  training_data.dropna(how='any',\n"
     ]
    },
    {
     "data": {
      "image/png": "[encoded data removed]",
      "text/plain": [
       "<Figure size 432x288 with 1 Axes>"
      ]
     },
     "metadata": {
      "needs_background": "light"
     },
     "output_type": "display_data"
    }
   ],
   "source": [
    "# 같은 데이터로 sklearn을 이용해서 구현해 보아요!\n",
    "import numpy as np\n",
    "import pandas as pd\n",
    "import matplotlib.pyplot as plt\n",
    "from sklearn import linear_model\n",
    "\n",
    "df = pd.read_csv('./data/ozone.csv')\n",
    "training_data = df[['Ozone', 'Temp']]\n",
    "training_data.dropna(how='any',\n",
    "                     inplace=True)   # how='any' : 결치가 존재하는 행을 삭제\n",
    "\n",
    "# Training Data Set\n",
    "x_data = training_data['Temp'].values.reshape(-1,1)\n",
    "t_data = training_data['Ozone'].values.reshape(-1,1)\n",
    "\n",
    "# model 생성\n",
    "model = linear_model.LinearRegression()\n",
    "\n",
    "# model 학습\n",
    "model.fit(x_data, t_data)\n",
    "\n",
    "# 예측\n",
    "result = model.predict(np.array([[62]]))\n",
    "print('sklearn으로 구한 온도가 62도 일때의 오존량 : {}'.format(result))  \n",
    "# [[3.58411393]]\n",
    "\n",
    "# 그래프 표현\n",
    "plt.scatter(x_data.ravel(), t_data.ravel())\n",
    "plt.plot(x_data.ravel(), \n",
    "         x_data.ravel()*model.coef_.ravel() + model.intercept_, color='g')\n",
    "plt.show()"
   ]
  }
 ],
 "metadata": {
  "kernelspec": {
   "display_name": "Python [conda env:machine] *",
   "language": "python",
   "name": "conda-env-machine-py"
  },
  "language_info": {
   "codemirror_mode": {
    "name": "ipython",
    "version": 3
   },
   "file_extension": ".py",
   "mimetype": "text/x-python",
   "name": "python",
   "nbconvert_exporter": "python",
   "pygments_lexer": "ipython3",
   "version": "3.8.12"
  }
 },
 "nbformat": 4,
 "nbformat_minor": 5
}
